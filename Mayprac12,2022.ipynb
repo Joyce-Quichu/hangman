{
 "cells": [
  {
   "cell_type": "code",
   "execution_count": 1,
   "id": "4edf1c1f",
   "metadata": {},
   "outputs": [
    {
     "name": "stdout",
     "output_type": "stream",
     "text": [
      "[11, 13, 14, 15, 16, 17, 18, 19]\n"
     ]
    }
   ],
   "source": [
    "goat=[1,3,4,5,6,7,8,9]\n",
    "fox=[]\n",
    "for num in goat:\n",
    "    fox.append(num+10)\n",
    "print(fox)"
   ]
  },
  {
   "cell_type": "code",
   "execution_count": 4,
   "id": "40afe0c4",
   "metadata": {},
   "outputs": [
    {
     "name": "stdout",
     "output_type": "stream",
     "text": [
      "[3, 4, 6, 7, 11, 29, 31, 49]\n"
     ]
    }
   ],
   "source": [
    "cat=[2,3,5,6,10,28,30,48]\n",
    "mouse=[num+1 for num in cat]\n",
    "print(mouse)"
   ]
  },
  {
   "cell_type": "code",
   "execution_count": 8,
   "id": "35364ef2",
   "metadata": {},
   "outputs": [
    {
     "name": "stdout",
     "output_type": "stream",
     "text": [
      "[1, 2, 3, 4, 5, 6, 7, 8, 9, 10, 11, 12, 13, 14, 15, 16, 17, 18, 19, 20, 21, 22, 23, 24, 25, 26, 27, 28, 29, 30, 31, 32, 33, 34, 35, 36, 37, 38, 39, 40, 41, 42, 43, 44, 45, 46, 47, 48, 49, 50, 51, 52, 53, 54, 55, 56, 57, 58, 59, 60, 61, 62, 63, 64, 65, 66, 67, 68, 69, 70, 71, 72, 73, 74, 75, 76, 77, 78, 79, 80, 81, 82, 83, 84, 85, 86, 87, 88, 89, 90, 91, 92, 93, 94, 95, 96, 97, 98, 99, 100]\n"
     ]
    }
   ],
   "source": [
    "edge=[num for num in range(100)]\n",
    "gab=[]\n",
    "for num in edge:\n",
    "    gab.append(num+1)\n",
    "print(gab)"
   ]
  },
  {
   "cell_type": "code",
   "execution_count": 20,
   "id": "525a4a25",
   "metadata": {},
   "outputs": [
    {
     "name": "stdout",
     "output_type": "stream",
     "text": [
      "[['emma', 1.4, 'map', 467], ['ada', 28, 'map', 467], ['max', 67, 'map', 467], ['was', 'qun', 'map', 467]]\n"
     ]
    }
   ],
   "source": [
    "gem1=[['emma',1.4],['ada',28],['max',67],['was','qun']]\n",
    "hen=[]\n",
    "for num in gem1:\n",
    "    hen.append(num + ['map',467])\n",
    "print(hen)"
   ]
  },
  {
   "cell_type": "code",
   "execution_count": 21,
   "id": "30621f18",
   "metadata": {},
   "outputs": [
    {
     "data": {
      "text/plain": [
       "[['emma', 1.4], ['ada', 28], ['max', 67], ['was', 'qun']]"
      ]
     },
     "execution_count": 21,
     "metadata": {},
     "output_type": "execute_result"
    }
   ],
   "source": [
    "gem1"
   ]
  },
  {
   "cell_type": "code",
   "execution_count": 25,
   "id": "dc30cc35",
   "metadata": {},
   "outputs": [
    {
     "data": {
      "text/plain": [
       "[]"
      ]
     },
     "execution_count": 25,
     "metadata": {},
     "output_type": "execute_result"
    }
   ],
   "source": [
    "hen"
   ]
  },
  {
   "cell_type": "code",
   "execution_count": 27,
   "id": "72fba789",
   "metadata": {},
   "outputs": [
    {
     "data": {
      "text/plain": [
       "[['emma', 1.4], ['ada', 28], ['max', 67], ['was', 'qun']]"
      ]
     },
     "execution_count": 27,
     "metadata": {},
     "output_type": "execute_result"
    }
   ],
   "source": [
    "gem1"
   ]
  },
  {
   "cell_type": "code",
   "execution_count": 28,
   "id": "e36d7682",
   "metadata": {},
   "outputs": [
    {
     "data": {
      "text/plain": [
       "[['emma', 1.4], ['ada', 28], ['max', 67], ['was', 'qun'], ['tro', 15]]"
      ]
     },
     "execution_count": 28,
     "metadata": {},
     "output_type": "execute_result"
    }
   ],
   "source": [
    "gem1.append(['tro',15])\n",
    "gem1"
   ]
  },
  {
   "cell_type": "code",
   "execution_count": 29,
   "id": "429b2d46",
   "metadata": {},
   "outputs": [
    {
     "data": {
      "text/plain": [
       "[['emma', 1.4], ['ada', 28], ['max', 67], ['was', 'qun'], ['tro', 15]]"
      ]
     },
     "execution_count": 29,
     "metadata": {},
     "output_type": "execute_result"
    }
   ],
   "source": [
    "gem1"
   ]
  },
  {
   "cell_type": "code",
   "execution_count": 30,
   "id": "7fa7e2fc",
   "metadata": {},
   "outputs": [
    {
     "data": {
      "text/plain": [
       "[['emma', 1.4], ['ada', 28], ['max', 67]]"
      ]
     },
     "execution_count": 30,
     "metadata": {},
     "output_type": "execute_result"
    }
   ],
   "source": [
    "gem1[:3]"
   ]
  },
  {
   "cell_type": "code",
   "execution_count": 34,
   "id": "a0f3a42e",
   "metadata": {},
   "outputs": [
    {
     "data": {
      "text/plain": [
       "[['emma', 1.4], ['ada', 28]]"
      ]
     },
     "execution_count": 34,
     "metadata": {},
     "output_type": "execute_result"
    }
   ],
   "source": [
    "gem1[:2]"
   ]
  },
  {
   "cell_type": "code",
   "execution_count": 39,
   "id": "dfff184b",
   "metadata": {},
   "outputs": [
    {
     "name": "stdout",
     "output_type": "stream",
     "text": [
      "[5, 6, 7, 8, 11]\n"
     ]
    }
   ],
   "source": [
    "pig=[2,3,4,5,8]\n",
    "horse=[]\n",
    "for num in pig:\n",
    "    horse.append(num+3)\n",
    "print(horse)"
   ]
  },
  {
   "cell_type": "code",
   "execution_count": 41,
   "id": "f4433aa7",
   "metadata": {},
   "outputs": [
    {
     "name": "stdout",
     "output_type": "stream",
     "text": [
      "[2, 3, 4, 5, 6, 7, 8, 9, 10, 11, 12, 13, 14, 15, 16, 17, 18, 19, 20, 21, 22, 23, 24, 25, 26, 27, 28, 29, 30, 31, 32, 33, 34, 35, 36, 37, 38, 39, 40, 41, 42, 43, 44, 45, 46, 47, 48, 49, 50, 51, 52, 53, 54, 55, 56, 57, 58, 59, 60, 61, 62, 63, 64, 65, 66, 67, 68, 69, 70, 71, 72, 73, 74, 75, 76, 77, 78, 79, 80, 81, 82, 83, 84, 85, 86, 87, 88, 89, 90, 91, 92, 93, 94, 95, 96, 97, 98, 99, 100, 101]\n"
     ]
    }
   ],
   "source": [
    "hen=[num for num in range(100)]\n",
    "fowl=[]\n",
    "for num in range(100):\n",
    "    fowl.append(num+2)\n",
    "print(fowl)"
   ]
  },
  {
   "cell_type": "code",
   "execution_count": 42,
   "id": "0581a211",
   "metadata": {},
   "outputs": [
    {
     "name": "stdout",
     "output_type": "stream",
     "text": [
      "[13, 14, 15, 18]\n"
     ]
    }
   ],
   "source": [
    "ken=[3,4,5,8]\n",
    "jen=[]\n",
    "for num in ken:\n",
    "    jen.append(num+10)\n",
    "print(jen)"
   ]
  },
  {
   "cell_type": "code",
   "execution_count": 43,
   "id": "7ef18f70",
   "metadata": {},
   "outputs": [
    {
     "data": {
      "text/plain": [
       "[['emma', 1.4], ['ada', 28], ['max', 67], ['was', 'qun'], ['tro', 15]]"
      ]
     },
     "execution_count": 43,
     "metadata": {},
     "output_type": "execute_result"
    }
   ],
   "source": [
    "gem1"
   ]
  },
  {
   "cell_type": "code",
   "execution_count": 48,
   "id": "46e95676",
   "metadata": {},
   "outputs": [],
   "source": [
    "gem1.append(['was',10])"
   ]
  },
  {
   "cell_type": "code",
   "execution_count": 49,
   "id": "75a51158",
   "metadata": {},
   "outputs": [
    {
     "data": {
      "text/plain": [
       "[['emma', 1.4],\n",
       " ['ada', 28],\n",
       " ['max', 67],\n",
       " ['was', 'qun'],\n",
       " ['tro', 15],\n",
       " ['was', 10]]"
      ]
     },
     "execution_count": 49,
     "metadata": {},
     "output_type": "execute_result"
    }
   ],
   "source": [
    "gem1"
   ]
  },
  {
   "cell_type": "code",
   "execution_count": 50,
   "id": "83a7569f",
   "metadata": {},
   "outputs": [
    {
     "name": "stdout",
     "output_type": "stream",
     "text": [
      "[['max', 100, 'hub', 10], ['anna', 105, 'hub', 10], ['wish', 701, 'hub', 10], ['teg', 19, 'hub', 10], ['wat', 45, 'hub', 10], ['qun', 38, 'hub', 10]]\n"
     ]
    }
   ],
   "source": [
    "fam=[['max',100],['anna',105],['wish',701],['teg',19],['wat',45],['qun',38]]\n",
    "fam1=[]\n",
    "for num in fam:\n",
    "    fam1.append(num+['hub',10])\n",
    "print(fam1)"
   ]
  },
  {
   "cell_type": "code",
   "execution_count": null,
   "id": "16978de0",
   "metadata": {},
   "outputs": [],
   "source": []
  }
 ],
 "metadata": {
  "kernelspec": {
   "display_name": "Python 3 (ipykernel)",
   "language": "python",
   "name": "python3"
  },
  "language_info": {
   "codemirror_mode": {
    "name": "ipython",
    "version": 3
   },
   "file_extension": ".py",
   "mimetype": "text/x-python",
   "name": "python",
   "nbconvert_exporter": "python",
   "pygments_lexer": "ipython3",
   "version": "3.9.12"
  }
 },
 "nbformat": 4,
 "nbformat_minor": 5
}
