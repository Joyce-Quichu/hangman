{
 "cells": [
  {
   "cell_type": "code",
   "execution_count": 1,
   "id": "7649ddf1",
   "metadata": {},
   "outputs": [
    {
     "name": "stdout",
     "output_type": "stream",
     "text": [
      "[9, 10, 11, 12, 13]\n"
     ]
    }
   ],
   "source": [
    "fox=[1,2,3,4,5]\n",
    "rex=[]\n",
    "for num in fox:\n",
    "    rex.append(num+8)\n",
    "print(rex)"
   ]
  },
  {
   "cell_type": "code",
   "execution_count": 2,
   "id": "6ea793bf",
   "metadata": {},
   "outputs": [
    {
     "name": "stdout",
     "output_type": "stream",
     "text": [
      "[15, 16, 17, 18, 19, 20, 21, 22, 23, 24, 25, 26, 27, 28, 29, 30, 31, 32, 33, 34, 35, 36, 37, 38, 39, 40, 41, 42, 43, 44, 45, 46, 47, 48, 49, 50, 51, 52, 53, 54, 55, 56, 57, 58, 59, 60, 61, 62, 63, 64, 65, 66, 67, 68, 69, 70, 71, 72, 73, 74]\n"
     ]
    }
   ],
   "source": [
    "num1=[num for num in range(60)]\n",
    "mi=[]\n",
    "for num in num1:\n",
    "    mi.append(num+15)\n",
    "print(mi)"
   ]
  },
  {
   "cell_type": "code",
   "execution_count": 3,
   "id": "b8462d05",
   "metadata": {},
   "outputs": [
    {
     "name": "stdout",
     "output_type": "stream",
     "text": [
      "[['emma', 40], ['emma', 40], ['emma', 40], ['emma', 40]]\n"
     ]
    }
   ],
   "source": [
    "tem=[['met',18],['ten',20],['bag',40],['miss',5]]\n",
    "emm=[]\n",
    "for num in tem:\n",
    "    emm.append(['emma',40])\n",
    "print(emm)"
   ]
  },
  {
   "cell_type": "code",
   "execution_count": 5,
   "id": "3eb7d2b4",
   "metadata": {},
   "outputs": [],
   "source": [
    "tem.append(['emma',19])"
   ]
  },
  {
   "cell_type": "code",
   "execution_count": 6,
   "id": "bf7b1bc3",
   "metadata": {},
   "outputs": [
    {
     "data": {
      "text/plain": [
       "[['met', 18], ['ten', 20], ['bag', 40], ['miss', 5], ['emma', 19]]"
      ]
     },
     "execution_count": 6,
     "metadata": {},
     "output_type": "execute_result"
    }
   ],
   "source": [
    "tem"
   ]
  },
  {
   "cell_type": "code",
   "execution_count": null,
   "id": "c3ec0d7e",
   "metadata": {},
   "outputs": [],
   "source": []
  }
 ],
 "metadata": {
  "kernelspec": {
   "display_name": "Python 3 (ipykernel)",
   "language": "python",
   "name": "python3"
  },
  "language_info": {
   "codemirror_mode": {
    "name": "ipython",
    "version": 3
   },
   "file_extension": ".py",
   "mimetype": "text/x-python",
   "name": "python",
   "nbconvert_exporter": "python",
   "pygments_lexer": "ipython3",
   "version": "3.9.12"
  }
 },
 "nbformat": 4,
 "nbformat_minor": 5
}
