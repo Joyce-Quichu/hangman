{
 "cells": [
  {
   "cell_type": "code",
   "execution_count": 1,
   "id": "a75686ae",
   "metadata": {},
   "outputs": [
    {
     "name": "stdout",
     "output_type": "stream",
     "text": [
      "[['pan', 29, 'jen', 27], ['hen', 19, 'jen', 27], ['his', 40, 'jen', 27]]\n"
     ]
    }
   ],
   "source": [
    "pot=[['pan',29],['hen',19],['his',40]]\n",
    "pot1=[]\n",
    "for num in pot:\n",
    "    pot1.append(num+['jen',27])\n",
    "print(pot1)"
   ]
  },
  {
   "cell_type": "code",
   "execution_count": null,
   "id": "87dc9d81",
   "metadata": {},
   "outputs": [],
   "source": [
    "hen=[num for num in range(100)]\n",
    "map=[]\n",
    "for num in range(100):"
   ]
  }
 ],
 "metadata": {
  "kernelspec": {
   "display_name": "Python 3 (ipykernel)",
   "language": "python",
   "name": "python3"
  },
  "language_info": {
   "codemirror_mode": {
    "name": "ipython",
    "version": 3
   },
   "file_extension": ".py",
   "mimetype": "text/x-python",
   "name": "python",
   "nbconvert_exporter": "python",
   "pygments_lexer": "ipython3",
   "version": "3.9.12"
  }
 },
 "nbformat": 4,
 "nbformat_minor": 5
}
