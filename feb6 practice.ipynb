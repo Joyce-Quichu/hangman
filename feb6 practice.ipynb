{
 "cells": [
  {
   "cell_type": "code",
   "execution_count": 2,
   "metadata": {},
   "outputs": [
    {
     "name": "stdout",
     "output_type": "stream",
     "text": [
      "[1, 8, 27, 64, 125, 216, 343, 512, 729]\n"
     ]
    }
   ],
   "source": [
    "def fg(x):\n",
    "    return x**3\n",
    "\n",
    "li=[1,2,3,4,5,6,7,8,9]\n",
    "final_list=list(map(fg,li))\n",
    "print(final_list)\n",
    "    "
   ]
  },
  {
   "cell_type": "code",
   "execution_count": 3,
   "metadata": {},
   "outputs": [
    {
     "name": "stdout",
     "output_type": "stream",
     "text": [
      "[125, 343, 10648, 912673, 157464, 238328, 456533, 12167, 389017, 226981]\n"
     ]
    }
   ],
   "source": [
    "def fg(x):\n",
    "    return x**3\n",
    "li = [5, 7, 22, 97, 54, 62, 77, 23, 73, 61] \n",
    "final_list = list(map(fg, li)) \n",
    "print(final_list)"
   ]
  },
  {
   "cell_type": "code",
   "execution_count": 4,
   "metadata": {},
   "outputs": [],
   "source": [
    "def sorted_check(num):\n",
    "    li = []\n",
    "    sorted_num = 0\n",
    "    while num > 0:\n",
    "        mod = num % 10\n",
    "        li.append(mod)\n",
    "        num = num // 10\n",
    "    li = sorted(li)\n",
    "    for i in li:\n",
    "        sorted_num = sorted_num*10 + i\n",
    "    print(sorted_num)"
   ]
  },
  {
   "cell_type": "code",
   "execution_count": 5,
   "metadata": {},
   "outputs": [
    {
     "name": "stdout",
     "output_type": "stream",
     "text": [
      "13445899\n"
     ]
    }
   ],
   "source": [
    "sorted_check(148934509)"
   ]
  },
  {
   "cell_type": "code",
   "execution_count": 6,
   "metadata": {},
   "outputs": [],
   "source": [
    "def sorted_check(num):\n",
    "    li=[]\n",
    "    sorted_num=0\n",
    "    while num > 0:\n",
    "        mod=num%10\n",
    "        li.append(mod)\n",
    "        num=num//10\n",
    "    li=sorted(li)\n",
    "    for i in li:\n",
    "        sorted_num=sorted_num*10+i\n",
    "    print(sorted_num)\n",
    "    \n",
    "        "
   ]
  },
  {
   "cell_type": "code",
   "execution_count": 7,
   "metadata": {},
   "outputs": [
    {
     "name": "stdout",
     "output_type": "stream",
     "text": [
      "234455779\n"
     ]
    }
   ],
   "source": [
    "sorted_check(3294750457)"
   ]
  },
  {
   "cell_type": "code",
   "execution_count": 14,
   "metadata": {},
   "outputs": [],
   "source": [
    "class Animal:\n",
    "    Animal_type='cat'\n",
    "    def __init__(self,name,color):\n",
    "        self.name=name\n",
    "        self.color=color\n",
    "    def description(self):\n",
    "        return f'i like {self.name} when they are {self.color}'\n",
    "    \n"
   ]
  },
  {
   "cell_type": "code",
   "execution_count": 17,
   "metadata": {},
   "outputs": [
    {
     "name": "stdout",
     "output_type": "stream",
     "text": [
      "i like cat when they are black\n"
     ]
    }
   ],
   "source": [
    "obj=Animal('cat','black')\n",
    "print(obj.description())"
   ]
  },
  {
   "cell_type": "code",
   "execution_count": null,
   "metadata": {},
   "outputs": [],
   "source": []
  }
 ],
 "metadata": {
  "kernelspec": {
   "display_name": "Python 3",
   "language": "python",
   "name": "python3"
  },
  "language_info": {
   "codemirror_mode": {
    "name": "ipython",
    "version": 3
   },
   "file_extension": ".py",
   "mimetype": "text/x-python",
   "name": "python",
   "nbconvert_exporter": "python",
   "pygments_lexer": "ipython3",
   "version": "3.8.3"
  }
 },
 "nbformat": 4,
 "nbformat_minor": 4
}
