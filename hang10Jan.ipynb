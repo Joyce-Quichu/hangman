{
 "cells": [
  {
   "cell_type": "code",
   "execution_count": 4,
   "metadata": {},
   "outputs": [],
   "source": [
    "def so_check(num):\n",
    "    lst=[]\n",
    "    sort=0\n",
    "    while num>0:\n",
    "        mod=num%10\n",
    "        lst.append(mod)\n",
    "        num=num//10\n",
    "    lst=sort(lst)\n",
    "    for i in lst:\n",
    "        sort*sort*10+1\n",
    "    print(sort)\n",
    "    \n"
   ]
  },
  {
   "cell_type": "code",
   "execution_count": 5,
   "metadata": {},
   "outputs": [
    {
     "ename": "TypeError",
     "evalue": "'int' object is not callable",
     "output_type": "error",
     "traceback": [
      "\u001b[0;31m---------------------------------------------------------------------------\u001b[0m",
      "\u001b[0;31mTypeError\u001b[0m                                 Traceback (most recent call last)",
      "\u001b[0;32m<ipython-input-5-84188c5116f3>\u001b[0m in \u001b[0;36m<module>\u001b[0;34m\u001b[0m\n\u001b[0;32m----> 1\u001b[0;31m \u001b[0mso_check\u001b[0m\u001b[0;34m(\u001b[0m\u001b[0;36m80123790\u001b[0m\u001b[0;34m)\u001b[0m\u001b[0;34m\u001b[0m\u001b[0;34m\u001b[0m\u001b[0m\n\u001b[0m",
      "\u001b[0;32m<ipython-input-4-3c614e3c1e01>\u001b[0m in \u001b[0;36mso_check\u001b[0;34m(num)\u001b[0m\n\u001b[1;32m      6\u001b[0m         \u001b[0mlst\u001b[0m\u001b[0;34m.\u001b[0m\u001b[0mappend\u001b[0m\u001b[0;34m(\u001b[0m\u001b[0mmod\u001b[0m\u001b[0;34m)\u001b[0m\u001b[0;34m\u001b[0m\u001b[0;34m\u001b[0m\u001b[0m\n\u001b[1;32m      7\u001b[0m         \u001b[0mnum\u001b[0m\u001b[0;34m=\u001b[0m\u001b[0mnum\u001b[0m\u001b[0;34m//\u001b[0m\u001b[0;36m10\u001b[0m\u001b[0;34m\u001b[0m\u001b[0;34m\u001b[0m\u001b[0m\n\u001b[0;32m----> 8\u001b[0;31m     \u001b[0mlst\u001b[0m\u001b[0;34m=\u001b[0m\u001b[0msort\u001b[0m\u001b[0;34m(\u001b[0m\u001b[0mlst\u001b[0m\u001b[0;34m)\u001b[0m\u001b[0;34m\u001b[0m\u001b[0;34m\u001b[0m\u001b[0m\n\u001b[0m\u001b[1;32m      9\u001b[0m     \u001b[0;32mfor\u001b[0m \u001b[0mi\u001b[0m \u001b[0;32min\u001b[0m \u001b[0mlst\u001b[0m\u001b[0;34m:\u001b[0m\u001b[0;34m\u001b[0m\u001b[0;34m\u001b[0m\u001b[0m\n\u001b[1;32m     10\u001b[0m         \u001b[0msort\u001b[0m\u001b[0;34m*\u001b[0m\u001b[0msort\u001b[0m\u001b[0;34m*\u001b[0m\u001b[0;36m10\u001b[0m\u001b[0;34m+\u001b[0m\u001b[0;36m1\u001b[0m\u001b[0;34m\u001b[0m\u001b[0;34m\u001b[0m\u001b[0m\n",
      "\u001b[0;31mTypeError\u001b[0m: 'int' object is not callable"
     ]
    }
   ],
   "source": [
    "so_check(80123790)"
   ]
  },
  {
   "cell_type": "code",
   "execution_count": 6,
   "metadata": {},
   "outputs": [
    {
     "name": "stdout",
     "output_type": "stream",
     "text": [
      "your guessed animal:[]\n",
      "animal to guessed:_ _ _ _ _ \n",
      "female:7\n"
     ]
    },
    {
     "ename": "KeyboardInterrupt",
     "evalue": "Interrupted by user",
     "output_type": "error",
     "traceback": [
      "\u001b[0;31m---------------------------------------------------------------------------\u001b[0m",
      "\u001b[0;31mKeyboardInterrupt\u001b[0m                         Traceback (most recent call last)",
      "\u001b[0;32m<ipython-input-6-bf78edc98f8c>\u001b[0m in \u001b[0;36m<module>\u001b[0;34m\u001b[0m\n\u001b[1;32m     10\u001b[0m     \u001b[0mprint\u001b[0m\u001b[0;34m(\u001b[0m\u001b[0;34m'animal to guessed:{}'\u001b[0m\u001b[0;34m.\u001b[0m\u001b[0mformat\u001b[0m\u001b[0;34m(\u001b[0m\u001b[0mhidden_word\u001b[0m\u001b[0;34m)\u001b[0m\u001b[0;34m)\u001b[0m\u001b[0;34m\u001b[0m\u001b[0;34m\u001b[0m\u001b[0m\n\u001b[1;32m     11\u001b[0m     \u001b[0mprint\u001b[0m\u001b[0;34m(\u001b[0m\u001b[0;34m'female:{}'\u001b[0m\u001b[0;34m.\u001b[0m\u001b[0mformat\u001b[0m\u001b[0;34m(\u001b[0m\u001b[0mfemale\u001b[0m\u001b[0;34m)\u001b[0m\u001b[0;34m)\u001b[0m\u001b[0;34m\u001b[0m\u001b[0;34m\u001b[0m\u001b[0m\n\u001b[0;32m---> 12\u001b[0;31m     \u001b[0mans\u001b[0m\u001b[0;34m=\u001b[0m\u001b[0minput\u001b[0m\u001b[0;34m(\u001b[0m\u001b[0;34m'type quit or guess a letter'\u001b[0m\u001b[0;34m)\u001b[0m\u001b[0;34m.\u001b[0m\u001b[0mlower\u001b[0m\u001b[0;34m(\u001b[0m\u001b[0;34m)\u001b[0m\u001b[0;34m\u001b[0m\u001b[0;34m\u001b[0m\u001b[0m\n\u001b[0m\u001b[1;32m     13\u001b[0m     \u001b[0;32mif\u001b[0m \u001b[0mans\u001b[0m\u001b[0;34m==\u001b[0m\u001b[0;34m'quit'\u001b[0m\u001b[0;34m:\u001b[0m\u001b[0;34m\u001b[0m\u001b[0;34m\u001b[0m\u001b[0m\n\u001b[1;32m     14\u001b[0m         \u001b[0mprint\u001b[0m\u001b[0;34m(\u001b[0m\u001b[0;34m'you have a male avatar.thanks'\u001b[0m\u001b[0;34m)\u001b[0m\u001b[0;34m\u001b[0m\u001b[0;34m\u001b[0m\u001b[0m\n",
      "\u001b[0;32m/opt/anaconda3/lib/python3.8/site-packages/ipykernel/kernelbase.py\u001b[0m in \u001b[0;36mraw_input\u001b[0;34m(self, prompt)\u001b[0m\n\u001b[1;32m    858\u001b[0m                 \u001b[0;34m\"raw_input was called, but this frontend does not support input requests.\"\u001b[0m\u001b[0;34m\u001b[0m\u001b[0;34m\u001b[0m\u001b[0m\n\u001b[1;32m    859\u001b[0m             )\n\u001b[0;32m--> 860\u001b[0;31m         return self._input_request(str(prompt),\n\u001b[0m\u001b[1;32m    861\u001b[0m             \u001b[0mself\u001b[0m\u001b[0;34m.\u001b[0m\u001b[0m_parent_ident\u001b[0m\u001b[0;34m,\u001b[0m\u001b[0;34m\u001b[0m\u001b[0;34m\u001b[0m\u001b[0m\n\u001b[1;32m    862\u001b[0m             \u001b[0mself\u001b[0m\u001b[0;34m.\u001b[0m\u001b[0m_parent_header\u001b[0m\u001b[0;34m,\u001b[0m\u001b[0;34m\u001b[0m\u001b[0;34m\u001b[0m\u001b[0m\n",
      "\u001b[0;32m/opt/anaconda3/lib/python3.8/site-packages/ipykernel/kernelbase.py\u001b[0m in \u001b[0;36m_input_request\u001b[0;34m(self, prompt, ident, parent, password)\u001b[0m\n\u001b[1;32m    902\u001b[0m             \u001b[0;32mexcept\u001b[0m \u001b[0mKeyboardInterrupt\u001b[0m\u001b[0;34m:\u001b[0m\u001b[0;34m\u001b[0m\u001b[0;34m\u001b[0m\u001b[0m\n\u001b[1;32m    903\u001b[0m                 \u001b[0;31m# re-raise KeyboardInterrupt, to truncate traceback\u001b[0m\u001b[0;34m\u001b[0m\u001b[0;34m\u001b[0m\u001b[0;34m\u001b[0m\u001b[0m\n\u001b[0;32m--> 904\u001b[0;31m                 \u001b[0;32mraise\u001b[0m \u001b[0mKeyboardInterrupt\u001b[0m\u001b[0;34m(\u001b[0m\u001b[0;34m\"Interrupted by user\"\u001b[0m\u001b[0;34m)\u001b[0m \u001b[0;32mfrom\u001b[0m \u001b[0;32mNone\u001b[0m\u001b[0;34m\u001b[0m\u001b[0;34m\u001b[0m\u001b[0m\n\u001b[0m\u001b[1;32m    905\u001b[0m             \u001b[0;32mexcept\u001b[0m \u001b[0mException\u001b[0m \u001b[0;32mas\u001b[0m \u001b[0me\u001b[0m\u001b[0;34m:\u001b[0m\u001b[0;34m\u001b[0m\u001b[0;34m\u001b[0m\u001b[0m\n\u001b[1;32m    906\u001b[0m                 \u001b[0mself\u001b[0m\u001b[0;34m.\u001b[0m\u001b[0mlog\u001b[0m\u001b[0;34m.\u001b[0m\u001b[0mwarning\u001b[0m\u001b[0;34m(\u001b[0m\u001b[0;34m\"Invalid Message:\"\u001b[0m\u001b[0;34m,\u001b[0m \u001b[0mexc_info\u001b[0m\u001b[0;34m=\u001b[0m\u001b[0;32mTrue\u001b[0m\u001b[0;34m)\u001b[0m\u001b[0;34m\u001b[0m\u001b[0;34m\u001b[0m\u001b[0m\n",
      "\u001b[0;31mKeyboardInterrupt\u001b[0m: Interrupted by user"
     ]
    }
   ],
   "source": [
    "from random import choice\n",
    "from IPython.display import clear_output\n",
    "animals=['bear','dragon','koala','lion','tiger','giraff']\n",
    "animal=choice(animals)\n",
    "guessed, female, male= [], 7, False\n",
    "guesses=['_ '] * len(animal)\n",
    "while not male:\n",
    "    hidden_word = ''.join(guesses)\n",
    "    print('your guessed animal:{}'.format(guessed))\n",
    "    print('animal to guessed:{}'.format(hidden_word))\n",
    "    print('female:{}'.format(female))\n",
    "    ans=input('type quit or guess a letter').lower()\n",
    "    if ans=='quit':\n",
    "        print('you have a male avatar.thanks')\n",
    "        male=True\n",
    "    elif ans in animal and ans not in guessed:\n",
    "        print('you guessed correctly')\n",
    "        for i in range(len(animal)):\n",
    "            if animal[i] == ans:\n",
    "                guesses[i] = ans\n",
    "    elif ans in guessed:\n",
    "        print('you guessed that already.try again')\n",
    "    else:\n",
    "        female-=1\n",
    "        print('we run the world')\n",
    "    if ans not in guessed:\n",
    "        guessed.append(ans)\n",
    "    if female<=0:\n",
    "        print('you are in the winning team')\n",
    "        male=True\n",
    "    elif animal==''.join(guesses):\n",
    "        print('great')"
   ]
  },
  {
   "cell_type": "code",
   "execution_count": 7,
   "metadata": {},
   "outputs": [],
   "source": [
    "#selection sort\n",
    "def sorted_check(num):\n",
    "    li = []\n",
    "    sorted_num = 0\n",
    "    while num > 0:\n",
    "        mod = num % 10\n",
    "        li.append(mod)\n",
    "        num = num // 10\n",
    "    li = sorted(li)\n",
    "    for i in li:\n",
    "        sorted_num = sorted_num*10 + i\n",
    "    print(sorted_num)"
   ]
  },
  {
   "cell_type": "code",
   "execution_count": 8,
   "metadata": {},
   "outputs": [
    {
     "name": "stdout",
     "output_type": "stream",
     "text": [
      "345677789\n"
     ]
    }
   ],
   "source": [
    "sorted_check(379457867)"
   ]
  },
  {
   "cell_type": "code",
   "execution_count": 25,
   "metadata": {},
   "outputs": [],
   "source": [
    "#bubble sort\n",
    "\n",
    "def bubble_sort(li):\n",
    "    for i in range(len(li)):\n",
    "        n=len(li)\n",
    "        for j in range(n-i-1):\n",
    "            if li[j]>li[j+1]:\n",
    "                li[j],li[j+1]=li[j+1],li[j]\n",
    "    return(li)\n",
    "\n"
   ]
  },
  {
   "cell_type": "code",
   "execution_count": 27,
   "metadata": {},
   "outputs": [
    {
     "data": {
      "text/plain": [
       "[0, 2, 4, 5, 8, 9]"
      ]
     },
     "execution_count": 27,
     "metadata": {},
     "output_type": "execute_result"
    }
   ],
   "source": [
    "bubble_sort([2,8,5,9,0,4])"
   ]
  },
  {
   "cell_type": "code",
   "execution_count": 41,
   "metadata": {},
   "outputs": [
    {
     "name": "stdout",
     "output_type": "stream",
     "text": [
      "[5, 1, 2]\n",
      "[19, 9, 22]\n"
     ]
    }
   ],
   "source": [
    "\n",
    "X=[[0,1],\n",
    "   [2,3]]\n",
    "      \n",
    "    \n",
    "Y=[[2,3,8],\n",
    "   [5,1,2]]\n",
    "    \n",
    "ans=[[0,0,0],\n",
    "    [0,0,0]]\n",
    "for i in range(len(X[0])):\n",
    "    for j in range(len(Y[0])):\n",
    "        for k in range(len(Y)):\n",
    "            ans[i][j]+=X[i][k]*Y[k][j]\n",
    "for r in ans:\n",
    "    print(r)"
   ]
  },
  {
   "cell_type": "code",
   "execution_count": 2,
   "metadata": {},
   "outputs": [
    {
     "name": "stdout",
     "output_type": "stream",
     "text": [
      "value for first row2\n",
      "value for the first column2\n",
      "value for the second row2\n",
      "value of the second column2\n",
      "enter first metrix elements\n",
      "enter the num1\n",
      "enter the num2\n",
      "enter the num3\n",
      "enter the num4\n",
      "enter second metrix element\n",
      "enter the num for second metrix1\n",
      "enter the num for second metrix2\n",
      "enter the num for second metrix3\n",
      "enter the num for second metrix4\n",
      "first metrix\n",
      "[[1, 2], [3, 4]]\n",
      "second metrix\n",
      "[[1, 2], [3, 4]]\n",
      "the result of mul\n",
      "\t 7 \t 10 \n",
      "\n",
      "\t 15 \t 22 \n",
      "\n"
     ]
    }
   ],
   "source": [
    "def metrix_mul(metrix):\n",
    "    for i in range(len(metrix)):\n",
    "        for j in range(len(metrix)):\n",
    "            print('\\t',metrix[i][j],end=' ')\n",
    "        print('\\n')\n",
    "def main():\n",
    "    m=int(input('value for first row'))\n",
    "    n=int(input('value for the first column'))\n",
    "    p=int(input('value for the second row'))\n",
    "    q=int(input('value of the second column'))\n",
    "    if n!=p:\n",
    "          print('metrix mul not possible')\n",
    "          exit();\n",
    "    \n",
    "    arr1=[[0 for j in range (0,n)] for i in range(0,m)]\n",
    "    arr2=[[0 for j in range (0,q)] for i in range(0,p)]\n",
    "    result=[[0 for j in range(0,q)] for i in range(0,m)]\n",
    "    \n",
    "    print('enter first metrix elements')\n",
    "    for i in range(0,m):\n",
    "        for j in range(0,n):\n",
    "            arr1[i][j]=int(input('enter the num'))\n",
    "    print('enter second metrix element')\n",
    "    for i in range(0,p):\n",
    "        for j in range(0,q):\n",
    "            arr2[i][j]=int(input('enter the num for second metrix'))\n",
    "    print('first metrix')\n",
    "    print(arr1)\n",
    "    print('second metrix')\n",
    "    print(arr2)\n",
    "                           \n",
    "    for i in range(0,m):\n",
    "        for j in range(0,q):\n",
    "            for k in range(0,n):\n",
    "                result[i][j]+=arr1[i][k]*arr2[k][j]\n",
    "    print('the result of mul')\n",
    "    metrix_mul(result)\n",
    "main()\n",
    "            \n",
    "                             \n",
    "                    \n",
    "          \n",
    "                  \n"
   ]
  },
  {
   "cell_type": "code",
   "execution_count": null,
   "metadata": {},
   "outputs": [],
   "source": []
  }
 ],
 "metadata": {
  "kernelspec": {
   "display_name": "Python 3",
   "language": "python",
   "name": "python3"
  },
  "language_info": {
   "codemirror_mode": {
    "name": "ipython",
    "version": 3
   },
   "file_extension": ".py",
   "mimetype": "text/x-python",
   "name": "python",
   "nbconvert_exporter": "python",
   "pygments_lexer": "ipython3",
   "version": "3.8.3"
  }
 },
 "nbformat": 4,
 "nbformat_minor": 4
}
