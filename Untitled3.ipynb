{
 "cells": [
  {
   "cell_type": "code",
   "execution_count": 1,
   "metadata": {},
   "outputs": [
    {
     "ename": "KeyboardInterrupt",
     "evalue": "Interrupted by user",
     "output_type": "error",
     "traceback": [
      "\u001b[0;31m---------------------------------------------------------------------------\u001b[0m",
      "\u001b[0;31mKeyboardInterrupt\u001b[0m                         Traceback (most recent call last)",
      "\u001b[0;32m<ipython-input-1-1bc623be80a2>\u001b[0m in \u001b[0;36m<module>\u001b[0;34m\u001b[0m\n\u001b[0;32m----> 1\u001b[0;31m \u001b[0mnum\u001b[0m\u001b[0;34m=\u001b[0m\u001b[0mint\u001b[0m\u001b[0;34m(\u001b[0m\u001b[0minput\u001b[0m\u001b[0;34m(\u001b[0m\u001b[0;34m'user number'\u001b[0m\u001b[0;34m)\u001b[0m\u001b[0;34m)\u001b[0m\u001b[0;34m\u001b[0m\u001b[0;34m\u001b[0m\u001b[0m\n\u001b[0m\u001b[1;32m      2\u001b[0m \u001b[0mnum_1\u001b[0m\u001b[0;34m=\u001b[0m\u001b[0mint\u001b[0m\u001b[0;34m(\u001b[0m\u001b[0minput\u001b[0m\u001b[0;34m(\u001b[0m\u001b[0;34m'user number'\u001b[0m\u001b[0;34m)\u001b[0m\u001b[0;34m)\u001b[0m\u001b[0;34m\u001b[0m\u001b[0;34m\u001b[0m\u001b[0m\n\u001b[1;32m      3\u001b[0m \u001b[0ma_sum\u001b[0m\u001b[0;34m=\u001b[0m\u001b[0;36m0\u001b[0m\u001b[0;34m\u001b[0m\u001b[0;34m\u001b[0m\u001b[0m\n\u001b[1;32m      4\u001b[0m \u001b[0;32mfor\u001b[0m \u001b[0mi\u001b[0m \u001b[0;32min\u001b[0m \u001b[0mrange\u001b[0m\u001b[0;34m(\u001b[0m\u001b[0mnum\u001b[0m\u001b[0;34m,\u001b[0m\u001b[0mnum_1\u001b[0m\u001b[0;34m+\u001b[0m\u001b[0;36m1\u001b[0m\u001b[0;34m)\u001b[0m\u001b[0;34m:\u001b[0m\u001b[0;34m\u001b[0m\u001b[0;34m\u001b[0m\u001b[0m\n\u001b[1;32m      5\u001b[0m       \u001b[0ma_sum\u001b[0m\u001b[0;34m=\u001b[0m\u001b[0ma_sum\u001b[0m\u001b[0;34m+\u001b[0m\u001b[0mi\u001b[0m\u001b[0;34m\u001b[0m\u001b[0;34m\u001b[0m\u001b[0m\n",
      "\u001b[0;32m/opt/anaconda3/lib/python3.8/site-packages/ipykernel/kernelbase.py\u001b[0m in \u001b[0;36mraw_input\u001b[0;34m(self, prompt)\u001b[0m\n\u001b[1;32m    858\u001b[0m                 \u001b[0;34m\"raw_input was called, but this frontend does not support input requests.\"\u001b[0m\u001b[0;34m\u001b[0m\u001b[0;34m\u001b[0m\u001b[0m\n\u001b[1;32m    859\u001b[0m             )\n\u001b[0;32m--> 860\u001b[0;31m         return self._input_request(str(prompt),\n\u001b[0m\u001b[1;32m    861\u001b[0m             \u001b[0mself\u001b[0m\u001b[0;34m.\u001b[0m\u001b[0m_parent_ident\u001b[0m\u001b[0;34m,\u001b[0m\u001b[0;34m\u001b[0m\u001b[0;34m\u001b[0m\u001b[0m\n\u001b[1;32m    862\u001b[0m             \u001b[0mself\u001b[0m\u001b[0;34m.\u001b[0m\u001b[0m_parent_header\u001b[0m\u001b[0;34m,\u001b[0m\u001b[0;34m\u001b[0m\u001b[0;34m\u001b[0m\u001b[0m\n",
      "\u001b[0;32m/opt/anaconda3/lib/python3.8/site-packages/ipykernel/kernelbase.py\u001b[0m in \u001b[0;36m_input_request\u001b[0;34m(self, prompt, ident, parent, password)\u001b[0m\n\u001b[1;32m    902\u001b[0m             \u001b[0;32mexcept\u001b[0m \u001b[0mKeyboardInterrupt\u001b[0m\u001b[0;34m:\u001b[0m\u001b[0;34m\u001b[0m\u001b[0;34m\u001b[0m\u001b[0m\n\u001b[1;32m    903\u001b[0m                 \u001b[0;31m# re-raise KeyboardInterrupt, to truncate traceback\u001b[0m\u001b[0;34m\u001b[0m\u001b[0;34m\u001b[0m\u001b[0;34m\u001b[0m\u001b[0m\n\u001b[0;32m--> 904\u001b[0;31m                 \u001b[0;32mraise\u001b[0m \u001b[0mKeyboardInterrupt\u001b[0m\u001b[0;34m(\u001b[0m\u001b[0;34m\"Interrupted by user\"\u001b[0m\u001b[0;34m)\u001b[0m \u001b[0;32mfrom\u001b[0m \u001b[0;32mNone\u001b[0m\u001b[0;34m\u001b[0m\u001b[0;34m\u001b[0m\u001b[0m\n\u001b[0m\u001b[1;32m    905\u001b[0m             \u001b[0;32mexcept\u001b[0m \u001b[0mException\u001b[0m \u001b[0;32mas\u001b[0m \u001b[0me\u001b[0m\u001b[0;34m:\u001b[0m\u001b[0;34m\u001b[0m\u001b[0;34m\u001b[0m\u001b[0m\n\u001b[1;32m    906\u001b[0m                 \u001b[0mself\u001b[0m\u001b[0;34m.\u001b[0m\u001b[0mlog\u001b[0m\u001b[0;34m.\u001b[0m\u001b[0mwarning\u001b[0m\u001b[0;34m(\u001b[0m\u001b[0;34m\"Invalid Message:\"\u001b[0m\u001b[0;34m,\u001b[0m \u001b[0mexc_info\u001b[0m\u001b[0;34m=\u001b[0m\u001b[0;32mTrue\u001b[0m\u001b[0;34m)\u001b[0m\u001b[0;34m\u001b[0m\u001b[0;34m\u001b[0m\u001b[0m\n",
      "\u001b[0;31mKeyboardInterrupt\u001b[0m: Interrupted by user"
     ]
    }
   ],
   "source": [
    "num=int(input('user number'))\n",
    "num_1=int(input('user number'))\n",
    "a_sum=0\n",
    "for i in range(num,num_1+1):\n",
    "      a_sum=a_sum+i\n",
    "print(a_sum)\n",
    "      "
   ]
  },
  {
   "cell_type": "code",
   "execution_count": null,
   "metadata": {},
   "outputs": [],
   "source": [
    "num = int(input())\n",
    "num_2 = int(input())\n",
    "sum = 0\n",
    "for i in range(num_2,num+1):\n",
    "    sum = sum+i\n",
    "print(sum)"
   ]
  },
  {
   "cell_type": "code",
   "execution_count": null,
   "metadata": {},
   "outputs": [],
   "source": [
    "age=int(input('how old are you'))\n",
    "if age >= 0 and age <= 12:\n",
    "        print('kid')\n",
    "elif age>=13 and age<=19:\n",
    "        print('teenager')\n",
    "elif age>=20 and age<=30:\n",
    "        print('young adult')\n",
    "elif age>=31 and age<=64:\n",
    "        print('adult')\n",
    "else:\n",
    "        print('senoir')\n",
    "        "
   ]
  },
  {
   "cell_type": "code",
   "execution_count": null,
   "metadata": {},
   "outputs": [],
   "source": [
    "age = int(input('How old are you? '))\n",
    "\n",
    "if age >= 0 and age <= 12:\n",
    "    print('Kid')\n",
    "elif age >= 13 and age <= 19:\n",
    "    print('Teenager')\n",
    "elif age >= 20 and age <= 30:\n",
    "    print('Young Adult')\n",
    "elif age >= 31 and age <= 64:\n",
    "    print('Adult')\n",
    "elif age >= 65:\n",
    "    print('Senior')"
   ]
  },
  {
   "cell_type": "code",
   "execution_count": null,
   "metadata": {},
   "outputs": [],
   "source": [
    "\n",
    "#Text-Based RPG: This is an open-ended exercise. Create a text-based RPG with a storyline. You take user input, give them a couple choices and depending on what they choose, they can go down a different path. You'll use several branching statements depending on the length of the story.\n",
    "# step 1: ask user for calculation to be performed\n",
    "operation = input('Would you like to add/subtract/multiply/divide? ').lower()\n",
    "\n",
    "# step 2: ask for numbers, alert order matters for subtracting or dividing\n",
    "if operation == 'subtract' or operation == 'divide':\n",
    "    print('You chose {}.'.format(operation))\n",
    "    print('Please keep in mind that the order of your numbers matter.')\n",
    "\n",
    "num1 = input('What is the first number? ')\n",
    "num2 = input('What is the second number? ')\n",
    "\n",
    "# step 3: setup try/except for mathematical operation\n",
    "try:\n",
    "    # step 3a: immediately try to convert numbers input to floats\n",
    "    num1, num2 = float(num1), float(num2)\n",
    "    \n",
    "    # step 3b: perform operation and print result\n",
    "    if operation == 'add':\n",
    "        result = num1 + num2\n",
    "        print('{} + {} = {}'.format(num1, num2, result))\n",
    "    elif operation == 'subtract':\n",
    "        print('Currently you are performing {} - {}'.format(num1, num2))\n",
    "        ans = input('Would you like to reverse the numbers? (y/n) ')\n",
    "        \n",
    "        # reverse the numbers\n",
    "        if ans == 'y':\n",
    "            num1, num2 = num2, num1   # called an in-place swap\n",
    "            \n",
    "        result = num1 / num2\n",
    "        print('{} / {} = {}'.format(num1, num2, result))\n",
    "    else:\n",
    "        # else will be hit if they didn't chose an option correctly\n",
    "        print('Sorry, but \"{}\" is not an option.'.format(operation))\n",
    "except:\n",
    "    # step 3c: print error\n",
    "    print('Error: Improper numbers used. Please try again.')\n",
    "        "
   ]
  },
  {
   "cell_type": "code",
   "execution_count": null,
   "metadata": {},
   "outputs": [],
   "source": [
    "\n",
    "a=str(input('word'))\n",
    "for letter in a:\n",
    "      if letter in ['a','i','e','o','u']:\n",
    "             print(letter)\n",
    "      \n",
    "\n"
   ]
  },
  {
   "cell_type": "code",
   "execution_count": null,
   "metadata": {},
   "outputs": [],
   "source": [
    "row = int(input('enter the number'))\n",
    "\n",
    "for i in range(row):\n",
    "    print(' ' * (row - i) + ' *' * i)\n",
    "    "
   ]
  },
  {
   "cell_type": "code",
   "execution_count": null,
   "metadata": {},
   "outputs": [],
   "source": [
    "row = int(input('enter the number'))\n",
    "\n",
    "for i in range(row):\n",
    "    print(' ' *(row - i) + ' *'* i)"
   ]
  },
  {
   "cell_type": "code",
   "execution_count": null,
   "metadata": {},
   "outputs": [],
   "source": [
    "exp=[2200,2350,2600,2130,2190]\n",
    "exp[1]-exp[0]\n",
    "\n"
   ]
  },
  {
   "cell_type": "code",
   "execution_count": null,
   "metadata": {},
   "outputs": [],
   "source": [
    "exp[0]+exp[1]+exp[2]"
   ]
  },
  {
   "cell_type": "code",
   "execution_count": null,
   "metadata": {},
   "outputs": [],
   "source": [
    "if exp==2000:\n",
    "    print(True)\n",
    "else:\n",
    "    print(False)\n"
   ]
  },
  {
   "cell_type": "code",
   "execution_count": null,
   "metadata": {},
   "outputs": [],
   "source": [
    "exp.append(1980)\n",
    "exp"
   ]
  },
  {
   "cell_type": "code",
   "execution_count": null,
   "metadata": {},
   "outputs": [],
   "source": [
    "exp[3]=exp[3]+200\n"
   ]
  },
  {
   "cell_type": "code",
   "execution_count": null,
   "metadata": {},
   "outputs": [],
   "source": [
    "exp"
   ]
  },
  {
   "cell_type": "code",
   "execution_count": null,
   "metadata": {},
   "outputs": [],
   "source": [
    "num=int(input('any number'))\n",
    "for i in range(1,num):\n",
    "    if i%2!=0:\n",
    "        print('odd number',i)\n"
   ]
  },
  {
   "cell_type": "code",
   "execution_count": null,
   "metadata": {},
   "outputs": [],
   "source": [
    "os=['spider man','thor','hulk','iron man','captain america']\n",
    "\n",
    "os.append('black panther')\n",
    "os\n"
   ]
  },
  {
   "cell_type": "code",
   "execution_count": null,
   "metadata": {},
   "outputs": [],
   "source": [
    "len(os)"
   ]
  },
  {
   "cell_type": "code",
   "execution_count": null,
   "metadata": {},
   "outputs": [],
   "source": [
    "os.remove('black panther')\n",
    "os"
   ]
  },
  {
   "cell_type": "code",
   "execution_count": null,
   "metadata": {},
   "outputs": [],
   "source": [
    "os.insert(3,'black panther')\n",
    "os"
   ]
  },
  {
   "cell_type": "code",
   "execution_count": null,
   "metadata": {},
   "outputs": [],
   "source": [
    "os[1:3]=['doctor strange']\n"
   ]
  },
  {
   "cell_type": "code",
   "execution_count": null,
   "metadata": {},
   "outputs": [],
   "source": [
    "os"
   ]
  },
  {
   "cell_type": "code",
   "execution_count": null,
   "metadata": {},
   "outputs": [],
   "source": [
    "os.sort()"
   ]
  },
  {
   "cell_type": "code",
   "execution_count": null,
   "metadata": {},
   "outputs": [],
   "source": [
    "os"
   ]
  },
  {
   "cell_type": "code",
   "execution_count": null,
   "metadata": {},
   "outputs": [],
   "source": [
    "num_1=int(input('user num'))\n",
    "num_2=int(input('user num'))\n",
    "num=0\n",
    "for i in range(num_1,num_2+1):\n",
    "    if i==1:\n",
    "        continue\n",
    "    for j in range(2,i):\n",
    "        if i%j==0:\n",
    "            break\n",
    "    else:\n",
    "        print(i)"
   ]
  },
  {
   "cell_type": "code",
   "execution_count": null,
   "metadata": {
    "scrolled": true
   },
   "outputs": [],
   "source": [
    "sum_1=int(input('user number'))\n",
    "sum_2=int(input('user number'))\n",
    "sum=0\n",
    "for i in range(sum_1,sum_2+1):\n",
    "    if i==1:\n",
    "        continue\n",
    "    for j in range(2,i):\n",
    "        if i%j==0:\n",
    "            break\n",
    "    else:\n",
    "        sum=sum+i\n",
    "print(sum)\n",
    "        \n",
    "    \n",
    "    \n",
    "    \n",
    "    \n",
    "    "
   ]
  },
  {
   "cell_type": "code",
   "execution_count": null,
   "metadata": {},
   "outputs": [],
   "source": [
    "num_1=int(input('user num'))\n",
    "num_2=int(input('user num'))\n",
    "num=0\n",
    "for i in range(num_1,num_2+1):\n",
    "    if i==1:\n",
    "        continue\n",
    "    for j in range(2,i//2):\n",
    "        if i%j==0:\n",
    "            break\n",
    "    else:\n",
    "        print(i)"
   ]
  },
  {
   "cell_type": "code",
   "execution_count": null,
   "metadata": {},
   "outputs": [],
   "source": [
    "Final Assignment: Printing Receipts\n",
    "NOTE: Create top, sides, and bottom borders using star (*)\n",
    "a) create a product and price for three items\n",
    "b) create a company name, address, and city\n",
    "c) declare ending message\n",
    "d) print company information first using (.format)\n",
    "e) print a line between sections\n",
    "f) print out the header for section of items\n",
    "g) print a line between sections\n",
    "h) print out the header for section of a total\n",
    "i) calculate total price and print out\n",
    "j) print a line between sections\n",
    "k) output thank you message"
   ]
  },
  {
   "cell_type": "code",
   "execution_count": null,
   "metadata": {},
   "outputs": [],
   "source": [
    "#create a product and price for three items\n",
    "p1_name,p1_pr='pen',4000\n",
    "p2_name,p2_pr='phone',5000\n",
    "p3_name,p3_pr='book',6000\n",
    "#create a company name, address, and city\n",
    "cmpy_name='alpha'\n",
    "cmpy_address='nakamori street'\n",
    "cmpy_city='Japan'\n",
    "#declare ending message\n",
    "ending_message='thanks for coming'\n",
    "print('*' * 50)\n",
    "print('\\t\\t{}'.format(cmpy_name.title()))\n",
    "print('\\t\\t{}'.format(cmpy_address.title()))\n",
    "print('\\t\\t{}'.format(cmpy_city.title()))\n",
    "print('-' * 50)\n",
    "print('\\tp1_name\\t\\tp1_pr')\n",
    "print('\\t{}\\t\\t${}'.format(p1_name.title(), p1_pr))\n",
    "print('\\t{}\\t\\t${}'.format(p2_name.title(), p2_pr))\n",
    "print('\\t{}\\t\\t${}'.format(p3_name.title(), p3_pr))\n",
    "print('-' * 50)\n",
    "print('\\t\\t\\tTotal')\n",
    "#calculate total price and print out\n",
    "total=p1_pr+p2_pr+p3_pr\n",
    "print('\\t\\t\\t${}'.format(total))\n",
    "print('-' * 50)\n",
    " #output thank you message\n",
    "print('\\n\\t{}\\n'.format(ending_message))\n",
    "#print a line between sections\n",
    "print('*' * 50)\n",
    "\n",
    "\n"
   ]
  },
  {
   "cell_type": "code",
   "execution_count": null,
   "metadata": {},
   "outputs": [],
   "source": [
    "print('1: Pick the lock')\n",
    "print('2: Go to sleep')\n",
    "ans = input('You awake in a jail cell, what would you like to do? ')\n",
    "\n",
    "if ans == '1':\n",
    "    print('1: Run')\n",
    "    print('2: Fight')\n",
    "    ans = input('The door opens, a guard notices you though, what do you do? ')\n",
    "    \n",
    "    if ans == '1':\n",
    "        print('You got away, congrats you are free!')\n",
    "    elif ans == '2':\n",
    "        print('The guard caught you... you lost!')\n",
    "        \n",
    "elif ans == '2':\n",
    "    print('1: Pick the lock')\n",
    "    print('2: Go to sleep')\n",
    "    ans = input('You awake in a jail cell, what would you like to do? ')"
   ]
  },
  {
   "cell_type": "code",
   "execution_count": null,
   "metadata": {},
   "outputs": [],
   "source": [
    "#to do\n",
    "print('1:come to work')\n",
    "print('2:dont come to work')\n",
    "ans=input('if you wake up latewhat would you do')\n"
   ]
  },
  {
   "cell_type": "code",
   "execution_count": null,
   "metadata": {},
   "outputs": [],
   "source": [
    "#pls do\n",
    "x=0\n",
    "while x<10:\n",
    "    print('x is currently:',x)\n",
    "    x+=1"
   ]
  },
  {
   "cell_type": "code",
   "execution_count": null,
   "metadata": {},
   "outputs": [],
   "source": [
    "#pls do\n",
    "y=int(input('user number'))\n",
    "x=0\n",
    "while x<y:\n",
    "    print('even number:',y)\n",
    "    break\n",
    "    x+=1\n",
    "        \n",
    "    \n",
    "    "
   ]
  },
  {
   "cell_type": "code",
   "execution_count": null,
   "metadata": {},
   "outputs": [],
   "source": [
    "odd = True\n",
    "while True:\n",
    "    num = int(input('Enter Number: '))\n",
    "    if num%2==0:\n",
    "        break\n",
    "        print(num, 'is Even')\n",
    "    else:\n",
    "        print(num,'is an odd number')\n"
   ]
  },
  {
   "cell_type": "code",
   "execution_count": null,
   "metadata": {},
   "outputs": [],
   "source": [
    "odd = True\n",
    "while True:\n",
    "    num = int(input('Enter Number: '))\n",
    "    if num%2==0:\n",
    "        break\n",
    "print(num, 'is Even')"
   ]
  },
  {
   "cell_type": "code",
   "execution_count": null,
   "metadata": {},
   "outputs": [],
   "source": [
    "odd = True\n",
    "while True:\n",
    "    if num%2==0:\n",
    "        break\n",
    "print(num, 'is Even')\n"
   ]
  },
  {
   "cell_type": "code",
   "execution_count": null,
   "metadata": {},
   "outputs": [],
   "source": [
    "for i in range(0,11):\n",
    "    print(i)"
   ]
  },
  {
   "cell_type": "code",
   "execution_count": null,
   "metadata": {},
   "outputs": [],
   "source": [
    "y=int(input('user number'))\n",
    "x=0\n",
    "while x<=y:\n",
    "    print(x)\n",
    "    x+=1\n"
   ]
  },
  {
   "cell_type": "code",
   "execution_count": null,
   "metadata": {},
   "outputs": [],
   "source": [
    "y=int(input('user numbers'))\n",
    "if y>1:\n",
    "    for i in range(2,y):\n",
    "        if y%i==0:\n",
    "            print('composite number',y)\n",
    "            break\n",
    "    else:\n",
    "        print('prime number',y)\n",
    "        \n",
    "    "
   ]
  },
  {
   "cell_type": "code",
   "execution_count": null,
   "metadata": {},
   "outputs": [],
   "source": [
    "x=int(input('user infos'))\n",
    "if x>1:\n",
    "    for i in range(2,x):\n",
    "        if x%i==0:\n",
    "            print('composite number',x)\n",
    "            break\n",
    "    else:\n",
    "        print('prime number',x)\n",
    "\n",
    "      \n",
    "      "
   ]
  },
  {
   "cell_type": "code",
   "execution_count": null,
   "metadata": {},
   "outputs": [],
   "source": [
    "x=int(input('user infos'))\n",
    "y=int(input('user infos'))\n",
    "lst=[]\n",
    "for num in range(x,y+1):\n",
    "    if num>1:\n",
    "        for i in range(2,num):\n",
    "            if num%i==0:\n",
    "                print('composite numbers',num)\n",
    "                break\n",
    "        else:\n",
    "            print('prime numbers',num)\n",
    "            lst.append(num)\n",
    "sum=0\n",
    "for i in lst:\n",
    "    sum=sum+i\n",
    "    print('sum all composite numbers =',sum)\n",
    "                "
   ]
  },
  {
   "cell_type": "code",
   "execution_count": null,
   "metadata": {},
   "outputs": [],
   "source": [
    "x=int(input('user infos'))\n",
    "y=int(input('user infos'))\n",
    "for num in range(x,y+1):\n",
    "    if num%2==0:\n",
    "        print(num,'divisible by 2')\n",
    "        continue\n",
    "    elif num%2==0 or num%3==0:\n",
    "        if num%2==0:\n",
    "            print(num,'divisible by 2 and 3')\n",
    "            print(num,'divisible by 3 and 2')\n",
    "        continue\n",
    "    elif num%3==0:\n",
    "        print(num,'divisible by 3')\n",
    "        continue\n",
    "    elif num%3==0 or num%9==0:\n",
    "        if num%3==0:\n",
    "            print(num,'divisible by 3 and 9')\n",
    "            print(num,'divisible by 3 and 9')\n",
    "            continue\n",
    "    elif num%5==0:\n",
    "        print(num,'divisible by 5')\n",
    "        continue\n",
    "    elif num%9==0:\n",
    "        print(num,'divisible by 9')\n",
    "    else:\n",
    "        print(num)"
   ]
  },
  {
   "cell_type": "code",
   "execution_count": null,
   "metadata": {},
   "outputs": [],
   "source": [
    "even=True\n",
    "while True:\n",
    "    num=int(input('user input'))\n",
    "    if num%2==0:\n",
    "        break\n",
    "print('even number')\n",
    "        \n",
    "    "
   ]
  },
  {
   "cell_type": "code",
   "execution_count": null,
   "metadata": {},
   "outputs": [],
   "source": [
    "x=int(input('user number'))\n",
    "y=2\n",
    "while y<x:\n",
    "    if x%i==0:\n",
    "        print(i,'composite number')\n",
    "        break\n",
    "    y+=1\n",
    "else:\n",
    "    print(i,'prime number')\n",
    "    \n"
   ]
  },
  {
   "cell_type": "code",
   "execution_count": null,
   "metadata": {},
   "outputs": [],
   "source": [
    "composite = True\n",
    "while composite:\n",
    "    num = int(input('enter the number'))\n",
    "    if num == 1:\n",
    "        continue\n",
    "    for i in range(2,num//2):\n",
    "        if num%i==0:\n",
    "            print('composite number')\n",
    "            break\n",
    "    else:\n",
    "        composite=False\n",
    "print('prime number')\n",
    "\n",
    "            \n",
    "        "
   ]
  },
  {
   "cell_type": "code",
   "execution_count": null,
   "metadata": {},
   "outputs": [],
   "source": [
    "composite = True\n",
    "while composite:\n",
    "    num = int(input('Enter the number '))\n",
    "    if num == 1:\n",
    "        continue\n",
    "    for i in range(2,num//2):\n",
    "        if num%i==0:\n",
    "            print('Composite Number')\n",
    "            break\n",
    "    else:\n",
    "        composite = False\n",
    "print('Prime Number')"
   ]
  },
  {
   "cell_type": "code",
   "execution_count": null,
   "metadata": {},
   "outputs": [],
   "source": [
    "num = int(input('user number'))\n",
    "count = 0\n",
    "i = 2\n",
    "while i < num // 2:\n",
    "    if num % i == 0:\n",
    "        count = 1\n",
    "        break\n",
    "    i+=1\n",
    "if count==0:\n",
    "    print('prime number')\n",
    "else:\n",
    "    print('not a prime number')\n",
    "        \n",
    "        \n",
    "        \n",
    "\n"
   ]
  },
  {
   "cell_type": "code",
   "execution_count": null,
   "metadata": {},
   "outputs": [],
   "source": [
    "num = int(input(\"Enter a number: \"))  \n",
    "count = 0\n",
    "i = 2\n",
    "while i < num // 2:\n",
    "    if num % i == 0:\n",
    "        count=1\n",
    "        break\n",
    "    i=i+1\n",
    "    \n",
    "if count==0:\n",
    "    print(\"The entered number is a PRIME number\")\n",
    "else:\n",
    "    print(\"The entered number is not a PRIME number\")"
   ]
  },
  {
   "cell_type": "code",
   "execution_count": null,
   "metadata": {},
   "outputs": [],
   "source": [
    "upper=int(input('user number'))\n",
    "lower=int(input('user number'))\n",
    "num_sum=0\n",
    "while i<=num:\n",
    "    for i in range(0,num+1):\n",
    "        num=num+i\n",
    "    if num==0:\n",
    "        print(num_sum)\n",
    "        \n",
    "    \n",
    "        \n"
   ]
  },
  {
   "cell_type": "code",
   "execution_count": null,
   "metadata": {},
   "outputs": [],
   "source": [
    "num=int(input('user number'))\n",
    "inv=0\n",
    "while num>0:\n",
    "    mod=num%10\n",
    "    inv=inv*10+mod\n",
    "    num=num//10\n",
    "print(inv)"
   ]
  },
  {
   "cell_type": "code",
   "execution_count": null,
   "metadata": {},
   "outputs": [],
   "source": [
    "a=input()\n",
    "len(a)\n",
    "int(a[::-1])"
   ]
  },
  {
   "cell_type": "code",
   "execution_count": null,
   "metadata": {},
   "outputs": [],
   "source": [
    "num=int(input('user number'))\n",
    "while num>0:\n",
    "    mod=num**num[0]+[1]+[2]\n",
    "print(mod)"
   ]
  },
  {
   "cell_type": "code",
   "execution_count": null,
   "metadata": {},
   "outputs": [],
   "source": [
    "num=int(input('user number'))\n",
    "i=2\n",
    "while i<num:\n",
    "    if num%i==0:\n",
    "        print (num,'composite numbers')\n",
    "        break\n",
    "        i+=1\n",
    "else:\n",
    "    print(num,'prime numbers')"
   ]
  },
  {
   "cell_type": "code",
   "execution_count": null,
   "metadata": {},
   "outputs": [],
   "source": [
    "composite =True\n",
    "while composite:\n",
    "    num=int(input('user number'))\n",
    "    if num==1:\n",
    "        continue\n",
    "    for i in range(2,num//2):\n",
    "        if num%i==0:\n",
    "            print('composite')\n",
    "            break\n",
    "        else:\n",
    "            composite=False\n",
    "            print('prime')\n",
    "    \n",
    "    "
   ]
  },
  {
   "cell_type": "code",
   "execution_count": null,
   "metadata": {},
   "outputs": [],
   "source": [
    "num=int(input('user num'))\n",
    "a=0\n",
    "b=1\n",
    "for i in range(num):\n",
    "    c=a+b\n",
    "    print(a)\n",
    "    a=b\n",
    "    b=c\n",
    "        \n",
    "        \n",
    "    \n",
    "\n"
   ]
  },
  {
   "cell_type": "code",
   "execution_count": null,
   "metadata": {},
   "outputs": [],
   "source": [
    "num=int(input('user num'))\n",
    "reverse=0\n",
    "while num>0:\n",
    "    b=num%10\n",
    "    reverse=reverse*10+b\n",
    "    num=num//10\n",
    "print(reverse)\n"
   ]
  },
  {
   "cell_type": "code",
   "execution_count": null,
   "metadata": {},
   "outputs": [],
   "source": [
    "num=int(input('user num'))\n",
    "sum=0\n",
    "temp=0\n",
    "while temp>0:\n",
    "    mod=temp%10\n",
    "    sum+=mod**3\n",
    "    temp//=10\n",
    "if num==sum:\n",
    "    print(num,'is an armstrong number')\n",
    "else:\n",
    "    print(num,'is not an armstrong number')\n"
   ]
  },
  {
   "cell_type": "code",
   "execution_count": null,
   "metadata": {},
   "outputs": [],
   "source": []
  },
  {
   "cell_type": "code",
   "execution_count": null,
   "metadata": {},
   "outputs": [],
   "source": [
    "cnt=int(input('user num'))\n",
    "num=0\n",
    "i=10\n",
    "while num<cnt:\n",
    "    length=0\n",
    "    a=i\n",
    "    while a>0:\n",
    "        length+=1\n",
    "        a//=10\n",
    "    a=i\n",
    "    arm=0\n",
    "    while a>0:\n",
    "        mod=a%10\n",
    "        arm+=mod**length\n",
    "        a=a//10\n",
    "    if arm ==i:\n",
    "        print(i)\n",
    "        num+=1\n",
    "    i+=1\n",
    "        \n"
   ]
  },
  {
   "cell_type": "code",
   "execution_count": null,
   "metadata": {},
   "outputs": [],
   "source": [
    "lower=int(input('user num'))\n",
    "upper=int(input('user num'))\n",
    "for num in range (lower,upper+1):\n",
    "    sum=0\n",
    "    temp=num\n",
    "    while temp>0:\n",
    "        mod=temp%10\n",
    "        sum+=mod**3\n",
    "        temp=temp//10\n",
    "    if num==sum:\n",
    "        print(num)"
   ]
  },
  {
   "cell_type": "code",
   "execution_count": null,
   "metadata": {},
   "outputs": [],
   "source": [
    "def even_check(num):\n",
    "    return num%2==0"
   ]
  },
  {
   "cell_type": "code",
   "execution_count": null,
   "metadata": {},
   "outputs": [],
   "source": [
    "even_check(15)\n"
   ]
  },
  {
   "cell_type": "code",
   "execution_count": null,
   "metadata": {},
   "outputs": [],
   "source": [
    "def odd_check(num):\n",
    "    if num%2==1:\n",
    "        return('odd number')\n",
    "    else:\n",
    "        return ('even number')"
   ]
  },
  {
   "cell_type": "code",
   "execution_count": null,
   "metadata": {},
   "outputs": [],
   "source": [
    "odd_check(14)"
   ]
  },
  {
   "cell_type": "code",
   "execution_count": null,
   "metadata": {},
   "outputs": [],
   "source": [
    "def min_max_check(a,b):\n",
    "    if a%2==0 and b%2==0:\n",
    "        return min(a,b)\n",
    "    else:\n",
    "        return max(a,b)"
   ]
  },
  {
   "cell_type": "code",
   "execution_count": null,
   "metadata": {},
   "outputs": [],
   "source": [
    "min_max_check(2,6)"
   ]
  },
  {
   "cell_type": "code",
   "execution_count": null,
   "metadata": {},
   "outputs": [],
   "source": [
    "min_max_check(2,5)"
   ]
  },
  {
   "cell_type": "code",
   "execution_count": null,
   "metadata": {},
   "outputs": [],
   "source": [
    "def min_max_check(a,b):\n",
    "    if a<b:\n",
    "        return min(a,b)\n",
    "    else:\n",
    "        return max(a,b)"
   ]
  },
  {
   "cell_type": "code",
   "execution_count": null,
   "metadata": {},
   "outputs": [],
   "source": [
    "min_max_check(5,2)"
   ]
  },
  {
   "cell_type": "code",
   "execution_count": null,
   "metadata": {},
   "outputs": [],
   "source": [
    "def min_max_mid(a,b,c):\n",
    "    if (a<b) or (a<c):\n",
    "        return min(a,b,c)\n",
    "    elif(b<a) or (b<c):\n",
    "        return max(a,b,c)\n",
    "    elif(a==b)and(b==c)and(a==c):\n",
    "        return('none')\n",
    "    else:\n",
    "        return mid(a,b,c)\n"
   ]
  },
  {
   "cell_type": "code",
   "execution_count": null,
   "metadata": {},
   "outputs": [],
   "source": [
    "min_max_mid(12,10,6)"
   ]
  },
  {
   "cell_type": "code",
   "execution_count": null,
   "metadata": {},
   "outputs": [],
   "source": [
    "min_max_mid(10,10,10)"
   ]
  },
  {
   "cell_type": "code",
   "execution_count": null,
   "metadata": {},
   "outputs": [],
   "source": [
    "min_max_mid(10,12,6)"
   ]
  },
  {
   "cell_type": "code",
   "execution_count": null,
   "metadata": {},
   "outputs": [],
   "source": [
    "min_max_mid(10,6,12)"
   ]
  },
  {
   "cell_type": "code",
   "execution_count": null,
   "metadata": {},
   "outputs": [],
   "source": [
    "min_max_mid(10,6,10)"
   ]
  },
  {
   "cell_type": "code",
   "execution_count": null,
   "metadata": {},
   "outputs": [],
   "source": [
    "def name_s(word):\n",
    "    result=''\n",
    "    for letters in word:\n",
    "        result+=letters*3\n",
    "    print(result) "
   ]
  },
  {
   "cell_type": "code",
   "execution_count": null,
   "metadata": {},
   "outputs": [],
   "source": [
    "name_s('japan')"
   ]
  },
  {
   "cell_type": "code",
   "execution_count": null,
   "metadata": {},
   "outputs": [],
   "source": [
    "def prime_check(num):\n",
    "    for i in range(2,num):\n",
    "        if num%i==0:\n",
    "            return ('not a prime number')\n",
    "    else:\n",
    "        return ('prime number')"
   ]
  },
  {
   "cell_type": "code",
   "execution_count": null,
   "metadata": {},
   "outputs": [],
   "source": [
    "prime_check(7)"
   ]
  },
  {
   "cell_type": "code",
   "execution_count": null,
   "metadata": {},
   "outputs": [],
   "source": [
    "def sum_check(arr):\n",
    "    total=0\n",
    "    add=True\n",
    "    for num in arr:\n",
    "        while add:\n",
    "            if num!=6:\n",
    "                total+=num\n",
    "                break\n",
    "            else:\n",
    "                add=False\n",
    "        while not add:\n",
    "            if num!=9:\n",
    "                break\n",
    "            else:\n",
    "                add=True\n",
    "    return total\n"
   ]
  },
  {
   "cell_type": "code",
   "execution_count": null,
   "metadata": {},
   "outputs": [],
   "source": [
    "sum_check([1,2,3,4,5,6,7,8,9,10,15])"
   ]
  },
  {
   "cell_type": "code",
   "execution_count": 4,
   "metadata": {},
   "outputs": [],
   "source": [
    "def prime_check(num):\n",
    "    lst=[2]\n",
    "    x=3\n",
    "    if num<2:\n",
    "        return False\n",
    "    while num>=x:\n",
    "        for i in lst:\n",
    "            if x%i==0:\n",
    "                x+=2\n",
    "                break\n",
    "        else:\n",
    "            lst.append(x)\n",
    "            x+=2\n",
    "    print(lst)\n",
    "    return(len(lst))"
   ]
  },
  {
   "cell_type": "code",
   "execution_count": 5,
   "metadata": {},
   "outputs": [
    {
     "name": "stdout",
     "output_type": "stream",
     "text": [
      "[2, 3, 5, 7, 11, 13, 17, 19, 23, 29, 31, 37, 41, 43, 47, 53, 59, 61, 67, 71, 73, 79, 83, 89, 97]\n"
     ]
    },
    {
     "data": {
      "text/plain": [
       "25"
      ]
     },
     "execution_count": 5,
     "metadata": {},
     "output_type": "execute_result"
    }
   ],
   "source": [
    "prime_check(100)"
   ]
  },
  {
   "cell_type": "code",
   "execution_count": null,
   "metadata": {},
   "outputs": [],
   "source": []
  }
 ],
 "metadata": {
  "kernelspec": {
   "display_name": "Python 3",
   "language": "python",
   "name": "python3"
  },
  "language_info": {
   "codemirror_mode": {
    "name": "ipython",
    "version": 3
   },
   "file_extension": ".py",
   "mimetype": "text/x-python",
   "name": "python",
   "nbconvert_exporter": "python",
   "pygments_lexer": "ipython3",
   "version": "3.8.3"
  }
 },
 "nbformat": 4,
 "nbformat_minor": 4
}
