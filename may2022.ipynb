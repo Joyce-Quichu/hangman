{
 "cells": [
  {
   "cell_type": "code",
   "execution_count": 4,
   "id": "f75ba1ba",
   "metadata": {},
   "outputs": [
    {
     "name": "stdout",
     "output_type": "stream",
     "text": [
      "[1, 2, 3]\n"
     ]
    }
   ],
   "source": [
    "fox=[1,2,3]\n",
    "hen=[]\n",
    "for num in fox:\n",
    "    hen.append(num+1)\n",
    "print(fox)"
   ]
  },
  {
   "cell_type": "code",
   "execution_count": null,
   "id": "12aa605a",
   "metadata": {},
   "outputs": [],
   "source": [
    "gab=[10,20,30]\n",
    "dia=[]\n",
    "for num in gab:\n",
    "    gab.append(num+3)\n",
    "print(dia)"
   ]
  },
  {
   "cell_type": "code",
   "execution_count": null,
   "id": "0b510080",
   "metadata": {},
   "outputs": [],
   "source": []
  },
  {
   "cell_type": "code",
   "execution_count": 3,
   "id": "f1351c27",
   "metadata": {},
   "outputs": [
    {
     "name": "stdout",
     "output_type": "stream",
     "text": [
      "[13, 23, 33]\n"
     ]
    }
   ],
   "source": [
    "gab=[10,20,30]\n",
    "dia=[]\n",
    "for num in gab:\n",
    "    dia.append(num+3)\n",
    "print(dia)"
   ]
  },
  {
   "cell_type": "code",
   "execution_count": 6,
   "id": "fae4f63c",
   "metadata": {},
   "outputs": [
    {
     "name": "stdout",
     "output_type": "stream",
     "text": [
      "[0, 1, 2, 3, 4, 5, 6, 7, 8, 9]\n"
     ]
    }
   ],
   "source": [
    "#range practice\n",
    "met=[num for num in range(10)]\n",
    "print(met)"
   ]
  },
  {
   "cell_type": "code",
   "execution_count": 8,
   "id": "eff09218",
   "metadata": {},
   "outputs": [
    {
     "name": "stdout",
     "output_type": "stream",
     "text": [
      "[1, 2, 3, 4, 5, 6, 7, 8, 9, 10, 11, 12, 13, 14, 15]\n"
     ]
    }
   ],
   "source": [
    "met=[num for num in range (15)]\n",
    "ani=[]\n",
    "for num in met:\n",
    "    ani.append(num+1)\n",
    "print(ani)"
   ]
  },
  {
   "cell_type": "code",
   "execution_count": null,
   "id": "2559fc7a",
   "metadata": {},
   "outputs": [],
   "source": []
  }
 ],
 "metadata": {
  "kernelspec": {
   "display_name": "Python 3 (ipykernel)",
   "language": "python",
   "name": "python3"
  },
  "language_info": {
   "codemirror_mode": {
    "name": "ipython",
    "version": 3
   },
   "file_extension": ".py",
   "mimetype": "text/x-python",
   "name": "python",
   "nbconvert_exporter": "python",
   "pygments_lexer": "ipython3",
   "version": "3.9.12"
  }
 },
 "nbformat": 4,
 "nbformat_minor": 5
}
