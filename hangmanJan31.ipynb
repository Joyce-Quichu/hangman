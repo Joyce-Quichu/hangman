{
 "cells": [
  {
   "cell_type": "code",
   "execution_count": 1,
   "metadata": {},
   "outputs": [
    {
     "ename": "SyntaxError",
     "evalue": "invalid syntax (<ipython-input-1-d71ec9629760>, line 23)",
     "output_type": "error",
     "traceback": [
      "\u001b[0;36m  File \u001b[0;32m\"<ipython-input-1-d71ec9629760>\"\u001b[0;36m, line \u001b[0;32m23\u001b[0m\n\u001b[0;31m    2 replies\u001b[0m\n\u001b[0m      ^\u001b[0m\n\u001b[0;31mSyntaxError\u001b[0m\u001b[0;31m:\u001b[0m invalid syntax\n"
     ]
    }
   ],
   "source": [
    "\"\"\"Write a function that returns the largest element in a list.\n",
    "In this program I passed the parametre itself as a list. \"\"\"\n",
    "def large_list(args):\n",
    "    #print(type(args))\n",
    "    # looping the entire list\n",
    "    for element in args:\n",
    "        #print(\"element \", element)\n",
    "        #print(\"element type \", type(element))     \n",
    "        temp = args[0]\n",
    "        for i in range(1,len(args),1):\n",
    "            if (temp <= args[i]):\n",
    "                temp = args[i]\n",
    "    return temp\n",
    "# main call\n",
    "count_of_num = int(input(\"Enter the count of the numbers\"))\n",
    "seq = list()\n",
    "for j in range(count_of_num):\n",
    "    digits = int(input(\"enter the number\"))\n",
    "    seq.append(digits)\n",
    "#seq = [100,5,17,24,19]\n",
    "print(\"the largest among the given numbers are :\", large_list(seq))\n",
    "\n",
    "2 replies\n",
    "Last reply 2 months ago"
   ]
  },
  {
   "cell_type": "code",
   "execution_count": 7,
   "metadata": {},
   "outputs": [],
   "source": [
    "#start from the largest no to the smallest no\n",
    "def leap_check(year):\n",
    "    if year%4==0:\n",
    "        if year%100==0:\n",
    "            if year%400==0:\n",
    "                return True\n",
    "            return False\n",
    "        return True\n",
    "    else:\n",
    "        return False"
   ]
  },
  {
   "cell_type": "code",
   "execution_count": 8,
   "metadata": {},
   "outputs": [
    {
     "data": {
      "text/plain": [
       "True"
      ]
     },
     "execution_count": 8,
     "metadata": {},
     "output_type": "execute_result"
    }
   ],
   "source": [
    "leap_check(1992)"
   ]
  },
  {
   "cell_type": "code",
   "execution_count": 9,
   "metadata": {},
   "outputs": [
    {
     "data": {
      "text/plain": [
       "False"
      ]
     },
     "execution_count": 9,
     "metadata": {},
     "output_type": "execute_result"
    }
   ],
   "source": [
    "leap_check(1994)"
   ]
  },
  {
   "cell_type": "code",
   "execution_count": null,
   "metadata": {},
   "outputs": [],
   "source": [
    "\"\"\"Write a function that return the positions where a character(one letter string) is present inside a \n",
    "string as a list. If the character is not present even once, it should return 0.\"\"\"\n",
    "def letter_pos(st,letter):\n",
    "    position_list = list()\n",
    "    print(st,len(st))\n",
    "    \"\"\" Method 1- using if condition and find() \"\"\"\n",
    "    # pos = st.find(letter)\n",
    "    # if (pos > -1):\n",
    "    #     position_list.append(pos)\n",
    "    #     st = st[pos+1:]\n",
    "    \"\"\"Method -2 using for loop \"\"\"\n",
    "    for i in range(len(st)):\n",
    "        if (st[i] == letter):\n",
    "            position_list.append(i)\n",
    "    if not position_list:\n",
    "        return 0        \n",
    "    else:\n",
    "        f'The string is {st}'\n",
    "        print(\"the given letter to find is {0}\".format(letter))\n",
    "        return position_list\n",
    "print(letter_pos(\"this is prto\",'i'))"
   ]
  }
 ],
 "metadata": {
  "kernelspec": {
   "display_name": "Python 3",
   "language": "python",
   "name": "python3"
  },
  "language_info": {
   "codemirror_mode": {
    "name": "ipython",
    "version": 3
   },
   "file_extension": ".py",
   "mimetype": "text/x-python",
   "name": "python",
   "nbconvert_exporter": "python",
   "pygments_lexer": "ipython3",
   "version": "3.8.3"
  }
 },
 "nbformat": 4,
 "nbformat_minor": 4
}
