{
 "cells": [
  {
   "cell_type": "code",
   "execution_count": 15,
   "metadata": {},
   "outputs": [],
   "source": [
    "class Car:\n",
    "    Car_type='jeep'\n",
    "    def __init__(self,name,color,milage,speed):\n",
    "        self.name=name\n",
    "        self.color=color\n",
    "        self.speed=speed\n",
    "        self.mirage=milage\n",
    "    def description(self):\n",
    "        return f'the {self.name} best in {self.color} at {self.milage}'\n",
    "    def max_speed(self):\n",
    "        return f' {self.name} run at a max {self.speed} km per hour'\n",
    "    "
   ]
  },
  {
   "cell_type": "code",
   "execution_count": 16,
   "metadata": {},
   "outputs": [],
   "source": [
    "obj=Car('jeep','black',20,150)"
   ]
  },
  {
   "cell_type": "code",
   "execution_count": 17,
   "metadata": {},
   "outputs": [
    {
     "ename": "AttributeError",
     "evalue": "'Car' object has no attribute 'milage'",
     "output_type": "error",
     "traceback": [
      "\u001b[0;31m---------------------------------------------------------------------------\u001b[0m",
      "\u001b[0;31mAttributeError\u001b[0m                            Traceback (most recent call last)",
      "\u001b[0;32m<ipython-input-17-8ebbf5df5a95>\u001b[0m in \u001b[0;36m<module>\u001b[0;34m\u001b[0m\n\u001b[0;32m----> 1\u001b[0;31m \u001b[0mprint\u001b[0m\u001b[0;34m(\u001b[0m\u001b[0mobj\u001b[0m\u001b[0;34m.\u001b[0m\u001b[0mdescription\u001b[0m\u001b[0;34m(\u001b[0m\u001b[0;34m)\u001b[0m\u001b[0;34m)\u001b[0m\u001b[0;34m\u001b[0m\u001b[0;34m\u001b[0m\u001b[0m\n\u001b[0m",
      "\u001b[0;32m<ipython-input-15-2d2281f9e76c>\u001b[0m in \u001b[0;36mdescription\u001b[0;34m(self)\u001b[0m\n\u001b[1;32m      7\u001b[0m         \u001b[0mself\u001b[0m\u001b[0;34m.\u001b[0m\u001b[0mmirage\u001b[0m\u001b[0;34m=\u001b[0m\u001b[0mmilage\u001b[0m\u001b[0;34m\u001b[0m\u001b[0;34m\u001b[0m\u001b[0m\n\u001b[1;32m      8\u001b[0m     \u001b[0;32mdef\u001b[0m \u001b[0mdescription\u001b[0m\u001b[0;34m(\u001b[0m\u001b[0mself\u001b[0m\u001b[0;34m)\u001b[0m\u001b[0;34m:\u001b[0m\u001b[0;34m\u001b[0m\u001b[0;34m\u001b[0m\u001b[0m\n\u001b[0;32m----> 9\u001b[0;31m         \u001b[0;32mreturn\u001b[0m \u001b[0;34mf'the {self.name} best in {self.color} at {self.milage}'\u001b[0m\u001b[0;34m\u001b[0m\u001b[0;34m\u001b[0m\u001b[0m\n\u001b[0m\u001b[1;32m     10\u001b[0m     \u001b[0;32mdef\u001b[0m \u001b[0mmax_speed\u001b[0m\u001b[0;34m(\u001b[0m\u001b[0mself\u001b[0m\u001b[0;34m)\u001b[0m\u001b[0;34m:\u001b[0m\u001b[0;34m\u001b[0m\u001b[0;34m\u001b[0m\u001b[0m\n\u001b[1;32m     11\u001b[0m         \u001b[0;32mreturn\u001b[0m \u001b[0;34mf' {self.name} run at a max {self.speed} km per hour'\u001b[0m\u001b[0;34m\u001b[0m\u001b[0;34m\u001b[0m\u001b[0m\n",
      "\u001b[0;31mAttributeError\u001b[0m: 'Car' object has no attribute 'milage'"
     ]
    }
   ],
   "source": [
    "print(obj.description())"
   ]
  },
  {
   "cell_type": "code",
   "execution_count": 8,
   "metadata": {},
   "outputs": [],
   "source": [
    "class Car:\n",
    "    Car_type='prado'\n",
    "    def __init__ (self,name,color,speed):\n",
    "        self.name=name\n",
    "        self.color=color\n",
    "        self.speed=speed\n",
    "    def description(self):\n",
    "        return f'{self.name} which is best in the color {self.name}'\n",
    "    def max_speed(self):\n",
    "        return f'{self.name} runs at a max of {self.speed} km per hour'\n",
    "        \n",
    "    \n"
   ]
  },
  {
   "cell_type": "code",
   "execution_count": 9,
   "metadata": {},
   "outputs": [],
   "source": [
    "obj=Car('prado','black',20)"
   ]
  },
  {
   "cell_type": "code",
   "execution_count": 10,
   "metadata": {},
   "outputs": [
    {
     "name": "stdout",
     "output_type": "stream",
     "text": [
      "prado which is best in the color prado\n",
      "prado runs at a max of 20 km per hour\n"
     ]
    }
   ],
   "source": [
    "print (obj.description())\n",
    "print (obj.max_speed())"
   ]
  },
  {
   "cell_type": "code",
   "execution_count": null,
   "metadata": {},
   "outputs": [],
   "source": [
    "\"\"\"Write a function that returns the largest element in a list.\n",
    "In this program I passed the parametre itself as a list. \"\"\"\n",
    "def large_list(args):\n",
    "    #print(type(args))\n",
    "    # looping the entire list\n",
    "    for element in args:\n",
    "        #print(\"element \", element)\n",
    "        #print(\"element type \", type(element))     \n",
    "        temp = args[0]\n",
    "        for i in range(1,len(args),1):\n",
    "            if (temp <= args[i]):\n",
    "                temp = args[i]\n",
    "    return temp\n",
    "# main call\n",
    "count_of_num = int(input(\"Enter the count of the numbers\"))\n",
    "seq = list()\n",
    "for j in range(count_of_num):\n",
    "    digits = int(input(\"enter the number\"))\n",
    "    seq.append(digits)\n",
    "#seq = [100,5,17,24,19]\n",
    "print(\"the largest among the given numbers are :\", large_list(seq))\n",
    "\n",
    "2 replies\n",
    "Last reply 2 months ago"
   ]
  }
 ],
 "metadata": {
  "kernelspec": {
   "display_name": "Python 3",
   "language": "python",
   "name": "python3"
  },
  "language_info": {
   "codemirror_mode": {
    "name": "ipython",
    "version": 3
   },
   "file_extension": ".py",
   "mimetype": "text/x-python",
   "name": "python",
   "nbconvert_exporter": "python",
   "pygments_lexer": "ipython3",
   "version": "3.8.3"
  }
 },
 "nbformat": 4,
 "nbformat_minor": 4
}
