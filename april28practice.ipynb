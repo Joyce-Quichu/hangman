{
 "cells": [
  {
   "cell_type": "code",
   "execution_count": 1,
   "metadata": {},
   "outputs": [],
   "source": [
    "import numpy as np"
   ]
  },
  {
   "cell_type": "code",
   "execution_count": 2,
   "metadata": {},
   "outputs": [],
   "source": [
    "import pandas as pd"
   ]
  },
  {
   "cell_type": "code",
   "execution_count": 3,
   "metadata": {},
   "outputs": [],
   "source": [
    "from numpy.random import rand"
   ]
  },
  {
   "cell_type": "code",
   "execution_count": 7,
   "metadata": {},
   "outputs": [
    {
     "data": {
      "text/html": [
       "<div>\n",
       "<style scoped>\n",
       "    .dataframe tbody tr th:only-of-type {\n",
       "        vertical-align: middle;\n",
       "    }\n",
       "\n",
       "    .dataframe tbody tr th {\n",
       "        vertical-align: top;\n",
       "    }\n",
       "\n",
       "    .dataframe thead th {\n",
       "        text-align: right;\n",
       "    }\n",
       "</style>\n",
       "<table border=\"1\" class=\"dataframe\">\n",
       "  <thead>\n",
       "    <tr style=\"text-align: right;\">\n",
       "      <th></th>\n",
       "      <th>month</th>\n",
       "      <th>day</th>\n",
       "      <th>year</th>\n",
       "      <th>hour</th>\n",
       "    </tr>\n",
       "  </thead>\n",
       "  <tbody>\n",
       "    <tr>\n",
       "      <th>0</th>\n",
       "      <td>april</td>\n",
       "      <td>25</td>\n",
       "      <td>2020</td>\n",
       "      <td>13</td>\n",
       "    </tr>\n",
       "    <tr>\n",
       "      <th>1</th>\n",
       "      <td>april</td>\n",
       "      <td>16</td>\n",
       "      <td>1994</td>\n",
       "      <td>10</td>\n",
       "    </tr>\n",
       "  </tbody>\n",
       "</table>\n",
       "</div>"
      ],
      "text/plain": [
       "   month  day  year  hour\n",
       "0  april   25  2020    13\n",
       "1  april   16  1994    10"
      ]
     },
     "execution_count": 7,
     "metadata": {},
     "output_type": "execute_result"
    }
   ],
   "source": [
    "df=pd.DataFrame([['april',25,2020,13],['april',16,1994,10]],columns=['month','day','year','hour'])\n",
    "df"
   ]
  },
  {
   "cell_type": "code",
   "execution_count": 8,
   "metadata": {},
   "outputs": [
    {
     "data": {
      "text/html": [
       "<div>\n",
       "<style scoped>\n",
       "    .dataframe tbody tr th:only-of-type {\n",
       "        vertical-align: middle;\n",
       "    }\n",
       "\n",
       "    .dataframe tbody tr th {\n",
       "        vertical-align: top;\n",
       "    }\n",
       "\n",
       "    .dataframe thead th {\n",
       "        text-align: right;\n",
       "    }\n",
       "</style>\n",
       "<table border=\"1\" class=\"dataframe\">\n",
       "  <thead>\n",
       "    <tr style=\"text-align: right;\">\n",
       "      <th></th>\n",
       "      <th>0</th>\n",
       "      <th>1</th>\n",
       "      <th>2</th>\n",
       "      <th>3</th>\n",
       "      <th>4</th>\n",
       "      <th>5</th>\n",
       "      <th>6</th>\n",
       "      <th>7</th>\n",
       "    </tr>\n",
       "  </thead>\n",
       "  <tbody>\n",
       "    <tr>\n",
       "      <th>0</th>\n",
       "      <td>0.962744</td>\n",
       "      <td>0.211075</td>\n",
       "      <td>0.840529</td>\n",
       "      <td>0.734937</td>\n",
       "      <td>0.622165</td>\n",
       "      <td>0.855465</td>\n",
       "      <td>0.940183</td>\n",
       "      <td>0.592734</td>\n",
       "    </tr>\n",
       "    <tr>\n",
       "      <th>1</th>\n",
       "      <td>0.084501</td>\n",
       "      <td>0.458975</td>\n",
       "      <td>0.499548</td>\n",
       "      <td>0.425739</td>\n",
       "      <td>0.381133</td>\n",
       "      <td>0.824729</td>\n",
       "      <td>0.733191</td>\n",
       "      <td>0.914307</td>\n",
       "    </tr>\n",
       "    <tr>\n",
       "      <th>2</th>\n",
       "      <td>0.324604</td>\n",
       "      <td>0.604754</td>\n",
       "      <td>0.297578</td>\n",
       "      <td>0.061162</td>\n",
       "      <td>0.206633</td>\n",
       "      <td>0.042376</td>\n",
       "      <td>0.446886</td>\n",
       "      <td>0.857140</td>\n",
       "    </tr>\n",
       "    <tr>\n",
       "      <th>3</th>\n",
       "      <td>0.958719</td>\n",
       "      <td>0.487276</td>\n",
       "      <td>0.777394</td>\n",
       "      <td>0.403621</td>\n",
       "      <td>0.315414</td>\n",
       "      <td>0.040133</td>\n",
       "      <td>0.622418</td>\n",
       "      <td>0.024945</td>\n",
       "    </tr>\n",
       "  </tbody>\n",
       "</table>\n",
       "</div>"
      ],
      "text/plain": [
       "          0         1         2         3         4         5         6  \\\n",
       "0  0.962744  0.211075  0.840529  0.734937  0.622165  0.855465  0.940183   \n",
       "1  0.084501  0.458975  0.499548  0.425739  0.381133  0.824729  0.733191   \n",
       "2  0.324604  0.604754  0.297578  0.061162  0.206633  0.042376  0.446886   \n",
       "3  0.958719  0.487276  0.777394  0.403621  0.315414  0.040133  0.622418   \n",
       "\n",
       "          7  \n",
       "0  0.592734  \n",
       "1  0.914307  \n",
       "2  0.857140  \n",
       "3  0.024945  "
      ]
     },
     "execution_count": 8,
     "metadata": {},
     "output_type": "execute_result"
    }
   ],
   "source": [
    "df=pd.DataFrame(rand(4,8))\n",
    "df\n",
    "        "
   ]
  },
  {
   "cell_type": "code",
   "execution_count": 11,
   "metadata": {},
   "outputs": [
    {
     "data": {
      "text/html": [
       "<div>\n",
       "<style scoped>\n",
       "    .dataframe tbody tr th:only-of-type {\n",
       "        vertical-align: middle;\n",
       "    }\n",
       "\n",
       "    .dataframe tbody tr th {\n",
       "        vertical-align: top;\n",
       "    }\n",
       "\n",
       "    .dataframe thead th {\n",
       "        text-align: right;\n",
       "    }\n",
       "</style>\n",
       "<table border=\"1\" class=\"dataframe\">\n",
       "  <thead>\n",
       "    <tr style=\"text-align: right;\">\n",
       "      <th></th>\n",
       "      <th>a</th>\n",
       "      <th>b</th>\n",
       "      <th>c</th>\n",
       "      <th>d</th>\n",
       "      <th>e</th>\n",
       "      <th>f</th>\n",
       "      <th>g</th>\n",
       "      <th>h</th>\n",
       "    </tr>\n",
       "  </thead>\n",
       "  <tbody>\n",
       "    <tr>\n",
       "      <th>0</th>\n",
       "      <td>0.962744</td>\n",
       "      <td>0.211075</td>\n",
       "      <td>0.840529</td>\n",
       "      <td>0.734937</td>\n",
       "      <td>0.622165</td>\n",
       "      <td>0.855465</td>\n",
       "      <td>0.940183</td>\n",
       "      <td>0.592734</td>\n",
       "    </tr>\n",
       "    <tr>\n",
       "      <th>1</th>\n",
       "      <td>0.084501</td>\n",
       "      <td>0.458975</td>\n",
       "      <td>0.499548</td>\n",
       "      <td>0.425739</td>\n",
       "      <td>0.381133</td>\n",
       "      <td>0.824729</td>\n",
       "      <td>0.733191</td>\n",
       "      <td>0.914307</td>\n",
       "    </tr>\n",
       "    <tr>\n",
       "      <th>2</th>\n",
       "      <td>0.324604</td>\n",
       "      <td>0.604754</td>\n",
       "      <td>0.297578</td>\n",
       "      <td>0.061162</td>\n",
       "      <td>0.206633</td>\n",
       "      <td>0.042376</td>\n",
       "      <td>0.446886</td>\n",
       "      <td>0.857140</td>\n",
       "    </tr>\n",
       "    <tr>\n",
       "      <th>3</th>\n",
       "      <td>0.958719</td>\n",
       "      <td>0.487276</td>\n",
       "      <td>0.777394</td>\n",
       "      <td>0.403621</td>\n",
       "      <td>0.315414</td>\n",
       "      <td>0.040133</td>\n",
       "      <td>0.622418</td>\n",
       "      <td>0.024945</td>\n",
       "    </tr>\n",
       "  </tbody>\n",
       "</table>\n",
       "</div>"
      ],
      "text/plain": [
       "          a         b         c         d         e         f         g  \\\n",
       "0  0.962744  0.211075  0.840529  0.734937  0.622165  0.855465  0.940183   \n",
       "1  0.084501  0.458975  0.499548  0.425739  0.381133  0.824729  0.733191   \n",
       "2  0.324604  0.604754  0.297578  0.061162  0.206633  0.042376  0.446886   \n",
       "3  0.958719  0.487276  0.777394  0.403621  0.315414  0.040133  0.622418   \n",
       "\n",
       "          h  \n",
       "0  0.592734  \n",
       "1  0.914307  \n",
       "2  0.857140  \n",
       "3  0.024945  "
      ]
     },
     "execution_count": 11,
     "metadata": {},
     "output_type": "execute_result"
    }
   ],
   "source": [
    "df.rename({0:'a',1:'b',2:'c',3:'d',4:'e',5:'f',6:'g',7:'h'},axis='columns')"
   ]
  },
  {
   "cell_type": "code",
   "execution_count": 16,
   "metadata": {},
   "outputs": [],
   "source": [
    "df['mew']=df[4]+df[5]"
   ]
  },
  {
   "cell_type": "code",
   "execution_count": 17,
   "metadata": {},
   "outputs": [
    {
     "data": {
      "text/html": [
       "<div>\n",
       "<style scoped>\n",
       "    .dataframe tbody tr th:only-of-type {\n",
       "        vertical-align: middle;\n",
       "    }\n",
       "\n",
       "    .dataframe tbody tr th {\n",
       "        vertical-align: top;\n",
       "    }\n",
       "\n",
       "    .dataframe thead th {\n",
       "        text-align: right;\n",
       "    }\n",
       "</style>\n",
       "<table border=\"1\" class=\"dataframe\">\n",
       "  <thead>\n",
       "    <tr style=\"text-align: right;\">\n",
       "      <th></th>\n",
       "      <th>0</th>\n",
       "      <th>1</th>\n",
       "      <th>2</th>\n",
       "      <th>3</th>\n",
       "      <th>4</th>\n",
       "      <th>5</th>\n",
       "      <th>6</th>\n",
       "      <th>7</th>\n",
       "      <th>mew</th>\n",
       "    </tr>\n",
       "  </thead>\n",
       "  <tbody>\n",
       "    <tr>\n",
       "      <th>0</th>\n",
       "      <td>0.962744</td>\n",
       "      <td>0.211075</td>\n",
       "      <td>0.840529</td>\n",
       "      <td>0.734937</td>\n",
       "      <td>0.622165</td>\n",
       "      <td>0.855465</td>\n",
       "      <td>0.940183</td>\n",
       "      <td>0.592734</td>\n",
       "      <td>1.477630</td>\n",
       "    </tr>\n",
       "    <tr>\n",
       "      <th>1</th>\n",
       "      <td>0.084501</td>\n",
       "      <td>0.458975</td>\n",
       "      <td>0.499548</td>\n",
       "      <td>0.425739</td>\n",
       "      <td>0.381133</td>\n",
       "      <td>0.824729</td>\n",
       "      <td>0.733191</td>\n",
       "      <td>0.914307</td>\n",
       "      <td>1.205862</td>\n",
       "    </tr>\n",
       "    <tr>\n",
       "      <th>2</th>\n",
       "      <td>0.324604</td>\n",
       "      <td>0.604754</td>\n",
       "      <td>0.297578</td>\n",
       "      <td>0.061162</td>\n",
       "      <td>0.206633</td>\n",
       "      <td>0.042376</td>\n",
       "      <td>0.446886</td>\n",
       "      <td>0.857140</td>\n",
       "      <td>0.249009</td>\n",
       "    </tr>\n",
       "    <tr>\n",
       "      <th>3</th>\n",
       "      <td>0.958719</td>\n",
       "      <td>0.487276</td>\n",
       "      <td>0.777394</td>\n",
       "      <td>0.403621</td>\n",
       "      <td>0.315414</td>\n",
       "      <td>0.040133</td>\n",
       "      <td>0.622418</td>\n",
       "      <td>0.024945</td>\n",
       "      <td>0.355547</td>\n",
       "    </tr>\n",
       "  </tbody>\n",
       "</table>\n",
       "</div>"
      ],
      "text/plain": [
       "          0         1         2         3         4         5         6  \\\n",
       "0  0.962744  0.211075  0.840529  0.734937  0.622165  0.855465  0.940183   \n",
       "1  0.084501  0.458975  0.499548  0.425739  0.381133  0.824729  0.733191   \n",
       "2  0.324604  0.604754  0.297578  0.061162  0.206633  0.042376  0.446886   \n",
       "3  0.958719  0.487276  0.777394  0.403621  0.315414  0.040133  0.622418   \n",
       "\n",
       "          7       mew  \n",
       "0  0.592734  1.477630  \n",
       "1  0.914307  1.205862  \n",
       "2  0.857140  0.249009  \n",
       "3  0.024945  0.355547  "
      ]
     },
     "execution_count": 17,
     "metadata": {},
     "output_type": "execute_result"
    }
   ],
   "source": [
    "df"
   ]
  },
  {
   "cell_type": "code",
   "execution_count": 20,
   "metadata": {},
   "outputs": [
    {
     "data": {
      "text/html": [
       "<div>\n",
       "<style scoped>\n",
       "    .dataframe tbody tr th:only-of-type {\n",
       "        vertical-align: middle;\n",
       "    }\n",
       "\n",
       "    .dataframe tbody tr th {\n",
       "        vertical-align: top;\n",
       "    }\n",
       "\n",
       "    .dataframe thead th {\n",
       "        text-align: right;\n",
       "    }\n",
       "</style>\n",
       "<table border=\"1\" class=\"dataframe\">\n",
       "  <thead>\n",
       "    <tr style=\"text-align: right;\">\n",
       "      <th></th>\n",
       "      <th>W</th>\n",
       "      <th>X</th>\n",
       "      <th>Y</th>\n",
       "      <th>Z</th>\n",
       "    </tr>\n",
       "  </thead>\n",
       "  <tbody>\n",
       "    <tr>\n",
       "      <th>A</th>\n",
       "      <td>0.497238</td>\n",
       "      <td>0.748184</td>\n",
       "      <td>0.396534</td>\n",
       "      <td>0.609023</td>\n",
       "    </tr>\n",
       "    <tr>\n",
       "      <th>B</th>\n",
       "      <td>0.873356</td>\n",
       "      <td>0.633916</td>\n",
       "      <td>0.552347</td>\n",
       "      <td>0.172323</td>\n",
       "    </tr>\n",
       "    <tr>\n",
       "      <th>C</th>\n",
       "      <td>0.171686</td>\n",
       "      <td>0.598848</td>\n",
       "      <td>0.573903</td>\n",
       "      <td>0.175176</td>\n",
       "    </tr>\n",
       "    <tr>\n",
       "      <th>D</th>\n",
       "      <td>0.654657</td>\n",
       "      <td>0.651876</td>\n",
       "      <td>0.207253</td>\n",
       "      <td>0.405381</td>\n",
       "    </tr>\n",
       "    <tr>\n",
       "      <th>E</th>\n",
       "      <td>0.311798</td>\n",
       "      <td>0.390531</td>\n",
       "      <td>0.714740</td>\n",
       "      <td>0.612824</td>\n",
       "    </tr>\n",
       "  </tbody>\n",
       "</table>\n",
       "</div>"
      ],
      "text/plain": [
       "          W         X         Y         Z\n",
       "A  0.497238  0.748184  0.396534  0.609023\n",
       "B  0.873356  0.633916  0.552347  0.172323\n",
       "C  0.171686  0.598848  0.573903  0.175176\n",
       "D  0.654657  0.651876  0.207253  0.405381\n",
       "E  0.311798  0.390531  0.714740  0.612824"
      ]
     },
     "execution_count": 20,
     "metadata": {},
     "output_type": "execute_result"
    }
   ],
   "source": [
    "df=pd.DataFrame(rand(5,4),index='A B C D E'.split(),columns='W X Y Z'.split())\n",
    "df"
   ]
  },
  {
   "cell_type": "code",
   "execution_count": 22,
   "metadata": {},
   "outputs": [],
   "source": [
    "df['new']=df['W']+df['Y']"
   ]
  },
  {
   "cell_type": "code",
   "execution_count": 23,
   "metadata": {},
   "outputs": [
    {
     "data": {
      "text/html": [
       "<div>\n",
       "<style scoped>\n",
       "    .dataframe tbody tr th:only-of-type {\n",
       "        vertical-align: middle;\n",
       "    }\n",
       "\n",
       "    .dataframe tbody tr th {\n",
       "        vertical-align: top;\n",
       "    }\n",
       "\n",
       "    .dataframe thead th {\n",
       "        text-align: right;\n",
       "    }\n",
       "</style>\n",
       "<table border=\"1\" class=\"dataframe\">\n",
       "  <thead>\n",
       "    <tr style=\"text-align: right;\">\n",
       "      <th></th>\n",
       "      <th>W</th>\n",
       "      <th>X</th>\n",
       "      <th>Y</th>\n",
       "      <th>Z</th>\n",
       "      <th>new</th>\n",
       "    </tr>\n",
       "  </thead>\n",
       "  <tbody>\n",
       "    <tr>\n",
       "      <th>A</th>\n",
       "      <td>0.497238</td>\n",
       "      <td>0.748184</td>\n",
       "      <td>0.396534</td>\n",
       "      <td>0.609023</td>\n",
       "      <td>0.893772</td>\n",
       "    </tr>\n",
       "    <tr>\n",
       "      <th>B</th>\n",
       "      <td>0.873356</td>\n",
       "      <td>0.633916</td>\n",
       "      <td>0.552347</td>\n",
       "      <td>0.172323</td>\n",
       "      <td>1.425703</td>\n",
       "    </tr>\n",
       "    <tr>\n",
       "      <th>C</th>\n",
       "      <td>0.171686</td>\n",
       "      <td>0.598848</td>\n",
       "      <td>0.573903</td>\n",
       "      <td>0.175176</td>\n",
       "      <td>0.745589</td>\n",
       "    </tr>\n",
       "    <tr>\n",
       "      <th>D</th>\n",
       "      <td>0.654657</td>\n",
       "      <td>0.651876</td>\n",
       "      <td>0.207253</td>\n",
       "      <td>0.405381</td>\n",
       "      <td>0.861910</td>\n",
       "    </tr>\n",
       "    <tr>\n",
       "      <th>E</th>\n",
       "      <td>0.311798</td>\n",
       "      <td>0.390531</td>\n",
       "      <td>0.714740</td>\n",
       "      <td>0.612824</td>\n",
       "      <td>1.026538</td>\n",
       "    </tr>\n",
       "  </tbody>\n",
       "</table>\n",
       "</div>"
      ],
      "text/plain": [
       "          W         X         Y         Z       new\n",
       "A  0.497238  0.748184  0.396534  0.609023  0.893772\n",
       "B  0.873356  0.633916  0.552347  0.172323  1.425703\n",
       "C  0.171686  0.598848  0.573903  0.175176  0.745589\n",
       "D  0.654657  0.651876  0.207253  0.405381  0.861910\n",
       "E  0.311798  0.390531  0.714740  0.612824  1.026538"
      ]
     },
     "execution_count": 23,
     "metadata": {},
     "output_type": "execute_result"
    }
   ],
   "source": [
    "df"
   ]
  },
  {
   "cell_type": "code",
   "execution_count": 26,
   "metadata": {},
   "outputs": [
    {
     "data": {
      "text/html": [
       "<div>\n",
       "<style scoped>\n",
       "    .dataframe tbody tr th:only-of-type {\n",
       "        vertical-align: middle;\n",
       "    }\n",
       "\n",
       "    .dataframe tbody tr th {\n",
       "        vertical-align: top;\n",
       "    }\n",
       "\n",
       "    .dataframe thead th {\n",
       "        text-align: right;\n",
       "    }\n",
       "</style>\n",
       "<table border=\"1\" class=\"dataframe\">\n",
       "  <thead>\n",
       "    <tr style=\"text-align: right;\">\n",
       "      <th></th>\n",
       "      <th>W</th>\n",
       "      <th>X</th>\n",
       "      <th>Y</th>\n",
       "      <th>Z</th>\n",
       "    </tr>\n",
       "  </thead>\n",
       "  <tbody>\n",
       "    <tr>\n",
       "      <th>A</th>\n",
       "      <td>0.497238</td>\n",
       "      <td>0.748184</td>\n",
       "      <td>0.396534</td>\n",
       "      <td>0.609023</td>\n",
       "    </tr>\n",
       "    <tr>\n",
       "      <th>B</th>\n",
       "      <td>0.873356</td>\n",
       "      <td>0.633916</td>\n",
       "      <td>0.552347</td>\n",
       "      <td>0.172323</td>\n",
       "    </tr>\n",
       "    <tr>\n",
       "      <th>C</th>\n",
       "      <td>0.171686</td>\n",
       "      <td>0.598848</td>\n",
       "      <td>0.573903</td>\n",
       "      <td>0.175176</td>\n",
       "    </tr>\n",
       "    <tr>\n",
       "      <th>D</th>\n",
       "      <td>0.654657</td>\n",
       "      <td>0.651876</td>\n",
       "      <td>0.207253</td>\n",
       "      <td>0.405381</td>\n",
       "    </tr>\n",
       "    <tr>\n",
       "      <th>E</th>\n",
       "      <td>0.311798</td>\n",
       "      <td>0.390531</td>\n",
       "      <td>0.714740</td>\n",
       "      <td>0.612824</td>\n",
       "    </tr>\n",
       "  </tbody>\n",
       "</table>\n",
       "</div>"
      ],
      "text/plain": [
       "          W         X         Y         Z\n",
       "A  0.497238  0.748184  0.396534  0.609023\n",
       "B  0.873356  0.633916  0.552347  0.172323\n",
       "C  0.171686  0.598848  0.573903  0.175176\n",
       "D  0.654657  0.651876  0.207253  0.405381\n",
       "E  0.311798  0.390531  0.714740  0.612824"
      ]
     },
     "execution_count": 26,
     "metadata": {},
     "output_type": "execute_result"
    }
   ],
   "source": [
    "df.drop(['new'],axis=1)"
   ]
  },
  {
   "cell_type": "code",
   "execution_count": 27,
   "metadata": {},
   "outputs": [
    {
     "data": {
      "text/html": [
       "<div>\n",
       "<style scoped>\n",
       "    .dataframe tbody tr th:only-of-type {\n",
       "        vertical-align: middle;\n",
       "    }\n",
       "\n",
       "    .dataframe tbody tr th {\n",
       "        vertical-align: top;\n",
       "    }\n",
       "\n",
       "    .dataframe thead th {\n",
       "        text-align: right;\n",
       "    }\n",
       "</style>\n",
       "<table border=\"1\" class=\"dataframe\">\n",
       "  <thead>\n",
       "    <tr style=\"text-align: right;\">\n",
       "      <th></th>\n",
       "      <th>W</th>\n",
       "      <th>X</th>\n",
       "      <th>Y</th>\n",
       "      <th>Z</th>\n",
       "      <th>new</th>\n",
       "    </tr>\n",
       "  </thead>\n",
       "  <tbody>\n",
       "    <tr>\n",
       "      <th>A</th>\n",
       "      <td>0.497238</td>\n",
       "      <td>0.748184</td>\n",
       "      <td>0.396534</td>\n",
       "      <td>0.609023</td>\n",
       "      <td>0.893772</td>\n",
       "    </tr>\n",
       "    <tr>\n",
       "      <th>B</th>\n",
       "      <td>0.873356</td>\n",
       "      <td>0.633916</td>\n",
       "      <td>0.552347</td>\n",
       "      <td>0.172323</td>\n",
       "      <td>1.425703</td>\n",
       "    </tr>\n",
       "    <tr>\n",
       "      <th>C</th>\n",
       "      <td>0.171686</td>\n",
       "      <td>0.598848</td>\n",
       "      <td>0.573903</td>\n",
       "      <td>0.175176</td>\n",
       "      <td>0.745589</td>\n",
       "    </tr>\n",
       "    <tr>\n",
       "      <th>D</th>\n",
       "      <td>0.654657</td>\n",
       "      <td>0.651876</td>\n",
       "      <td>0.207253</td>\n",
       "      <td>0.405381</td>\n",
       "      <td>0.861910</td>\n",
       "    </tr>\n",
       "    <tr>\n",
       "      <th>E</th>\n",
       "      <td>0.311798</td>\n",
       "      <td>0.390531</td>\n",
       "      <td>0.714740</td>\n",
       "      <td>0.612824</td>\n",
       "      <td>1.026538</td>\n",
       "    </tr>\n",
       "  </tbody>\n",
       "</table>\n",
       "</div>"
      ],
      "text/plain": [
       "          W         X         Y         Z       new\n",
       "A  0.497238  0.748184  0.396534  0.609023  0.893772\n",
       "B  0.873356  0.633916  0.552347  0.172323  1.425703\n",
       "C  0.171686  0.598848  0.573903  0.175176  0.745589\n",
       "D  0.654657  0.651876  0.207253  0.405381  0.861910\n",
       "E  0.311798  0.390531  0.714740  0.612824  1.026538"
      ]
     },
     "execution_count": 27,
     "metadata": {},
     "output_type": "execute_result"
    }
   ],
   "source": [
    "df"
   ]
  },
  {
   "cell_type": "code",
   "execution_count": 30,
   "metadata": {},
   "outputs": [],
   "source": [
    "df.drop(['new'],axis=1,inplace=True)"
   ]
  },
  {
   "cell_type": "code",
   "execution_count": 31,
   "metadata": {},
   "outputs": [
    {
     "data": {
      "text/html": [
       "<div>\n",
       "<style scoped>\n",
       "    .dataframe tbody tr th:only-of-type {\n",
       "        vertical-align: middle;\n",
       "    }\n",
       "\n",
       "    .dataframe tbody tr th {\n",
       "        vertical-align: top;\n",
       "    }\n",
       "\n",
       "    .dataframe thead th {\n",
       "        text-align: right;\n",
       "    }\n",
       "</style>\n",
       "<table border=\"1\" class=\"dataframe\">\n",
       "  <thead>\n",
       "    <tr style=\"text-align: right;\">\n",
       "      <th></th>\n",
       "      <th>W</th>\n",
       "      <th>X</th>\n",
       "      <th>Y</th>\n",
       "      <th>Z</th>\n",
       "    </tr>\n",
       "  </thead>\n",
       "  <tbody>\n",
       "    <tr>\n",
       "      <th>A</th>\n",
       "      <td>0.497238</td>\n",
       "      <td>0.748184</td>\n",
       "      <td>0.396534</td>\n",
       "      <td>0.609023</td>\n",
       "    </tr>\n",
       "    <tr>\n",
       "      <th>B</th>\n",
       "      <td>0.873356</td>\n",
       "      <td>0.633916</td>\n",
       "      <td>0.552347</td>\n",
       "      <td>0.172323</td>\n",
       "    </tr>\n",
       "    <tr>\n",
       "      <th>C</th>\n",
       "      <td>0.171686</td>\n",
       "      <td>0.598848</td>\n",
       "      <td>0.573903</td>\n",
       "      <td>0.175176</td>\n",
       "    </tr>\n",
       "    <tr>\n",
       "      <th>D</th>\n",
       "      <td>0.654657</td>\n",
       "      <td>0.651876</td>\n",
       "      <td>0.207253</td>\n",
       "      <td>0.405381</td>\n",
       "    </tr>\n",
       "    <tr>\n",
       "      <th>E</th>\n",
       "      <td>0.311798</td>\n",
       "      <td>0.390531</td>\n",
       "      <td>0.714740</td>\n",
       "      <td>0.612824</td>\n",
       "    </tr>\n",
       "  </tbody>\n",
       "</table>\n",
       "</div>"
      ],
      "text/plain": [
       "          W         X         Y         Z\n",
       "A  0.497238  0.748184  0.396534  0.609023\n",
       "B  0.873356  0.633916  0.552347  0.172323\n",
       "C  0.171686  0.598848  0.573903  0.175176\n",
       "D  0.654657  0.651876  0.207253  0.405381\n",
       "E  0.311798  0.390531  0.714740  0.612824"
      ]
     },
     "execution_count": 31,
     "metadata": {},
     "output_type": "execute_result"
    }
   ],
   "source": [
    "df"
   ]
  },
  {
   "cell_type": "code",
   "execution_count": 32,
   "metadata": {},
   "outputs": [
    {
     "data": {
      "text/html": [
       "<div>\n",
       "<style scoped>\n",
       "    .dataframe tbody tr th:only-of-type {\n",
       "        vertical-align: middle;\n",
       "    }\n",
       "\n",
       "    .dataframe tbody tr th {\n",
       "        vertical-align: top;\n",
       "    }\n",
       "\n",
       "    .dataframe thead th {\n",
       "        text-align: right;\n",
       "    }\n",
       "</style>\n",
       "<table border=\"1\" class=\"dataframe\">\n",
       "  <thead>\n",
       "    <tr style=\"text-align: right;\">\n",
       "      <th></th>\n",
       "      <th>W</th>\n",
       "      <th>X</th>\n",
       "      <th>Y</th>\n",
       "      <th>Z</th>\n",
       "    </tr>\n",
       "  </thead>\n",
       "  <tbody>\n",
       "    <tr>\n",
       "      <th>A</th>\n",
       "      <td>0.497238</td>\n",
       "      <td>0.748184</td>\n",
       "      <td>0.396534</td>\n",
       "      <td>0.609023</td>\n",
       "    </tr>\n",
       "    <tr>\n",
       "      <th>B</th>\n",
       "      <td>0.873356</td>\n",
       "      <td>0.633916</td>\n",
       "      <td>0.552347</td>\n",
       "      <td>0.172323</td>\n",
       "    </tr>\n",
       "    <tr>\n",
       "      <th>C</th>\n",
       "      <td>0.171686</td>\n",
       "      <td>0.598848</td>\n",
       "      <td>0.573903</td>\n",
       "      <td>0.175176</td>\n",
       "    </tr>\n",
       "    <tr>\n",
       "      <th>D</th>\n",
       "      <td>0.654657</td>\n",
       "      <td>0.651876</td>\n",
       "      <td>0.207253</td>\n",
       "      <td>0.405381</td>\n",
       "    </tr>\n",
       "    <tr>\n",
       "      <th>E</th>\n",
       "      <td>0.311798</td>\n",
       "      <td>0.390531</td>\n",
       "      <td>0.714740</td>\n",
       "      <td>0.612824</td>\n",
       "    </tr>\n",
       "  </tbody>\n",
       "</table>\n",
       "</div>"
      ],
      "text/plain": [
       "          W         X         Y         Z\n",
       "A  0.497238  0.748184  0.396534  0.609023\n",
       "B  0.873356  0.633916  0.552347  0.172323\n",
       "C  0.171686  0.598848  0.573903  0.175176\n",
       "D  0.654657  0.651876  0.207253  0.405381\n",
       "E  0.311798  0.390531  0.714740  0.612824"
      ]
     },
     "execution_count": 32,
     "metadata": {},
     "output_type": "execute_result"
    }
   ],
   "source": [
    "df"
   ]
  },
  {
   "cell_type": "code",
   "execution_count": 33,
   "metadata": {},
   "outputs": [
    {
     "data": {
      "text/html": [
       "<div>\n",
       "<style scoped>\n",
       "    .dataframe tbody tr th:only-of-type {\n",
       "        vertical-align: middle;\n",
       "    }\n",
       "\n",
       "    .dataframe tbody tr th {\n",
       "        vertical-align: top;\n",
       "    }\n",
       "\n",
       "    .dataframe thead th {\n",
       "        text-align: right;\n",
       "    }\n",
       "</style>\n",
       "<table border=\"1\" class=\"dataframe\">\n",
       "  <thead>\n",
       "    <tr style=\"text-align: right;\">\n",
       "      <th></th>\n",
       "      <th>W</th>\n",
       "      <th>Y</th>\n",
       "    </tr>\n",
       "  </thead>\n",
       "  <tbody>\n",
       "    <tr>\n",
       "      <th>A</th>\n",
       "      <td>0.497238</td>\n",
       "      <td>0.396534</td>\n",
       "    </tr>\n",
       "    <tr>\n",
       "      <th>B</th>\n",
       "      <td>0.873356</td>\n",
       "      <td>0.552347</td>\n",
       "    </tr>\n",
       "    <tr>\n",
       "      <th>C</th>\n",
       "      <td>0.171686</td>\n",
       "      <td>0.573903</td>\n",
       "    </tr>\n",
       "    <tr>\n",
       "      <th>D</th>\n",
       "      <td>0.654657</td>\n",
       "      <td>0.207253</td>\n",
       "    </tr>\n",
       "    <tr>\n",
       "      <th>E</th>\n",
       "      <td>0.311798</td>\n",
       "      <td>0.714740</td>\n",
       "    </tr>\n",
       "  </tbody>\n",
       "</table>\n",
       "</div>"
      ],
      "text/plain": [
       "          W         Y\n",
       "A  0.497238  0.396534\n",
       "B  0.873356  0.552347\n",
       "C  0.171686  0.573903\n",
       "D  0.654657  0.207253\n",
       "E  0.311798  0.714740"
      ]
     },
     "execution_count": 33,
     "metadata": {},
     "output_type": "execute_result"
    }
   ],
   "source": [
    "df[['W','Y']]"
   ]
  },
  {
   "cell_type": "code",
   "execution_count": 35,
   "metadata": {},
   "outputs": [
    {
     "data": {
      "text/plain": [
       "W    0.654657\n",
       "X    0.651876\n",
       "Y    0.207253\n",
       "Z    0.405381\n",
       "Name: D, dtype: float64"
      ]
     },
     "execution_count": 35,
     "metadata": {},
     "output_type": "execute_result"
    }
   ],
   "source": [
    "df.loc['D']"
   ]
  },
  {
   "cell_type": "code",
   "execution_count": 38,
   "metadata": {},
   "outputs": [
    {
     "data": {
      "text/plain": [
       "A    False\n",
       "B     True\n",
       "C    False\n",
       "D     True\n",
       "E    False\n",
       "Name: W, dtype: bool"
      ]
     },
     "execution_count": 38,
     "metadata": {},
     "output_type": "execute_result"
    }
   ],
   "source": [
    "df['W']>0.5"
   ]
  },
  {
   "cell_type": "code",
   "execution_count": 40,
   "metadata": {},
   "outputs": [
    {
     "data": {
      "text/plain": [
       "B    0.873356\n",
       "D    0.654657\n",
       "Name: W, dtype: float64"
      ]
     },
     "execution_count": 40,
     "metadata": {},
     "output_type": "execute_result"
    }
   ],
   "source": [
    "df[df['W']>0.5]['W']"
   ]
  },
  {
   "cell_type": "code",
   "execution_count": 43,
   "metadata": {},
   "outputs": [],
   "source": [
    "juice=[10,29,25,49]\n",
    "syrup=['red','blue','green','red']\n",
    "mix={'red':10,'blue':29,'green':25,'red':49}\n"
   ]
  },
  {
   "cell_type": "code",
   "execution_count": 45,
   "metadata": {},
   "outputs": [
    {
     "data": {
      "text/plain": [
       "49"
      ]
     },
     "execution_count": 45,
     "metadata": {},
     "output_type": "execute_result"
    }
   ],
   "source": [
    "mix['red']"
   ]
  },
  {
   "cell_type": "code",
   "execution_count": 48,
   "metadata": {},
   "outputs": [],
   "source": [
    "mix['yell']=90"
   ]
  },
  {
   "cell_type": "code",
   "execution_count": 49,
   "metadata": {},
   "outputs": [
    {
     "data": {
      "text/plain": [
       "{'red': 49, 'blue': 29, 'green': 25, 'yell': 90}"
      ]
     },
     "execution_count": 49,
     "metadata": {},
     "output_type": "execute_result"
    }
   ],
   "source": [
    "mix"
   ]
  },
  {
   "cell_type": "code",
   "execution_count": 50,
   "metadata": {},
   "outputs": [],
   "source": [
    "del(mix['green'])"
   ]
  },
  {
   "cell_type": "code",
   "execution_count": 51,
   "metadata": {},
   "outputs": [
    {
     "data": {
      "text/plain": [
       "{'red': 49, 'blue': 29, 'yell': 90}"
      ]
     },
     "execution_count": 51,
     "metadata": {},
     "output_type": "execute_result"
    }
   ],
   "source": [
    "mix"
   ]
  },
  {
   "cell_type": "code",
   "execution_count": 53,
   "metadata": {},
   "outputs": [
    {
     "name": "stdout",
     "output_type": "stream",
     "text": [
      "[2, 3, 4, 46]\n"
     ]
    }
   ],
   "source": [
    "fox=[1,2,3,45]\n",
    "rat=[num+1 for num in fox]\n",
    "print(rat)"
   ]
  },
  {
   "cell_type": "code",
   "execution_count": 56,
   "metadata": {},
   "outputs": [
    {
     "data": {
      "text/plain": [
       "[1, 2, 3, 4, 5, 6, 7, 8, 9, 10, 11]"
      ]
     },
     "execution_count": 56,
     "metadata": {},
     "output_type": "execute_result"
    }
   ],
   "source": [
    "hen=[num+1 for num in range(11)]\n",
    "hen"
   ]
  },
  {
   "cell_type": "code",
   "execution_count": 57,
   "metadata": {},
   "outputs": [
    {
     "data": {
      "text/plain": [
       "['liz', 16, 'pet', 17, 'rex', 12, 'cho', 10]"
      ]
     },
     "execution_count": 57,
     "metadata": {},
     "output_type": "execute_result"
    }
   ],
   "source": [
    "fam=['liz',16,'pet',17,'rex',12,'cho',10]\n",
    "fam"
   ]
  },
  {
   "cell_type": "code",
   "execution_count": 58,
   "metadata": {},
   "outputs": [
    {
     "data": {
      "text/plain": [
       "['liz', 16, 'pet', 17, 'rex', 12, 'cho', 10, 'ma', 16]"
      ]
     },
     "execution_count": 58,
     "metadata": {},
     "output_type": "execute_result"
    }
   ],
   "source": [
    "fam + ['ma',16]"
   ]
  },
  {
   "cell_type": "code",
   "execution_count": 60,
   "metadata": {},
   "outputs": [],
   "source": [
    "del(fam[4:5])"
   ]
  },
  {
   "cell_type": "code",
   "execution_count": 61,
   "metadata": {},
   "outputs": [
    {
     "data": {
      "text/plain": [
       "['liz', 16, 'pet', 17, 12, 'cho', 10]"
      ]
     },
     "execution_count": 61,
     "metadata": {},
     "output_type": "execute_result"
    }
   ],
   "source": [
    "fam"
   ]
  },
  {
   "cell_type": "code",
   "execution_count": 62,
   "metadata": {},
   "outputs": [
    {
     "data": {
      "text/plain": [
       "[10, 'cho', 12, 17, 'pet', 16, 'liz']"
      ]
     },
     "execution_count": 62,
     "metadata": {},
     "output_type": "execute_result"
    }
   ],
   "source": [
    "fam[::-1]"
   ]
  },
  {
   "cell_type": "code",
   "execution_count": 65,
   "metadata": {},
   "outputs": [
    {
     "data": {
      "text/plain": [
       "['liz', 16, 'pet', 17, 12, 'cho', 10, 'rel', 13, 'rol', 25]"
      ]
     },
     "execution_count": 65,
     "metadata": {},
     "output_type": "execute_result"
    }
   ],
   "source": [
    "fam + ['rel',13,'rol',25]"
   ]
  },
  {
   "cell_type": "code",
   "execution_count": 66,
   "metadata": {},
   "outputs": [],
   "source": [
    "del(fam[3])"
   ]
  },
  {
   "cell_type": "code",
   "execution_count": 67,
   "metadata": {},
   "outputs": [
    {
     "data": {
      "text/plain": [
       "['liz', 16, 'pet', 12, 'cho', 10]"
      ]
     },
     "execution_count": 67,
     "metadata": {},
     "output_type": "execute_result"
    }
   ],
   "source": [
    "fam"
   ]
  },
  {
   "cell_type": "code",
   "execution_count": null,
   "metadata": {},
   "outputs": [],
   "source": []
  }
 ],
 "metadata": {
  "kernelspec": {
   "display_name": "Python 3",
   "language": "python",
   "name": "python3"
  },
  "language_info": {
   "codemirror_mode": {
    "name": "ipython",
    "version": 3
   },
   "file_extension": ".py",
   "mimetype": "text/x-python",
   "name": "python",
   "nbconvert_exporter": "python",
   "pygments_lexer": "ipython3",
   "version": "3.8.3"
  }
 },
 "nbformat": 4,
 "nbformat_minor": 4
}
