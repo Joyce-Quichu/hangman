{
 "cells": [
  {
   "cell_type": "code",
   "execution_count": 2,
   "metadata": {},
   "outputs": [],
   "source": [
    "import pandas as pd"
   ]
  },
  {
   "cell_type": "code",
   "execution_count": 3,
   "metadata": {},
   "outputs": [],
   "source": [
    "from numpy.random import rand"
   ]
  },
  {
   "cell_type": "code",
   "execution_count": 9,
   "metadata": {},
   "outputs": [
    {
     "data": {
      "text/html": [
       "<div>\n",
       "<style scoped>\n",
       "    .dataframe tbody tr th:only-of-type {\n",
       "        vertical-align: middle;\n",
       "    }\n",
       "\n",
       "    .dataframe tbody tr th {\n",
       "        vertical-align: top;\n",
       "    }\n",
       "\n",
       "    .dataframe thead th {\n",
       "        text-align: right;\n",
       "    }\n",
       "</style>\n",
       "<table border=\"1\" class=\"dataframe\">\n",
       "  <thead>\n",
       "    <tr style=\"text-align: right;\">\n",
       "      <th></th>\n",
       "      <th>month</th>\n",
       "      <th>day</th>\n",
       "      <th>year</th>\n",
       "      <th>hour</th>\n",
       "    </tr>\n",
       "  </thead>\n",
       "  <tbody>\n",
       "    <tr>\n",
       "      <th>0</th>\n",
       "      <td>april</td>\n",
       "      <td>27</td>\n",
       "      <td>2929.2</td>\n",
       "      <td>NaN</td>\n",
       "    </tr>\n",
       "    <tr>\n",
       "      <th>1</th>\n",
       "      <td>march</td>\n",
       "      <td>20</td>\n",
       "      <td>1994.0</td>\n",
       "      <td>15.0</td>\n",
       "    </tr>\n",
       "  </tbody>\n",
       "</table>\n",
       "</div>"
      ],
      "text/plain": [
       "   month  day    year  hour\n",
       "0  april   27  2929.2   NaN\n",
       "1  march   20  1994.0  15.0"
      ]
     },
     "execution_count": 9,
     "metadata": {},
     "output_type": "execute_result"
    }
   ],
   "source": [
    "df=pd.DataFrame([['april',27,2929.20],['march',20,1994,15]], columns=['month','day','year','hour'])\n",
    "df                "
   ]
  },
  {
   "cell_type": "code",
   "execution_count": 13,
   "metadata": {},
   "outputs": [
    {
     "data": {
      "text/html": [
       "<div>\n",
       "<style scoped>\n",
       "    .dataframe tbody tr th:only-of-type {\n",
       "        vertical-align: middle;\n",
       "    }\n",
       "\n",
       "    .dataframe tbody tr th {\n",
       "        vertical-align: top;\n",
       "    }\n",
       "\n",
       "    .dataframe thead th {\n",
       "        text-align: right;\n",
       "    }\n",
       "</style>\n",
       "<table border=\"1\" class=\"dataframe\">\n",
       "  <thead>\n",
       "    <tr style=\"text-align: right;\">\n",
       "      <th></th>\n",
       "      <th>W</th>\n",
       "      <th>X</th>\n",
       "      <th>Y</th>\n",
       "      <th>Z</th>\n",
       "    </tr>\n",
       "  </thead>\n",
       "  <tbody>\n",
       "    <tr>\n",
       "      <th>A</th>\n",
       "      <td>0.280907</td>\n",
       "      <td>0.706435</td>\n",
       "      <td>0.724671</td>\n",
       "      <td>0.819216</td>\n",
       "    </tr>\n",
       "    <tr>\n",
       "      <th>B</th>\n",
       "      <td>0.143594</td>\n",
       "      <td>0.688291</td>\n",
       "      <td>0.715054</td>\n",
       "      <td>0.656093</td>\n",
       "    </tr>\n",
       "    <tr>\n",
       "      <th>C</th>\n",
       "      <td>0.984644</td>\n",
       "      <td>0.149899</td>\n",
       "      <td>0.846587</td>\n",
       "      <td>0.464338</td>\n",
       "    </tr>\n",
       "    <tr>\n",
       "      <th>D</th>\n",
       "      <td>0.390652</td>\n",
       "      <td>0.019877</td>\n",
       "      <td>0.239807</td>\n",
       "      <td>0.907567</td>\n",
       "    </tr>\n",
       "    <tr>\n",
       "      <th>E</th>\n",
       "      <td>0.038498</td>\n",
       "      <td>0.273806</td>\n",
       "      <td>0.967524</td>\n",
       "      <td>0.306703</td>\n",
       "    </tr>\n",
       "  </tbody>\n",
       "</table>\n",
       "</div>"
      ],
      "text/plain": [
       "          W         X         Y         Z\n",
       "A  0.280907  0.706435  0.724671  0.819216\n",
       "B  0.143594  0.688291  0.715054  0.656093\n",
       "C  0.984644  0.149899  0.846587  0.464338\n",
       "D  0.390652  0.019877  0.239807  0.907567\n",
       "E  0.038498  0.273806  0.967524  0.306703"
      ]
     },
     "execution_count": 13,
     "metadata": {},
     "output_type": "execute_result"
    }
   ],
   "source": [
    "df=pd.DataFrame(rand(5,4),index='A B C D E '.split(), columns='W X Y Z'.split())\n",
    "df"
   ]
  },
  {
   "cell_type": "code",
   "execution_count": 14,
   "metadata": {},
   "outputs": [
    {
     "data": {
      "text/html": [
       "<div>\n",
       "<style scoped>\n",
       "    .dataframe tbody tr th:only-of-type {\n",
       "        vertical-align: middle;\n",
       "    }\n",
       "\n",
       "    .dataframe tbody tr th {\n",
       "        vertical-align: top;\n",
       "    }\n",
       "\n",
       "    .dataframe thead th {\n",
       "        text-align: right;\n",
       "    }\n",
       "</style>\n",
       "<table border=\"1\" class=\"dataframe\">\n",
       "  <thead>\n",
       "    <tr style=\"text-align: right;\">\n",
       "      <th></th>\n",
       "      <th>W</th>\n",
       "      <th>Y</th>\n",
       "    </tr>\n",
       "  </thead>\n",
       "  <tbody>\n",
       "    <tr>\n",
       "      <th>A</th>\n",
       "      <td>0.280907</td>\n",
       "      <td>0.724671</td>\n",
       "    </tr>\n",
       "    <tr>\n",
       "      <th>B</th>\n",
       "      <td>0.143594</td>\n",
       "      <td>0.715054</td>\n",
       "    </tr>\n",
       "    <tr>\n",
       "      <th>C</th>\n",
       "      <td>0.984644</td>\n",
       "      <td>0.846587</td>\n",
       "    </tr>\n",
       "    <tr>\n",
       "      <th>D</th>\n",
       "      <td>0.390652</td>\n",
       "      <td>0.239807</td>\n",
       "    </tr>\n",
       "    <tr>\n",
       "      <th>E</th>\n",
       "      <td>0.038498</td>\n",
       "      <td>0.967524</td>\n",
       "    </tr>\n",
       "  </tbody>\n",
       "</table>\n",
       "</div>"
      ],
      "text/plain": [
       "          W         Y\n",
       "A  0.280907  0.724671\n",
       "B  0.143594  0.715054\n",
       "C  0.984644  0.846587\n",
       "D  0.390652  0.239807\n",
       "E  0.038498  0.967524"
      ]
     },
     "execution_count": 14,
     "metadata": {},
     "output_type": "execute_result"
    }
   ],
   "source": [
    "df[['W','Y']]"
   ]
  },
  {
   "cell_type": "code",
   "execution_count": 15,
   "metadata": {},
   "outputs": [
    {
     "data": {
      "text/plain": [
       "A    0.819216\n",
       "B    0.656093\n",
       "C    0.464338\n",
       "D    0.907567\n",
       "E    0.306703\n",
       "Name: Z, dtype: float64"
      ]
     },
     "execution_count": 15,
     "metadata": {},
     "output_type": "execute_result"
    }
   ],
   "source": [
    "df['Z']"
   ]
  },
  {
   "cell_type": "code",
   "execution_count": 18,
   "metadata": {},
   "outputs": [
    {
     "data": {
      "text/html": [
       "<div>\n",
       "<style scoped>\n",
       "    .dataframe tbody tr th:only-of-type {\n",
       "        vertical-align: middle;\n",
       "    }\n",
       "\n",
       "    .dataframe tbody tr th {\n",
       "        vertical-align: top;\n",
       "    }\n",
       "\n",
       "    .dataframe thead th {\n",
       "        text-align: right;\n",
       "    }\n",
       "</style>\n",
       "<table border=\"1\" class=\"dataframe\">\n",
       "  <thead>\n",
       "    <tr style=\"text-align: right;\">\n",
       "      <th></th>\n",
       "      <th>W</th>\n",
       "      <th>X</th>\n",
       "      <th>Y</th>\n",
       "      <th>Z</th>\n",
       "      <th>new</th>\n",
       "    </tr>\n",
       "  </thead>\n",
       "  <tbody>\n",
       "    <tr>\n",
       "      <th>A</th>\n",
       "      <td>0.280907</td>\n",
       "      <td>0.706435</td>\n",
       "      <td>0.724671</td>\n",
       "      <td>0.819216</td>\n",
       "      <td>1.005578</td>\n",
       "    </tr>\n",
       "    <tr>\n",
       "      <th>B</th>\n",
       "      <td>0.143594</td>\n",
       "      <td>0.688291</td>\n",
       "      <td>0.715054</td>\n",
       "      <td>0.656093</td>\n",
       "      <td>0.858648</td>\n",
       "    </tr>\n",
       "    <tr>\n",
       "      <th>C</th>\n",
       "      <td>0.984644</td>\n",
       "      <td>0.149899</td>\n",
       "      <td>0.846587</td>\n",
       "      <td>0.464338</td>\n",
       "      <td>1.831232</td>\n",
       "    </tr>\n",
       "    <tr>\n",
       "      <th>D</th>\n",
       "      <td>0.390652</td>\n",
       "      <td>0.019877</td>\n",
       "      <td>0.239807</td>\n",
       "      <td>0.907567</td>\n",
       "      <td>0.630459</td>\n",
       "    </tr>\n",
       "    <tr>\n",
       "      <th>E</th>\n",
       "      <td>0.038498</td>\n",
       "      <td>0.273806</td>\n",
       "      <td>0.967524</td>\n",
       "      <td>0.306703</td>\n",
       "      <td>1.006023</td>\n",
       "    </tr>\n",
       "  </tbody>\n",
       "</table>\n",
       "</div>"
      ],
      "text/plain": [
       "          W         X         Y         Z       new\n",
       "A  0.280907  0.706435  0.724671  0.819216  1.005578\n",
       "B  0.143594  0.688291  0.715054  0.656093  0.858648\n",
       "C  0.984644  0.149899  0.846587  0.464338  1.831232\n",
       "D  0.390652  0.019877  0.239807  0.907567  0.630459\n",
       "E  0.038498  0.273806  0.967524  0.306703  1.006023"
      ]
     },
     "execution_count": 18,
     "metadata": {},
     "output_type": "execute_result"
    }
   ],
   "source": [
    "df['new']=df['W'] + df['Y']\n",
    "df"
   ]
  },
  {
   "cell_type": "code",
   "execution_count": 19,
   "metadata": {},
   "outputs": [
    {
     "data": {
      "text/html": [
       "<div>\n",
       "<style scoped>\n",
       "    .dataframe tbody tr th:only-of-type {\n",
       "        vertical-align: middle;\n",
       "    }\n",
       "\n",
       "    .dataframe tbody tr th {\n",
       "        vertical-align: top;\n",
       "    }\n",
       "\n",
       "    .dataframe thead th {\n",
       "        text-align: right;\n",
       "    }\n",
       "</style>\n",
       "<table border=\"1\" class=\"dataframe\">\n",
       "  <thead>\n",
       "    <tr style=\"text-align: right;\">\n",
       "      <th></th>\n",
       "      <th>W</th>\n",
       "      <th>X</th>\n",
       "      <th>Y</th>\n",
       "      <th>Z</th>\n",
       "      <th>new</th>\n",
       "    </tr>\n",
       "  </thead>\n",
       "  <tbody>\n",
       "    <tr>\n",
       "      <th>A</th>\n",
       "      <td>0.280907</td>\n",
       "      <td>0.706435</td>\n",
       "      <td>0.724671</td>\n",
       "      <td>0.819216</td>\n",
       "      <td>1.005578</td>\n",
       "    </tr>\n",
       "    <tr>\n",
       "      <th>B</th>\n",
       "      <td>0.143594</td>\n",
       "      <td>0.688291</td>\n",
       "      <td>0.715054</td>\n",
       "      <td>0.656093</td>\n",
       "      <td>0.858648</td>\n",
       "    </tr>\n",
       "    <tr>\n",
       "      <th>C</th>\n",
       "      <td>0.984644</td>\n",
       "      <td>0.149899</td>\n",
       "      <td>0.846587</td>\n",
       "      <td>0.464338</td>\n",
       "      <td>1.831232</td>\n",
       "    </tr>\n",
       "    <tr>\n",
       "      <th>D</th>\n",
       "      <td>0.390652</td>\n",
       "      <td>0.019877</td>\n",
       "      <td>0.239807</td>\n",
       "      <td>0.907567</td>\n",
       "      <td>0.630459</td>\n",
       "    </tr>\n",
       "    <tr>\n",
       "      <th>E</th>\n",
       "      <td>0.038498</td>\n",
       "      <td>0.273806</td>\n",
       "      <td>0.967524</td>\n",
       "      <td>0.306703</td>\n",
       "      <td>1.006023</td>\n",
       "    </tr>\n",
       "  </tbody>\n",
       "</table>\n",
       "</div>"
      ],
      "text/plain": [
       "          W         X         Y         Z       new\n",
       "A  0.280907  0.706435  0.724671  0.819216  1.005578\n",
       "B  0.143594  0.688291  0.715054  0.656093  0.858648\n",
       "C  0.984644  0.149899  0.846587  0.464338  1.831232\n",
       "D  0.390652  0.019877  0.239807  0.907567  0.630459\n",
       "E  0.038498  0.273806  0.967524  0.306703  1.006023"
      ]
     },
     "execution_count": 19,
     "metadata": {},
     "output_type": "execute_result"
    }
   ],
   "source": [
    "df"
   ]
  },
  {
   "cell_type": "code",
   "execution_count": 22,
   "metadata": {},
   "outputs": [
    {
     "data": {
      "text/html": [
       "<div>\n",
       "<style scoped>\n",
       "    .dataframe tbody tr th:only-of-type {\n",
       "        vertical-align: middle;\n",
       "    }\n",
       "\n",
       "    .dataframe tbody tr th {\n",
       "        vertical-align: top;\n",
       "    }\n",
       "\n",
       "    .dataframe thead th {\n",
       "        text-align: right;\n",
       "    }\n",
       "</style>\n",
       "<table border=\"1\" class=\"dataframe\">\n",
       "  <thead>\n",
       "    <tr style=\"text-align: right;\">\n",
       "      <th></th>\n",
       "      <th>W</th>\n",
       "      <th>X</th>\n",
       "      <th>Y</th>\n",
       "      <th>Z</th>\n",
       "    </tr>\n",
       "  </thead>\n",
       "  <tbody>\n",
       "    <tr>\n",
       "      <th>A</th>\n",
       "      <td>0.280907</td>\n",
       "      <td>0.706435</td>\n",
       "      <td>0.724671</td>\n",
       "      <td>0.819216</td>\n",
       "    </tr>\n",
       "    <tr>\n",
       "      <th>B</th>\n",
       "      <td>0.143594</td>\n",
       "      <td>0.688291</td>\n",
       "      <td>0.715054</td>\n",
       "      <td>0.656093</td>\n",
       "    </tr>\n",
       "    <tr>\n",
       "      <th>C</th>\n",
       "      <td>0.984644</td>\n",
       "      <td>0.149899</td>\n",
       "      <td>0.846587</td>\n",
       "      <td>0.464338</td>\n",
       "    </tr>\n",
       "    <tr>\n",
       "      <th>D</th>\n",
       "      <td>0.390652</td>\n",
       "      <td>0.019877</td>\n",
       "      <td>0.239807</td>\n",
       "      <td>0.907567</td>\n",
       "    </tr>\n",
       "    <tr>\n",
       "      <th>E</th>\n",
       "      <td>0.038498</td>\n",
       "      <td>0.273806</td>\n",
       "      <td>0.967524</td>\n",
       "      <td>0.306703</td>\n",
       "    </tr>\n",
       "  </tbody>\n",
       "</table>\n",
       "</div>"
      ],
      "text/plain": [
       "          W         X         Y         Z\n",
       "A  0.280907  0.706435  0.724671  0.819216\n",
       "B  0.143594  0.688291  0.715054  0.656093\n",
       "C  0.984644  0.149899  0.846587  0.464338\n",
       "D  0.390652  0.019877  0.239807  0.907567\n",
       "E  0.038498  0.273806  0.967524  0.306703"
      ]
     },
     "execution_count": 22,
     "metadata": {},
     "output_type": "execute_result"
    }
   ],
   "source": [
    "df.drop('new',axis=1)"
   ]
  },
  {
   "cell_type": "code",
   "execution_count": 23,
   "metadata": {},
   "outputs": [
    {
     "data": {
      "text/html": [
       "<div>\n",
       "<style scoped>\n",
       "    .dataframe tbody tr th:only-of-type {\n",
       "        vertical-align: middle;\n",
       "    }\n",
       "\n",
       "    .dataframe tbody tr th {\n",
       "        vertical-align: top;\n",
       "    }\n",
       "\n",
       "    .dataframe thead th {\n",
       "        text-align: right;\n",
       "    }\n",
       "</style>\n",
       "<table border=\"1\" class=\"dataframe\">\n",
       "  <thead>\n",
       "    <tr style=\"text-align: right;\">\n",
       "      <th></th>\n",
       "      <th>W</th>\n",
       "      <th>X</th>\n",
       "      <th>Y</th>\n",
       "      <th>Z</th>\n",
       "      <th>new</th>\n",
       "    </tr>\n",
       "  </thead>\n",
       "  <tbody>\n",
       "    <tr>\n",
       "      <th>A</th>\n",
       "      <td>0.280907</td>\n",
       "      <td>0.706435</td>\n",
       "      <td>0.724671</td>\n",
       "      <td>0.819216</td>\n",
       "      <td>1.005578</td>\n",
       "    </tr>\n",
       "    <tr>\n",
       "      <th>B</th>\n",
       "      <td>0.143594</td>\n",
       "      <td>0.688291</td>\n",
       "      <td>0.715054</td>\n",
       "      <td>0.656093</td>\n",
       "      <td>0.858648</td>\n",
       "    </tr>\n",
       "    <tr>\n",
       "      <th>C</th>\n",
       "      <td>0.984644</td>\n",
       "      <td>0.149899</td>\n",
       "      <td>0.846587</td>\n",
       "      <td>0.464338</td>\n",
       "      <td>1.831232</td>\n",
       "    </tr>\n",
       "    <tr>\n",
       "      <th>D</th>\n",
       "      <td>0.390652</td>\n",
       "      <td>0.019877</td>\n",
       "      <td>0.239807</td>\n",
       "      <td>0.907567</td>\n",
       "      <td>0.630459</td>\n",
       "    </tr>\n",
       "    <tr>\n",
       "      <th>E</th>\n",
       "      <td>0.038498</td>\n",
       "      <td>0.273806</td>\n",
       "      <td>0.967524</td>\n",
       "      <td>0.306703</td>\n",
       "      <td>1.006023</td>\n",
       "    </tr>\n",
       "  </tbody>\n",
       "</table>\n",
       "</div>"
      ],
      "text/plain": [
       "          W         X         Y         Z       new\n",
       "A  0.280907  0.706435  0.724671  0.819216  1.005578\n",
       "B  0.143594  0.688291  0.715054  0.656093  0.858648\n",
       "C  0.984644  0.149899  0.846587  0.464338  1.831232\n",
       "D  0.390652  0.019877  0.239807  0.907567  0.630459\n",
       "E  0.038498  0.273806  0.967524  0.306703  1.006023"
      ]
     },
     "execution_count": 23,
     "metadata": {},
     "output_type": "execute_result"
    }
   ],
   "source": [
    "df"
   ]
  },
  {
   "cell_type": "code",
   "execution_count": 24,
   "metadata": {},
   "outputs": [],
   "source": [
    "df.drop('new',axis=1,inplace=True)"
   ]
  },
  {
   "cell_type": "code",
   "execution_count": 25,
   "metadata": {},
   "outputs": [
    {
     "data": {
      "text/html": [
       "<div>\n",
       "<style scoped>\n",
       "    .dataframe tbody tr th:only-of-type {\n",
       "        vertical-align: middle;\n",
       "    }\n",
       "\n",
       "    .dataframe tbody tr th {\n",
       "        vertical-align: top;\n",
       "    }\n",
       "\n",
       "    .dataframe thead th {\n",
       "        text-align: right;\n",
       "    }\n",
       "</style>\n",
       "<table border=\"1\" class=\"dataframe\">\n",
       "  <thead>\n",
       "    <tr style=\"text-align: right;\">\n",
       "      <th></th>\n",
       "      <th>W</th>\n",
       "      <th>X</th>\n",
       "      <th>Y</th>\n",
       "      <th>Z</th>\n",
       "    </tr>\n",
       "  </thead>\n",
       "  <tbody>\n",
       "    <tr>\n",
       "      <th>A</th>\n",
       "      <td>0.280907</td>\n",
       "      <td>0.706435</td>\n",
       "      <td>0.724671</td>\n",
       "      <td>0.819216</td>\n",
       "    </tr>\n",
       "    <tr>\n",
       "      <th>B</th>\n",
       "      <td>0.143594</td>\n",
       "      <td>0.688291</td>\n",
       "      <td>0.715054</td>\n",
       "      <td>0.656093</td>\n",
       "    </tr>\n",
       "    <tr>\n",
       "      <th>C</th>\n",
       "      <td>0.984644</td>\n",
       "      <td>0.149899</td>\n",
       "      <td>0.846587</td>\n",
       "      <td>0.464338</td>\n",
       "    </tr>\n",
       "    <tr>\n",
       "      <th>D</th>\n",
       "      <td>0.390652</td>\n",
       "      <td>0.019877</td>\n",
       "      <td>0.239807</td>\n",
       "      <td>0.907567</td>\n",
       "    </tr>\n",
       "    <tr>\n",
       "      <th>E</th>\n",
       "      <td>0.038498</td>\n",
       "      <td>0.273806</td>\n",
       "      <td>0.967524</td>\n",
       "      <td>0.306703</td>\n",
       "    </tr>\n",
       "  </tbody>\n",
       "</table>\n",
       "</div>"
      ],
      "text/plain": [
       "          W         X         Y         Z\n",
       "A  0.280907  0.706435  0.724671  0.819216\n",
       "B  0.143594  0.688291  0.715054  0.656093\n",
       "C  0.984644  0.149899  0.846587  0.464338\n",
       "D  0.390652  0.019877  0.239807  0.907567\n",
       "E  0.038498  0.273806  0.967524  0.306703"
      ]
     },
     "execution_count": 25,
     "metadata": {},
     "output_type": "execute_result"
    }
   ],
   "source": [
    "df"
   ]
  },
  {
   "cell_type": "code",
   "execution_count": 26,
   "metadata": {},
   "outputs": [
    {
     "data": {
      "text/html": [
       "<div>\n",
       "<style scoped>\n",
       "    .dataframe tbody tr th:only-of-type {\n",
       "        vertical-align: middle;\n",
       "    }\n",
       "\n",
       "    .dataframe tbody tr th {\n",
       "        vertical-align: top;\n",
       "    }\n",
       "\n",
       "    .dataframe thead th {\n",
       "        text-align: right;\n",
       "    }\n",
       "</style>\n",
       "<table border=\"1\" class=\"dataframe\">\n",
       "  <thead>\n",
       "    <tr style=\"text-align: right;\">\n",
       "      <th></th>\n",
       "      <th>month</th>\n",
       "      <th>day</th>\n",
       "      <th>year</th>\n",
       "      <th>hour</th>\n",
       "    </tr>\n",
       "  </thead>\n",
       "  <tbody>\n",
       "    <tr>\n",
       "      <th>0</th>\n",
       "      <td>4</td>\n",
       "      <td>2</td>\n",
       "      <td>1994</td>\n",
       "      <td>12</td>\n",
       "    </tr>\n",
       "    <tr>\n",
       "      <th>1</th>\n",
       "      <td>6</td>\n",
       "      <td>13</td>\n",
       "      <td>1212</td>\n",
       "      <td>16</td>\n",
       "    </tr>\n",
       "  </tbody>\n",
       "</table>\n",
       "</div>"
      ],
      "text/plain": [
       "   month  day  year  hour\n",
       "0      4    2  1994    12\n",
       "1      6   13  1212    16"
      ]
     },
     "execution_count": 26,
     "metadata": {},
     "output_type": "execute_result"
    }
   ],
   "source": [
    "df=pd.DataFrame([[4,2,1994,12],[6,13,1212,16]],columns=['month','day','year','hour'])\n",
    "df"
   ]
  },
  {
   "cell_type": "code",
   "execution_count": 29,
   "metadata": {},
   "outputs": [
    {
     "data": {
      "text/html": [
       "<div>\n",
       "<style scoped>\n",
       "    .dataframe tbody tr th:only-of-type {\n",
       "        vertical-align: middle;\n",
       "    }\n",
       "\n",
       "    .dataframe tbody tr th {\n",
       "        vertical-align: top;\n",
       "    }\n",
       "\n",
       "    .dataframe thead th {\n",
       "        text-align: right;\n",
       "    }\n",
       "</style>\n",
       "<table border=\"1\" class=\"dataframe\">\n",
       "  <thead>\n",
       "    <tr style=\"text-align: right;\">\n",
       "      <th></th>\n",
       "      <th>z</th>\n",
       "      <th>y</th>\n",
       "      <th>t</th>\n",
       "      <th>r</th>\n",
       "      <th>u</th>\n",
       "      <th>k</th>\n",
       "      <th>g</th>\n",
       "      <th>p</th>\n",
       "    </tr>\n",
       "  </thead>\n",
       "  <tbody>\n",
       "    <tr>\n",
       "      <th>a</th>\n",
       "      <td>0.870614</td>\n",
       "      <td>0.142055</td>\n",
       "      <td>0.869025</td>\n",
       "      <td>0.582124</td>\n",
       "      <td>0.672943</td>\n",
       "      <td>0.789636</td>\n",
       "      <td>0.107310</td>\n",
       "      <td>0.245184</td>\n",
       "    </tr>\n",
       "    <tr>\n",
       "      <th>b</th>\n",
       "      <td>0.467755</td>\n",
       "      <td>0.308701</td>\n",
       "      <td>0.071893</td>\n",
       "      <td>0.799399</td>\n",
       "      <td>0.012157</td>\n",
       "      <td>0.422921</td>\n",
       "      <td>0.140400</td>\n",
       "      <td>0.624843</td>\n",
       "    </tr>\n",
       "    <tr>\n",
       "      <th>c</th>\n",
       "      <td>0.198052</td>\n",
       "      <td>0.095390</td>\n",
       "      <td>0.584612</td>\n",
       "      <td>0.699259</td>\n",
       "      <td>0.762404</td>\n",
       "      <td>0.015653</td>\n",
       "      <td>0.327003</td>\n",
       "      <td>0.119103</td>\n",
       "    </tr>\n",
       "    <tr>\n",
       "      <th>d</th>\n",
       "      <td>0.952261</td>\n",
       "      <td>0.581202</td>\n",
       "      <td>0.742943</td>\n",
       "      <td>0.904483</td>\n",
       "      <td>0.801761</td>\n",
       "      <td>0.407386</td>\n",
       "      <td>0.060644</td>\n",
       "      <td>0.436363</td>\n",
       "    </tr>\n",
       "  </tbody>\n",
       "</table>\n",
       "</div>"
      ],
      "text/plain": [
       "          z         y         t         r         u         k         g  \\\n",
       "a  0.870614  0.142055  0.869025  0.582124  0.672943  0.789636  0.107310   \n",
       "b  0.467755  0.308701  0.071893  0.799399  0.012157  0.422921  0.140400   \n",
       "c  0.198052  0.095390  0.584612  0.699259  0.762404  0.015653  0.327003   \n",
       "d  0.952261  0.581202  0.742943  0.904483  0.801761  0.407386  0.060644   \n",
       "\n",
       "          p  \n",
       "a  0.245184  \n",
       "b  0.624843  \n",
       "c  0.119103  \n",
       "d  0.436363  "
      ]
     },
     "execution_count": 29,
     "metadata": {},
     "output_type": "execute_result"
    }
   ],
   "source": [
    "df=pd.DataFrame(rand(4,8),index='a b c d'.split(),columns='z y t r u k g p'.split())\n",
    "df"
   ]
  },
  {
   "cell_type": "code",
   "execution_count": 31,
   "metadata": {},
   "outputs": [
    {
     "data": {
      "text/plain": [
       "z    0.870614\n",
       "y    0.142055\n",
       "t    0.869025\n",
       "r    0.582124\n",
       "u    0.672943\n",
       "k    0.789636\n",
       "g    0.107310\n",
       "p    0.245184\n",
       "Name: a, dtype: float64"
      ]
     },
     "execution_count": 31,
     "metadata": {},
     "output_type": "execute_result"
    }
   ],
   "source": [
    "df.loc['a']"
   ]
  },
  {
   "cell_type": "code",
   "execution_count": 35,
   "metadata": {},
   "outputs": [
    {
     "data": {
      "text/plain": [
       "z    0.198052\n",
       "y    0.095390\n",
       "t    0.584612\n",
       "r    0.699259\n",
       "u    0.762404\n",
       "k    0.015653\n",
       "g    0.327003\n",
       "p    0.119103\n",
       "Name: c, dtype: float64"
      ]
     },
     "execution_count": 35,
     "metadata": {},
     "output_type": "execute_result"
    }
   ],
   "source": [
    "df.iloc[2]"
   ]
  },
  {
   "cell_type": "code",
   "execution_count": 39,
   "metadata": {},
   "outputs": [
    {
     "data": {
      "text/html": [
       "<div>\n",
       "<style scoped>\n",
       "    .dataframe tbody tr th:only-of-type {\n",
       "        vertical-align: middle;\n",
       "    }\n",
       "\n",
       "    .dataframe tbody tr th {\n",
       "        vertical-align: top;\n",
       "    }\n",
       "\n",
       "    .dataframe thead th {\n",
       "        text-align: right;\n",
       "    }\n",
       "</style>\n",
       "<table border=\"1\" class=\"dataframe\">\n",
       "  <thead>\n",
       "    <tr style=\"text-align: right;\">\n",
       "      <th></th>\n",
       "      <th>index</th>\n",
       "      <th>z</th>\n",
       "      <th>y</th>\n",
       "      <th>t</th>\n",
       "      <th>r</th>\n",
       "      <th>u</th>\n",
       "      <th>k</th>\n",
       "      <th>g</th>\n",
       "      <th>p</th>\n",
       "    </tr>\n",
       "  </thead>\n",
       "  <tbody>\n",
       "    <tr>\n",
       "      <th>0</th>\n",
       "      <td>a</td>\n",
       "      <td>0.870614</td>\n",
       "      <td>0.142055</td>\n",
       "      <td>0.869025</td>\n",
       "      <td>0.582124</td>\n",
       "      <td>0.672943</td>\n",
       "      <td>0.789636</td>\n",
       "      <td>0.107310</td>\n",
       "      <td>0.245184</td>\n",
       "    </tr>\n",
       "    <tr>\n",
       "      <th>1</th>\n",
       "      <td>b</td>\n",
       "      <td>0.467755</td>\n",
       "      <td>0.308701</td>\n",
       "      <td>0.071893</td>\n",
       "      <td>0.799399</td>\n",
       "      <td>0.012157</td>\n",
       "      <td>0.422921</td>\n",
       "      <td>0.140400</td>\n",
       "      <td>0.624843</td>\n",
       "    </tr>\n",
       "    <tr>\n",
       "      <th>2</th>\n",
       "      <td>c</td>\n",
       "      <td>0.198052</td>\n",
       "      <td>0.095390</td>\n",
       "      <td>0.584612</td>\n",
       "      <td>0.699259</td>\n",
       "      <td>0.762404</td>\n",
       "      <td>0.015653</td>\n",
       "      <td>0.327003</td>\n",
       "      <td>0.119103</td>\n",
       "    </tr>\n",
       "    <tr>\n",
       "      <th>3</th>\n",
       "      <td>d</td>\n",
       "      <td>0.952261</td>\n",
       "      <td>0.581202</td>\n",
       "      <td>0.742943</td>\n",
       "      <td>0.904483</td>\n",
       "      <td>0.801761</td>\n",
       "      <td>0.407386</td>\n",
       "      <td>0.060644</td>\n",
       "      <td>0.436363</td>\n",
       "    </tr>\n",
       "  </tbody>\n",
       "</table>\n",
       "</div>"
      ],
      "text/plain": [
       "  index         z         y         t         r         u         k         g  \\\n",
       "0     a  0.870614  0.142055  0.869025  0.582124  0.672943  0.789636  0.107310   \n",
       "1     b  0.467755  0.308701  0.071893  0.799399  0.012157  0.422921  0.140400   \n",
       "2     c  0.198052  0.095390  0.584612  0.699259  0.762404  0.015653  0.327003   \n",
       "3     d  0.952261  0.581202  0.742943  0.904483  0.801761  0.407386  0.060644   \n",
       "\n",
       "          p  \n",
       "0  0.245184  \n",
       "1  0.624843  \n",
       "2  0.119103  \n",
       "3  0.436363  "
      ]
     },
     "execution_count": 39,
     "metadata": {},
     "output_type": "execute_result"
    }
   ],
   "source": [
    "df.reset_index()"
   ]
  },
  {
   "cell_type": "code",
   "execution_count": 40,
   "metadata": {},
   "outputs": [
    {
     "name": "stdout",
     "output_type": "stream",
     "text": [
      "<class 'pandas.core.frame.DataFrame'>\n",
      "Index: 4 entries, a to d\n",
      "Data columns (total 8 columns):\n",
      " #   Column  Non-Null Count  Dtype  \n",
      "---  ------  --------------  -----  \n",
      " 0   z       4 non-null      float64\n",
      " 1   y       4 non-null      float64\n",
      " 2   t       4 non-null      float64\n",
      " 3   r       4 non-null      float64\n",
      " 4   u       4 non-null      float64\n",
      " 5   k       4 non-null      float64\n",
      " 6   g       4 non-null      float64\n",
      " 7   p       4 non-null      float64\n",
      "dtypes: float64(8)\n",
      "memory usage: 448.0+ bytes\n"
     ]
    }
   ],
   "source": [
    "df.info()"
   ]
  },
  {
   "cell_type": "code",
   "execution_count": 42,
   "metadata": {},
   "outputs": [
    {
     "data": {
      "text/html": [
       "<div>\n",
       "<style scoped>\n",
       "    .dataframe tbody tr th:only-of-type {\n",
       "        vertical-align: middle;\n",
       "    }\n",
       "\n",
       "    .dataframe tbody tr th {\n",
       "        vertical-align: top;\n",
       "    }\n",
       "\n",
       "    .dataframe thead th {\n",
       "        text-align: right;\n",
       "    }\n",
       "</style>\n",
       "<table border=\"1\" class=\"dataframe\">\n",
       "  <thead>\n",
       "    <tr style=\"text-align: right;\">\n",
       "      <th></th>\n",
       "      <th>z</th>\n",
       "      <th>y</th>\n",
       "      <th>t</th>\n",
       "      <th>r</th>\n",
       "      <th>u</th>\n",
       "      <th>k</th>\n",
       "      <th>g</th>\n",
       "      <th>p</th>\n",
       "    </tr>\n",
       "  </thead>\n",
       "  <tbody>\n",
       "    <tr>\n",
       "      <th>count</th>\n",
       "      <td>4.000000</td>\n",
       "      <td>4.000000</td>\n",
       "      <td>4.000000</td>\n",
       "      <td>4.000000</td>\n",
       "      <td>4.000000</td>\n",
       "      <td>4.000000</td>\n",
       "      <td>4.000000</td>\n",
       "      <td>4.000000</td>\n",
       "    </tr>\n",
       "    <tr>\n",
       "      <th>mean</th>\n",
       "      <td>0.622170</td>\n",
       "      <td>0.281837</td>\n",
       "      <td>0.567118</td>\n",
       "      <td>0.746316</td>\n",
       "      <td>0.562316</td>\n",
       "      <td>0.408899</td>\n",
       "      <td>0.158839</td>\n",
       "      <td>0.356373</td>\n",
       "    </tr>\n",
       "    <tr>\n",
       "      <th>std</th>\n",
       "      <td>0.353273</td>\n",
       "      <td>0.219577</td>\n",
       "      <td>0.350055</td>\n",
       "      <td>0.137850</td>\n",
       "      <td>0.370712</td>\n",
       "      <td>0.316124</td>\n",
       "      <td>0.116786</td>\n",
       "      <td>0.221461</td>\n",
       "    </tr>\n",
       "    <tr>\n",
       "      <th>min</th>\n",
       "      <td>0.198052</td>\n",
       "      <td>0.095390</td>\n",
       "      <td>0.071893</td>\n",
       "      <td>0.582124</td>\n",
       "      <td>0.012157</td>\n",
       "      <td>0.015653</td>\n",
       "      <td>0.060644</td>\n",
       "      <td>0.119103</td>\n",
       "    </tr>\n",
       "    <tr>\n",
       "      <th>25%</th>\n",
       "      <td>0.400329</td>\n",
       "      <td>0.130389</td>\n",
       "      <td>0.456432</td>\n",
       "      <td>0.669975</td>\n",
       "      <td>0.507747</td>\n",
       "      <td>0.309453</td>\n",
       "      <td>0.095643</td>\n",
       "      <td>0.213664</td>\n",
       "    </tr>\n",
       "    <tr>\n",
       "      <th>50%</th>\n",
       "      <td>0.669184</td>\n",
       "      <td>0.225378</td>\n",
       "      <td>0.663777</td>\n",
       "      <td>0.749329</td>\n",
       "      <td>0.717674</td>\n",
       "      <td>0.415153</td>\n",
       "      <td>0.123855</td>\n",
       "      <td>0.340774</td>\n",
       "    </tr>\n",
       "    <tr>\n",
       "      <th>75%</th>\n",
       "      <td>0.891026</td>\n",
       "      <td>0.376826</td>\n",
       "      <td>0.774463</td>\n",
       "      <td>0.825670</td>\n",
       "      <td>0.772243</td>\n",
       "      <td>0.514600</td>\n",
       "      <td>0.187051</td>\n",
       "      <td>0.483483</td>\n",
       "    </tr>\n",
       "    <tr>\n",
       "      <th>max</th>\n",
       "      <td>0.952261</td>\n",
       "      <td>0.581202</td>\n",
       "      <td>0.869025</td>\n",
       "      <td>0.904483</td>\n",
       "      <td>0.801761</td>\n",
       "      <td>0.789636</td>\n",
       "      <td>0.327003</td>\n",
       "      <td>0.624843</td>\n",
       "    </tr>\n",
       "  </tbody>\n",
       "</table>\n",
       "</div>"
      ],
      "text/plain": [
       "              z         y         t         r         u         k         g  \\\n",
       "count  4.000000  4.000000  4.000000  4.000000  4.000000  4.000000  4.000000   \n",
       "mean   0.622170  0.281837  0.567118  0.746316  0.562316  0.408899  0.158839   \n",
       "std    0.353273  0.219577  0.350055  0.137850  0.370712  0.316124  0.116786   \n",
       "min    0.198052  0.095390  0.071893  0.582124  0.012157  0.015653  0.060644   \n",
       "25%    0.400329  0.130389  0.456432  0.669975  0.507747  0.309453  0.095643   \n",
       "50%    0.669184  0.225378  0.663777  0.749329  0.717674  0.415153  0.123855   \n",
       "75%    0.891026  0.376826  0.774463  0.825670  0.772243  0.514600  0.187051   \n",
       "max    0.952261  0.581202  0.869025  0.904483  0.801761  0.789636  0.327003   \n",
       "\n",
       "              p  \n",
       "count  4.000000  \n",
       "mean   0.356373  \n",
       "std    0.221461  \n",
       "min    0.119103  \n",
       "25%    0.213664  \n",
       "50%    0.340774  \n",
       "75%    0.483483  \n",
       "max    0.624843  "
      ]
     },
     "execution_count": 42,
     "metadata": {},
     "output_type": "execute_result"
    }
   ],
   "source": [
    "df.describe()"
   ]
  },
  {
   "cell_type": "code",
   "execution_count": 43,
   "metadata": {},
   "outputs": [
    {
     "name": "stdout",
     "output_type": "stream",
     "text": [
      "[2, 3, 4, 5]\n"
     ]
    }
   ],
   "source": [
    "fox=[1,2,3,4]\n",
    "rat=[num+1 for num in fox]\n",
    "print(rat)"
   ]
  },
  {
   "cell_type": "code",
   "execution_count": 44,
   "metadata": {},
   "outputs": [
    {
     "name": "stdout",
     "output_type": "stream",
     "text": [
      "[2, 3, 4, 5]\n"
     ]
    }
   ],
   "source": [
    "fox=[1,2,3,4]\n",
    "rat=[]\n",
    "for num in fox:\n",
    "    rat.append(num+1)\n",
    "print(rat)"
   ]
  },
  {
   "cell_type": "code",
   "execution_count": 46,
   "metadata": {},
   "outputs": [
    {
     "name": "stdout",
     "output_type": "stream",
     "text": [
      "[0, 1, 2, 3, 4, 5, 6, 7, 8, 9]\n"
     ]
    }
   ],
   "source": [
    "hen=[num for num in range(10)]\n",
    "print(hen)"
   ]
  },
  {
   "cell_type": "code",
   "execution_count": 48,
   "metadata": {},
   "outputs": [
    {
     "name": "stdout",
     "output_type": "stream",
     "text": [
      "None\n"
     ]
    }
   ],
   "source": [
    "rab=[]\n",
    "rab=hen.append(num+1)\n",
    "print(rab)"
   ]
  },
  {
   "cell_type": "code",
   "execution_count": null,
   "metadata": {},
   "outputs": [],
   "source": []
  }
 ],
 "metadata": {
  "kernelspec": {
   "display_name": "Python 3",
   "language": "python",
   "name": "python3"
  },
  "language_info": {
   "codemirror_mode": {
    "name": "ipython",
    "version": 3
   },
   "file_extension": ".py",
   "mimetype": "text/x-python",
   "name": "python",
   "nbconvert_exporter": "python",
   "pygments_lexer": "ipython3",
   "version": "3.8.3"
  }
 },
 "nbformat": 4,
 "nbformat_minor": 4
}
