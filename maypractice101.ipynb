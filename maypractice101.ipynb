{
 "cells": [
  {
   "cell_type": "code",
   "execution_count": 2,
   "id": "c4453865",
   "metadata": {},
   "outputs": [
    {
     "name": "stdout",
     "output_type": "stream",
     "text": [
      "[3, 4, 5]\n"
     ]
    }
   ],
   "source": [
    "hen=[2,3,4]\n",
    "rat=[num+1 for num in hen]\n",
    "print(rat)"
   ]
  },
  {
   "cell_type": "code",
   "execution_count": 3,
   "id": "14d5d1db",
   "metadata": {},
   "outputs": [
    {
     "name": "stdout",
     "output_type": "stream",
     "text": [
      "[8, 9, 11]\n"
     ]
    }
   ],
   "source": [
    "man=[3,4,6]\n",
    "boy=[]\n",
    "for num in man:\n",
    "    boy.append(num+5)\n",
    "print(boy)"
   ]
  },
  {
   "cell_type": "code",
   "execution_count": 4,
   "id": "03557b11",
   "metadata": {},
   "outputs": [
    {
     "name": "stdout",
     "output_type": "stream",
     "text": [
      "[5, 6, 7, 8, 9, 10, 11, 12, 13, 14, 15, 16, 17, 18, 19]\n"
     ]
    }
   ],
   "source": [
    "pen=[num for num in range(15)]\n",
    "bag=[]\n",
    "for num in pen:\n",
    "    bag.append(num+5)\n",
    "print(bag)\n"
   ]
  },
  {
   "cell_type": "code",
   "execution_count": 6,
   "id": "b0308232",
   "metadata": {},
   "outputs": [
    {
     "name": "stdout",
     "output_type": "stream",
     "text": [
      "[['emma', 2.3, 'toy', 4], ['fox', 3, 'toy', 4], ['pen', 8, 'toy', 4], ['rat', 'hen', 'toy', 4]]\n"
     ]
    }
   ],
   "source": [
    "fam=[['emma',2.3],['fox',3],['pen',8],['rat','hen']]\n",
    "fam2=[]\n",
    "for num in fam:\n",
    "    fam2.append(num +['toy',4])\n",
    "print(fam2)\n",
    "    "
   ]
  },
  {
   "cell_type": "code",
   "execution_count": null,
   "id": "288b4148",
   "metadata": {},
   "outputs": [],
   "source": []
  }
 ],
 "metadata": {
  "kernelspec": {
   "display_name": "Python 3 (ipykernel)",
   "language": "python",
   "name": "python3"
  },
  "language_info": {
   "codemirror_mode": {
    "name": "ipython",
    "version": 3
   },
   "file_extension": ".py",
   "mimetype": "text/x-python",
   "name": "python",
   "nbconvert_exporter": "python",
   "pygments_lexer": "ipython3",
   "version": "3.9.12"
  }
 },
 "nbformat": 4,
 "nbformat_minor": 5
}
