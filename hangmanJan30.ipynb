{
 "cells": [
  {
   "cell_type": "code",
   "execution_count": 1,
   "metadata": {},
   "outputs": [
    {
     "name": "stdout",
     "output_type": "stream",
     "text": [
      "1:come to work\n",
      "2:dont come to work\n",
      "if you wake up late for work,what will you do?1\n",
      "1:drive as fast as possible\n",
      "2:go back to sleep\n",
      "both have consiquences1\n",
      "you will get an over speed ticket but you will safe your job\n"
     ]
    }
   ],
   "source": [
    "#assignment 2\n",
    "#RPG Role playing\n",
    "print('1:come to work')\n",
    "print('2:dont come to work')\n",
    "ans=input('if you wake up late for work,what will you do?')\n",
    "if ans=='1':\n",
    "    print('1:drive as fast as possible')\n",
    "    print('2:go back to sleep')\n",
    "    ans=input('both have consiquences')\n",
    "    if ans=='1':\n",
    "        print('you will get an over speed ticket but you will safe your job')\n",
    "    elif ans=='2':\n",
    "        print('enjoy your sleep and risk getting fired')\n",
    "elif ans=='2':\n",
    "    print('1:eat before sleeping')\n",
    "    print('2:drink before sleeping')\n",
    "    ans=input('get drunk and forget everything?')"
   ]
  },
  {
   "cell_type": "markdown",
   "metadata": {},
   "source": [
    "a_num=['math','english','french']\n",
    "print(type('a_num'))"
   ]
  },
  {
   "cell_type": "code",
   "execution_count": null,
   "metadata": {},
   "outputs": [],
   "source": [
    "a_num.insert(1,'pysics')\n",
    "print(a_num)"
   ]
  },
  {
   "cell_type": "code",
   "execution_count": null,
   "metadata": {},
   "outputs": [],
   "source": []
  },
  {
   "cell_type": "code",
   "execution_count": null,
   "metadata": {},
   "outputs": [],
   "source": [
    "a_num.remove('french')\n",
    "a_num"
   ]
  },
  {
   "cell_type": "code",
   "execution_count": 5,
   "metadata": {},
   "outputs": [
    {
     "name": "stdout",
     "output_type": "stream",
     "text": [
      "i will go to the party\n"
     ]
    }
   ],
   "source": [
    "x='dark'\n",
    "if x=='dark':\n",
    "    print('i will go to the party')\n",
    "else:\n",
    "    print('i will not go to the party')"
   ]
  },
  {
   "cell_type": "code",
   "execution_count": 7,
   "metadata": {},
   "outputs": [
    {
     "name": "stdout",
     "output_type": "stream",
     "text": [
      "welcome\n"
     ]
    }
   ],
   "source": [
    "x='bank'\n",
    "if x=='school':\n",
    "    print('not welcomed')\n",
    "elif x=='bank':\n",
    "    print('welcome')\n",
    "else:\n",
    "    print('you are lost')"
   ]
  },
  {
   "cell_type": "code",
   "execution_count": 8,
   "metadata": {},
   "outputs": [
    {
     "name": "stdout",
     "output_type": "stream",
     "text": [
      "any number100\n",
      "a is an even number\n"
     ]
    }
   ],
   "source": [
    "a=int(input('any number'))\n",
    "if a=='even number':\n",
    "    print('even number')\n",
    "elif a=='odd number':\n",
    "    print('odd number')\n",
    "elif a%2==0:\n",
    "    print('a is an even number')\n",
    "else:\n",
    "    print(a)"
   ]
  },
  {
   "cell_type": "code",
   "execution_count": 9,
   "metadata": {},
   "outputs": [
    {
     "name": "stdout",
     "output_type": "stream",
     "text": [
      "user input10\n",
      "user input20\n",
      "user input30\n",
      "10\n"
     ]
    }
   ],
   "source": [
    "a=int(input('user input'))\n",
    "b=int(input('user input'))\n",
    "c=int(input('user input'))\n",
    "if (a<b or a>c) and (a>b or a<c):\n",
    "    print(a)\n",
    "elif (b<c or b>a) and (b>c or b<c):\n",
    "    print(b)\n",
    "elif(a==b) or (a==c) or (b==c):\n",
    "    print('no mid num')\n",
    "else:\n",
    "    print(c)\n",
    "    \n"
   ]
  },
  {
   "cell_type": "code",
   "execution_count": 12,
   "metadata": {},
   "outputs": [
    {
     "name": "stdout",
     "output_type": "stream",
     "text": [
      "user num2\n",
      "user num10\n"
     ]
    },
    {
     "ename": "AttributeError",
     "evalue": "'str' object has no attribute 'tittle'",
     "output_type": "error",
     "traceback": [
      "\u001b[0;31m---------------------------------------------------------------------------\u001b[0m",
      "\u001b[0;31mAttributeError\u001b[0m                            Traceback (most recent call last)",
      "\u001b[0;32m<ipython-input-12-f60833449b96>\u001b[0m in \u001b[0;36m<module>\u001b[0;34m\u001b[0m\n\u001b[1;32m      3\u001b[0m \u001b[0mnum_1\u001b[0m\u001b[0;34m=\u001b[0m\u001b[0mint\u001b[0m\u001b[0;34m(\u001b[0m\u001b[0minput\u001b[0m\u001b[0;34m(\u001b[0m\u001b[0;34m'user num'\u001b[0m\u001b[0;34m)\u001b[0m\u001b[0;34m)\u001b[0m\u001b[0;34m\u001b[0m\u001b[0;34m\u001b[0m\u001b[0m\n\u001b[1;32m      4\u001b[0m \u001b[0;32mfor\u001b[0m \u001b[0mi\u001b[0m \u001b[0;32min\u001b[0m \u001b[0mrange\u001b[0m\u001b[0;34m(\u001b[0m\u001b[0mnum\u001b[0m\u001b[0;34m,\u001b[0m\u001b[0mnum_1\u001b[0m\u001b[0;34m+\u001b[0m\u001b[0;36m1\u001b[0m\u001b[0;34m,\u001b[0m\u001b[0;36m2\u001b[0m\u001b[0;34m)\u001b[0m\u001b[0;34m:\u001b[0m\u001b[0;34m\u001b[0m\u001b[0;34m\u001b[0m\u001b[0m\n\u001b[0;32m----> 5\u001b[0;31m     \u001b[0mprint\u001b[0m\u001b[0;34m(\u001b[0m\u001b[0;34m'\\t{}'\u001b[0m\u001b[0;34m.\u001b[0m\u001b[0mformat\u001b[0m\u001b[0;34m(\u001b[0m\u001b[0;34m'name'\u001b[0m\u001b[0;34m.\u001b[0m\u001b[0mtittle\u001b[0m\u001b[0;34m(\u001b[0m\u001b[0;34m)\u001b[0m\u001b[0;34m,\u001b[0m\u001b[0mi\u001b[0m\u001b[0;34m)\u001b[0m\u001b[0;34m)\u001b[0m\u001b[0;34m\u001b[0m\u001b[0;34m\u001b[0m\u001b[0m\n\u001b[0m",
      "\u001b[0;31mAttributeError\u001b[0m: 'str' object has no attribute 'tittle'"
     ]
    }
   ],
   "source": [
    "name='in'\n",
    "num=int(input('user num'))\n",
    "num_1=int(input('user num'))\n",
    "for i in range(num,num_1+1,2):\n",
    "    print('\\t{}'.format('name'.tittle(),i))"
   ]
  },
  {
   "cell_type": "code",
   "execution_count": null,
   "metadata": {},
   "outputs": [],
   "source": []
  }
 ],
 "metadata": {
  "kernelspec": {
   "display_name": "Python 3",
   "language": "python",
   "name": "python3"
  },
  "language_info": {
   "codemirror_mode": {
    "name": "ipython",
    "version": 3
   },
   "file_extension": ".py",
   "mimetype": "text/x-python",
   "name": "python",
   "nbconvert_exporter": "python",
   "pygments_lexer": "ipython3",
   "version": "3.8.3"
  }
 },
 "nbformat": 4,
 "nbformat_minor": 4
}
