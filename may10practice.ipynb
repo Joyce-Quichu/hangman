{
 "cells": [
  {
   "cell_type": "code",
   "execution_count": null,
   "metadata": {},
   "outputs": [],
   "source": [
    "lst=int(input('user num'))\n",
    "lst_sum=0\n",
    "for i in range(2,lst):\n",
    "    lst_sum=lst_sum+i\n",
    "print(lst_sum)"
   ]
  },
  {
   "cell_type": "code",
   "execution_count": null,
   "metadata": {},
   "outputs": [],
   "source": [
    "mul=int(input('user num'))\n",
    "mul_lst=1\n",
    "for i in range(1,mul):\n",
    "    mul_lst=mul_lst*i\n",
    "print(mul_lst)\n"
   ]
  },
  {
   "cell_type": "code",
   "execution_count": null,
   "metadata": {},
   "outputs": [],
   "source": [
    "fox=[1,2,3,4,5]\n",
    "hen=[num+1 for num in fox]\n",
    "print(hen)"
   ]
  },
  {
   "cell_type": "code",
   "execution_count": null,
   "metadata": {},
   "outputs": [],
   "source": [
    "hen=[num+1 for num in range(10)]\n",
    "print(hen)"
   ]
  },
  {
   "cell_type": "code",
   "execution_count": 6,
   "metadata": {},
   "outputs": [
    {
     "name": "stdout",
     "output_type": "stream",
     "text": [
      "user number7\n",
      "its not a prime number\n"
     ]
    }
   ],
   "source": [
    "chil=int(input('user number'))\n",
    "chil_sum=0\n",
    "for i in range(1,chil):\n",
    "    if chil%i==0:\n",
    "        chil_sum=chil_sum+i\n",
    "if chil==0:\n",
    "    print('its a prime number')\n",
    "else:\n",
    "    print('its not a prime number')\n",
    "    "
   ]
  },
  {
   "cell_type": "code",
   "execution_count": null,
   "metadata": {},
   "outputs": [],
   "source": []
  }
 ],
 "metadata": {
  "kernelspec": {
   "display_name": "Python 3",
   "language": "python",
   "name": "python3"
  },
  "language_info": {
   "codemirror_mode": {
    "name": "ipython",
    "version": 3
   },
   "file_extension": ".py",
   "mimetype": "text/x-python",
   "name": "python",
   "nbconvert_exporter": "python",
   "pygments_lexer": "ipython3",
   "version": "3.8.3"
  }
 },
 "nbformat": 4,
 "nbformat_minor": 4
}
