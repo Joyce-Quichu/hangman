{
 "cells": [
  {
   "cell_type": "code",
   "execution_count": 1,
   "metadata": {},
   "outputs": [],
   "source": [
    "from datetime import date\n",
    "\n",
    "class joyce:\n",
    "    \n",
    "    def __init__(self,name,age):\n",
    "        self.name=name\n",
    "        self.age=age\n",
    "    @classmethod\n",
    "    \n",
    "    def description(cls,name,year):\n",
    "        return cls(name,date.today().year-year)\n",
    "        "
   ]
  },
  {
   "cell_type": "code",
   "execution_count": 2,
   "metadata": {},
   "outputs": [
    {
     "data": {
      "text/plain": [
       "('sam', 15)"
      ]
     },
     "execution_count": 2,
     "metadata": {},
     "output_type": "execute_result"
    }
   ],
   "source": [
    "obj=joyce('sam',15)\n",
    "obj.name,obj.age"
   ]
  },
  {
   "cell_type": "code",
   "execution_count": 3,
   "metadata": {},
   "outputs": [
    {
     "data": {
      "text/plain": [
       "('chris', 21)"
      ]
     },
     "execution_count": 3,
     "metadata": {},
     "output_type": "execute_result"
    }
   ],
   "source": [
    "obj1=joyce.description('chris',2000)\n",
    "obj1.name,obj1.age"
   ]
  },
  {
   "cell_type": "code",
   "execution_count": null,
   "metadata": {},
   "outputs": [],
   "source": [
    "obj1.name,obj1("
   ]
  },
  {
   "cell_type": "code",
   "execution_count": null,
   "metadata": {},
   "outputs": [],
   "source": [
    "import random\n",
    "def main():\n",
    "    print('guess a number between 1 and 100')\n",
    "    randomNumber=random.randint(1,100)\n",
    "    found=False\n",
    "    \n",
    "    while not found:\n",
    "        user=int(input('guess'))\n",
    "        \n",
    "        if user == randomNumber:\n",
    "            print('guessed correctly')\n",
    "            found=True\n",
    "            \n",
    "        elif user > randomNumber:\n",
    "            print('guess lower number')\n",
    "            \n",
    "        else:\n",
    "            print('guess higher number')\n",
    "\n",
    "if __name__=='__main__':\n",
    "    main()\n",
    "            \n",
    "            \n",
    "        \n",
    "    "
   ]
  },
  {
   "cell_type": "code",
   "execution_count": null,
   "metadata": {},
   "outputs": [],
   "source": []
  }
 ],
 "metadata": {
  "kernelspec": {
   "display_name": "Python 3",
   "language": "python",
   "name": "python3"
  },
  "language_info": {
   "codemirror_mode": {
    "name": "ipython",
    "version": 3
   },
   "file_extension": ".py",
   "mimetype": "text/x-python",
   "name": "python",
   "nbconvert_exporter": "python",
   "pygments_lexer": "ipython3",
   "version": "3.8.3"
  }
 },
 "nbformat": 4,
 "nbformat_minor": 4
}
