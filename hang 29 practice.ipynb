{
 "cells": [
  {
   "cell_type": "code",
   "execution_count": 1,
   "metadata": {},
   "outputs": [],
   "source": [
    "#armstrong numbers\n",
    "def arm_n(num):\n",
    "    sum=0\n",
    "    lst=0\n",
    "    while lst>0:\n",
    "        mod=lst%10\n",
    "        sum+=mod**3\n",
    "        lst=lst//10\n",
    "    if num==sum:\n",
    "        print('arm num')\n",
    "    else:\n",
    "        print('not an arm num')\n",
    "    "
   ]
  },
  {
   "cell_type": "code",
   "execution_count": 2,
   "metadata": {},
   "outputs": [
    {
     "name": "stdout",
     "output_type": "stream",
     "text": [
      "not an arm num\n"
     ]
    }
   ],
   "source": [
    "arm_n(153)"
   ]
  },
  {
   "cell_type": "code",
   "execution_count": null,
   "metadata": {},
   "outputs": [],
   "source": [
    "def check_no(num):\n",
    "    s=0\n",
    "    i=10\n",
    "    while s<num:\n",
    "        deg=0\n",
    "        a=i\n",
    "        while a<0:\n",
    "            deg+=1\n",
    "            a//10\n",
    "        a=i\n",
    "        arm=0\n",
    "        while a>0:\n",
    "            mod=arm%10\n",
    "            arm=mod**deg\n",
    "            a=a//10\n",
    "    if arm==i:\n",
    "        print(i)\n",
    "        s+=1\n",
    "        i+=1\n",
    "    \n",
    "    \n"
   ]
  },
  {
   "cell_type": "code",
   "execution_count": null,
   "metadata": {},
   "outputs": [],
   "source": [
    "check_no(5)"
   ]
  },
  {
   "cell_type": "code",
   "execution_count": null,
   "metadata": {},
   "outputs": [],
   "source": [
    "from random import choice\n",
    "from IPython display import clear output\n",
    "word=['tree','basket','chair','paper','python']\n",
    "word=choice words\n",
    "guessed,lives,game_over=[],7,False\n",
    "guessed=['_']*len(word)\n",
    "while game not over:\n",
    "    hidden_word=''.join"
   ]
  },
  {
   "cell_type": "code",
   "execution_count": 11,
   "metadata": {},
   "outputs": [],
   "source": [
    "def leap_check(year):\n",
    "        if (year%4)==0:\n",
    "            if (year%100)==0:\n",
    "                if (year%400)==0:\n",
    "                    prin(True)\n",
    "                else:\n",
    "                    print(False)\n",
    "            else:\n",
    "                print(True)\n",
    "        else:\n",
    "            print(False)\n",
    "    "
   ]
  },
  {
   "cell_type": "code",
   "execution_count": 12,
   "metadata": {},
   "outputs": [
    {
     "name": "stdout",
     "output_type": "stream",
     "text": [
      "False\n"
     ]
    }
   ],
   "source": [
    "leap_check(1700)"
   ]
  },
  {
   "cell_type": "code",
   "execution_count": 26,
   "metadata": {},
   "outputs": [],
   "source": [
    "def year_check(leap):\n",
    "    if (leap%400)==0:\n",
    "        print('its a leap year')\n",
    "    elif (leap%100)==0:\n",
    "        print('its not a leap year')\n",
    "    elif (leap%4)==0:\n",
    "        print('its a leap year')\n",
    "    else:\n",
    "        print('its not a leap year')"
   ]
  },
  {
   "cell_type": "code",
   "execution_count": 27,
   "metadata": {},
   "outputs": [
    {
     "name": "stdout",
     "output_type": "stream",
     "text": [
      "its not a leap year\n"
     ]
    }
   ],
   "source": [
    "year_check(1700)"
   ]
  },
  {
   "cell_type": "code",
   "execution_count": 30,
   "metadata": {},
   "outputs": [
    {
     "ename": "SyntaxError",
     "evalue": "invalid syntax (<ipython-input-30-ebea9321bb04>, line 4)",
     "output_type": "error",
     "traceback": [
      "\u001b[0;36m  File \u001b[0;32m\"<ipython-input-30-ebea9321bb04>\"\u001b[0;36m, line \u001b[0;32m4\u001b[0m\n\u001b[0;31m    a= >=60\u001b[0m\n\u001b[0m       ^\u001b[0m\n\u001b[0;31mSyntaxError\u001b[0m\u001b[0;31m:\u001b[0m invalid syntax\n"
     ]
    }
   ],
   "source": [
    "def speed_check(ticket):\n",
    "    birthday=True\n",
    "    a= >=60\n",
    "    b= between 61 and 80\n",
    "    c= <=81\n",
    "    if ticket >=0 and ticket<=60:\n",
    "        print('no ticket')\n",
    "    elif ticket >=66 and ticket<=86:\n",
    "        print('small ticket')\n",
    "    elif ticket >=86:\n",
    "        print('big ticket')\n",
    "    else:\n",
    "        return True\n",
    "    \n",
    "    \n"
   ]
  },
  {
   "cell_type": "code",
   "execution_count": 31,
   "metadata": {},
   "outputs": [],
   "source": [
    "def speed_check(ticket,birthday):\n",
    "    if birthday==True:\n",
    "        if ticket <=65:\n",
    "            print('no ticket')\n",
    "        elif 66< ticket <=85:\n",
    "            print('small ticket')\n",
    "        else:\n",
    "            print('big ticket')\n",
    "    else:\n",
    "        if ticket <=60:\n",
    "            print('no ticket')\n",
    "        elif 61 < ticket <=80:\n",
    "            print('small ticket')\n",
    "        else:\n",
    "            print('big ticket')\n"
   ]
  },
  {
   "cell_type": "code",
   "execution_count": 35,
   "metadata": {},
   "outputs": [
    {
     "name": "stdout",
     "output_type": "stream",
     "text": [
      "big ticket\n"
     ]
    }
   ],
   "source": [
    "speed_check(66,True)"
   ]
  },
  {
   "cell_type": "code",
   "execution_count": 36,
   "metadata": {},
   "outputs": [
    {
     "name": "stdout",
     "output_type": "stream",
     "text": [
      "small ticket\n"
     ]
    }
   ],
   "source": [
    "speed_check(62,False)"
   ]
  },
  {
   "cell_type": "code",
   "execution_count": 37,
   "metadata": {},
   "outputs": [
    {
     "name": "stdout",
     "output_type": "stream",
     "text": [
      "no ticket\n"
     ]
    }
   ],
   "source": [
    "speed_check(62,True)"
   ]
  },
  {
   "cell_type": "code",
   "execution_count": 65,
   "metadata": {},
   "outputs": [],
   "source": [
    "def drom_check(num):\n",
    "    temp=num\n",
    "    inv=0\n",
    "    while num>0:\n",
    "        mod=num%10\n",
    "        inv=inv*10+mod\n",
    "        num=num//10\n",
    "    if temp==inv:\n",
    "        print('it is palindrome num')\n",
    "    else:\n",
    "        print('its not a palindrome num')\n",
    "        \n"
   ]
  },
  {
   "cell_type": "code",
   "execution_count": 66,
   "metadata": {},
   "outputs": [
    {
     "name": "stdout",
     "output_type": "stream",
     "text": [
      "it is palindrome num\n"
     ]
    }
   ],
   "source": [
    "drom_check(101)"
   ]
  },
  {
   "cell_type": "code",
   "execution_count": 67,
   "metadata": {},
   "outputs": [
    {
     "name": "stdout",
     "output_type": "stream",
     "text": [
      "it is palindrome num\n"
     ]
    }
   ],
   "source": [
    "drom_check(1001001)"
   ]
  },
  {
   "cell_type": "code",
   "execution_count": null,
   "metadata": {},
   "outputs": [],
   "source": []
  },
  {
   "cell_type": "code",
   "execution_count": null,
   "metadata": {},
   "outputs": [],
   "source": []
  },
  {
   "cell_type": "code",
   "execution_count": null,
   "metadata": {},
   "outputs": [],
   "source": []
  }
 ],
 "metadata": {
  "kernelspec": {
   "display_name": "Python 3",
   "language": "python",
   "name": "python3"
  },
  "language_info": {
   "codemirror_mode": {
    "name": "ipython",
    "version": 3
   },
   "file_extension": ".py",
   "mimetype": "text/x-python",
   "name": "python",
   "nbconvert_exporter": "python",
   "pygments_lexer": "ipython3",
   "version": "3.8.3"
  }
 },
 "nbformat": 4,
 "nbformat_minor": 4
}
