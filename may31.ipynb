{
 "cells": [
  {
   "cell_type": "code",
   "execution_count": 1,
   "id": "a8735ea9",
   "metadata": {},
   "outputs": [
    {
     "name": "stdout",
     "output_type": "stream",
     "text": [
      "[['mark', 20, 'ken', 30], ['nat', 50, 'ken', 30], ['net', 50, 'ken', 30], ['mel', 70, 'ken', 30]]\n"
     ]
    }
   ],
   "source": [
    "james=[['mark',20],['nat',50],['net',50],['mel',70]]\n",
    "nik=[]\n",
    "for num in james:\n",
    "    nik.append(num+ ['ken',30])\n",
    "print(nik)"
   ]
  },
  {
   "cell_type": "code",
   "execution_count": 3,
   "id": "9f1cfd3a",
   "metadata": {},
   "outputs": [
    {
     "ename": "SyntaxError",
     "evalue": "invalid syntax (2412207394.py, line 2)",
     "output_type": "error",
     "traceback": [
      "\u001b[0;36m  Input \u001b[0;32mIn [3]\u001b[0;36m\u001b[0m\n\u001b[0;31m    hen[num+1 for num in pen]\u001b[0m\n\u001b[0m              ^\u001b[0m\n\u001b[0;31mSyntaxError\u001b[0m\u001b[0;31m:\u001b[0m invalid syntax\n"
     ]
    }
   ],
   "source": [
    "pen=[2,3,4,5,6,6]\n",
    "hen[num+1 for num in pen]\n",
    "hen.append(num+4)\n",
    "print(hen)"
   ]
  },
  {
   "cell_type": "code",
   "execution_count": 4,
   "id": "b944a8e4",
   "metadata": {},
   "outputs": [
    {
     "name": "stdout",
     "output_type": "stream",
     "text": [
      "[7, 8, 11, 12, 13]\n"
     ]
    }
   ],
   "source": [
    "fox=[2,3,6,7,8]\n",
    "mice=[]\n",
    "for num in fox:\n",
    "    mice .append(num+5)\n",
    "print(mice)\n"
   ]
  },
  {
   "cell_type": "code",
   "execution_count": null,
   "id": "6bf64158",
   "metadata": {},
   "outputs": [],
   "source": []
  }
 ],
 "metadata": {
  "kernelspec": {
   "display_name": "Python 3 (ipykernel)",
   "language": "python",
   "name": "python3"
  },
  "language_info": {
   "codemirror_mode": {
    "name": "ipython",
    "version": 3
   },
   "file_extension": ".py",
   "mimetype": "text/x-python",
   "name": "python",
   "nbconvert_exporter": "python",
   "pygments_lexer": "ipython3",
   "version": "3.9.12"
  }
 },
 "nbformat": 4,
 "nbformat_minor": 5
}
