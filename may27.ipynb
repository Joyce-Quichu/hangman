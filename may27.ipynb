{
 "cells": [
  {
   "cell_type": "code",
   "execution_count": 1,
   "id": "afdd4926",
   "metadata": {},
   "outputs": [
    {
     "name": "stdout",
     "output_type": "stream",
     "text": [
      "[6, 8, 10, 11, 11, 12, 12, 12, 13]\n"
     ]
    }
   ],
   "source": [
    "nam=[2,4,6,7,7,8,8,8,9,]\n",
    "fox=[]\n",
    "for num in nam:\n",
    "    fox.append(num+4)\n",
    "print(fox)"
   ]
  },
  {
   "cell_type": "code",
   "execution_count": 2,
   "id": "fa2f8505",
   "metadata": {},
   "outputs": [],
   "source": [
    "wap=[num for num in range(40)]\n"
   ]
  },
  {
   "cell_type": "code",
   "execution_count": 3,
   "id": "d4bbcf0f",
   "metadata": {},
   "outputs": [
    {
     "data": {
      "text/plain": [
       "[0,\n",
       " 1,\n",
       " 2,\n",
       " 3,\n",
       " 4,\n",
       " 5,\n",
       " 6,\n",
       " 7,\n",
       " 8,\n",
       " 9,\n",
       " 10,\n",
       " 11,\n",
       " 12,\n",
       " 13,\n",
       " 14,\n",
       " 15,\n",
       " 16,\n",
       " 17,\n",
       " 18,\n",
       " 19,\n",
       " 20,\n",
       " 21,\n",
       " 22,\n",
       " 23,\n",
       " 24,\n",
       " 25,\n",
       " 26,\n",
       " 27,\n",
       " 28,\n",
       " 29,\n",
       " 30,\n",
       " 31,\n",
       " 32,\n",
       " 33,\n",
       " 34,\n",
       " 35,\n",
       " 36,\n",
       " 37,\n",
       " 38,\n",
       " 39]"
      ]
     },
     "execution_count": 3,
     "metadata": {},
     "output_type": "execute_result"
    }
   ],
   "source": [
    "wap"
   ]
  },
  {
   "cell_type": "code",
   "execution_count": 5,
   "id": "216ebdb6",
   "metadata": {},
   "outputs": [],
   "source": [
    "wap.append(4)"
   ]
  },
  {
   "cell_type": "code",
   "execution_count": 6,
   "id": "5c3fe364",
   "metadata": {},
   "outputs": [
    {
     "data": {
      "text/plain": [
       "[0,\n",
       " 1,\n",
       " 2,\n",
       " 3,\n",
       " 4,\n",
       " 5,\n",
       " 6,\n",
       " 7,\n",
       " 8,\n",
       " 9,\n",
       " 10,\n",
       " 11,\n",
       " 12,\n",
       " 13,\n",
       " 14,\n",
       " 15,\n",
       " 16,\n",
       " 17,\n",
       " 18,\n",
       " 19,\n",
       " 20,\n",
       " 21,\n",
       " 22,\n",
       " 23,\n",
       " 24,\n",
       " 25,\n",
       " 26,\n",
       " 27,\n",
       " 28,\n",
       " 29,\n",
       " 30,\n",
       " 31,\n",
       " 32,\n",
       " 33,\n",
       " 34,\n",
       " 35,\n",
       " 36,\n",
       " 37,\n",
       " 38,\n",
       " 39,\n",
       " 4]"
      ]
     },
     "execution_count": 6,
     "metadata": {},
     "output_type": "execute_result"
    }
   ],
   "source": [
    "wap"
   ]
  },
  {
   "cell_type": "code",
   "execution_count": 8,
   "id": "0ba09a5e",
   "metadata": {},
   "outputs": [
    {
     "name": "stdout",
     "output_type": "stream",
     "text": [
      "[4, 5, 6, 7, 8, 9, 10, 11, 12, 13, 14, 15, 16, 17, 18, 19, 20, 21, 22, 23]\n"
     ]
    }
   ],
   "source": [
    "tem=[num for num in range(20)]\n",
    "fish=[]\n",
    "for num in tem:\n",
    "    fish.append(num+4)\n",
    "print(fish)"
   ]
  },
  {
   "cell_type": "code",
   "execution_count": 9,
   "id": "72a46885",
   "metadata": {},
   "outputs": [
    {
     "data": {
      "text/plain": [
       "[0, 1, 2, 3, 4, 5, 6, 7, 8, 9, 10, 11, 12, 13, 14, 15, 16, 17, 18, 19]"
      ]
     },
     "execution_count": 9,
     "metadata": {},
     "output_type": "execute_result"
    }
   ],
   "source": [
    "tem"
   ]
  },
  {
   "cell_type": "code",
   "execution_count": 10,
   "id": "e155ff09",
   "metadata": {},
   "outputs": [],
   "source": [
    "tem.append(17)"
   ]
  },
  {
   "cell_type": "code",
   "execution_count": 11,
   "id": "eae744f0",
   "metadata": {},
   "outputs": [
    {
     "data": {
      "text/plain": [
       "[0, 1, 2, 3, 4, 5, 6, 7, 8, 9, 10, 11, 12, 13, 14, 15, 16, 17, 18, 19, 17]"
      ]
     },
     "execution_count": 11,
     "metadata": {},
     "output_type": "execute_result"
    }
   ],
   "source": [
    "tem"
   ]
  },
  {
   "cell_type": "code",
   "execution_count": 13,
   "id": "35b5a82a",
   "metadata": {},
   "outputs": [
    {
     "name": "stdout",
     "output_type": "stream",
     "text": [
      "[['mice', 10, 'lease', 100], ['peach', 13, 'lease', 100], ['rice', 60, 'lease', 100], ['lolo', 30, 'lease', 100], ['buga', 30, 'lease', 100], ['tegha', 33, 'lease', 100]]\n"
     ]
    }
   ],
   "source": [
    "see=[['mice',10],['peach',13],['rice',60],['lolo',30],['buga',30],['tegha',33]]\n",
    "edge=[]\n",
    "for num in see:\n",
    "    edge.append(num+ ['lease',100])\n",
    "print(edge)"
   ]
  },
  {
   "cell_type": "code",
   "execution_count": 16,
   "id": "b38ea4fc",
   "metadata": {},
   "outputs": [
    {
     "data": {
      "text/plain": [
       "['buga', 30]"
      ]
     },
     "execution_count": 16,
     "metadata": {},
     "output_type": "execute_result"
    }
   ],
   "source": [
    "see[4]"
   ]
  },
  {
   "cell_type": "code",
   "execution_count": 20,
   "id": "0a92af0b",
   "metadata": {},
   "outputs": [],
   "source": [
    "see.append(['page',20])"
   ]
  },
  {
   "cell_type": "code",
   "execution_count": 18,
   "id": "a17a0959",
   "metadata": {},
   "outputs": [
    {
     "data": {
      "text/plain": [
       "[['mice', 10],\n",
       " ['peach', 13],\n",
       " ['rice', 60],\n",
       " ['lolo', 30],\n",
       " ['buga', 30],\n",
       " ['tegha', 33],\n",
       " ['page', 20]]"
      ]
     },
     "execution_count": 18,
     "metadata": {},
     "output_type": "execute_result"
    }
   ],
   "source": [
    "see"
   ]
  },
  {
   "cell_type": "code",
   "execution_count": 21,
   "id": "8b8cf91c",
   "metadata": {},
   "outputs": [
    {
     "data": {
      "text/plain": [
       "['tegha', 33]"
      ]
     },
     "execution_count": 21,
     "metadata": {},
     "output_type": "execute_result"
    }
   ],
   "source": [
    "see[-3]"
   ]
  },
  {
   "cell_type": "code",
   "execution_count": null,
   "id": "df6c750d",
   "metadata": {},
   "outputs": [],
   "source": []
  }
 ],
 "metadata": {
  "kernelspec": {
   "display_name": "Python 3 (ipykernel)",
   "language": "python",
   "name": "python3"
  },
  "language_info": {
   "codemirror_mode": {
    "name": "ipython",
    "version": 3
   },
   "file_extension": ".py",
   "mimetype": "text/x-python",
   "name": "python",
   "nbconvert_exporter": "python",
   "pygments_lexer": "ipython3",
   "version": "3.9.12"
  }
 },
 "nbformat": 4,
 "nbformat_minor": 5
}
